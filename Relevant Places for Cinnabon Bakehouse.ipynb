{
    "cells": [
        {
            "cell_type": "markdown",
            "metadata": {
                "collapsed": true
            },
            "source": "# Relevant Places for Cinnabon Bakehouse"
        },
        {
            "cell_type": "markdown",
            "metadata": {},
            "source": "Analysis of available places in Vladivostok city to open the Cinnabon bakehouse."
        },
        {
            "cell_type": "markdown",
            "metadata": {},
            "source": "Above all, load necessary libraries, set the <code>CLIENT_ID</code> and the <code>CLIENT_SECRET</code> and ect."
        },
        {
            "cell_type": "code",
            "execution_count": 2,
            "metadata": {},
            "outputs": [],
            "source": "# The code was removed by Watson Studio for sharing."
        },
        {
            "cell_type": "markdown",
            "metadata": {},
            "source": "## Place evaluation criteria"
        },
        {
            "cell_type": "markdown",
            "metadata": {},
            "source": "I will drop some criteria because of their estimation difficulty, writing code time-intensivity and the lack of data."
        },
        {
            "cell_type": "markdown",
            "metadata": {},
            "source": "+ __Bakehouses should be placed in the places with high capacitintense pedestrian flows:__\n    - major malls\n    - cinema"
        },
        {
            "cell_type": "markdown",
            "metadata": {},
            "source": "+ __Location of the best place:__\n    - the first floor of malls, next to the entrance\n    - having a close parking place, not far than 20 meters.\n    - the first line of houses"
        },
        {
            "cell_type": "markdown",
            "metadata": {},
            "source": "## Get a list of the major malls"
        },
        {
            "cell_type": "code",
            "execution_count": 3,
            "metadata": {},
            "outputs": [],
            "source": "mall_query = '\u0422\u043e\u0440\u0433\u043e\u0432\u044b\u0439 \u0446\u0435\u043d\u0442\u0440'"
        },
        {
            "cell_type": "markdown",
            "metadata": {},
            "source": "Define the URL for find the malls."
        },
        {
            "cell_type": "code",
            "execution_count": 4,
            "metadata": {},
            "outputs": [
                {
                    "data": {
                        "text/plain": "'https://api.foursquare.com/v2/venues/search?client_id=5KPM10HKO1V1ZA3NJI5Y5YQERX2CWFO13LD05YAQ1JPLONS5&client_secret=1VMF22DJYOZC2AZ3N200OTPF1FVHZNBUYAOSZI4H01CVBNNT&near=\u0412\u043b\u0430\u0434\u0438\u0432\u043e\u0441\u0442\u043e\u043a&v=20180604&query=\u0422\u043e\u0440\u0433\u043e\u0432\u044b\u0439 \u0446\u0435\u043d\u0442\u0440'"
                    },
                    "execution_count": 4,
                    "metadata": {},
                    "output_type": "execute_result"
                }
            ],
            "source": "url = 'https://api.foursquare.com/v2/venues/search?client_id={}&client_secret={}&near={}&v={}&query={}'.format(CLIENT_ID, CLIENT_SECRET, near, VERSION, mall_query)\nurl"
        },
        {
            "cell_type": "code",
            "execution_count": 5,
            "metadata": {},
            "outputs": [],
            "source": "results = requests.get(url).json()\n#results"
        },
        {
            "cell_type": "markdown",
            "metadata": {},
            "source": "'Nursery School'? Hmm, it is not exactly that I am, looking for. As We can see, Foursquare search engine works not enough accuracy.  "
        },
        {
            "cell_type": "markdown",
            "metadata": {},
            "source": "### Data cleaning"
        },
        {
            "cell_type": "code",
            "execution_count": 6,
            "metadata": {},
            "outputs": [
                {
                    "data": {
                        "text/plain": "[1, 2, 4, 6, 9, 10, 12, 13]"
                    },
                    "execution_count": 6,
                    "metadata": {},
                    "output_type": "execute_result"
                }
            ],
            "source": "#Assign relevant part of JSON to venues.\nvenues = results['response']['venues']\n\nind_mall = set()\nfor ind, row in enumerate(venues):\n    if row['categories'][0]['shortName'] == 'Mall':\n        ind_mall.add(ind)\n        \nind_city = set()\nfor ind, row in enumerate(venues):\n    if 'city' in row['location'].keys():\n        if '\u0412\u043b\u0430\u0434\u0438\u0432\u043e\u0441\u0442\u043e\u043a' in row['location']['city']:\n            ind_city.add(ind)\n            \nvalid_malls = ind_mall.intersection(ind_city)\nvalid_malls = list(valid_malls)\nvalid_malls"
        },
        {
            "cell_type": "markdown",
            "metadata": {},
            "source": "Get relevant part of <code>.json</code> and transform it into a <code>pandas</code> DataFrame."
        },
        {
            "cell_type": "code",
            "execution_count": 7,
            "metadata": {
                "scrolled": true
            },
            "outputs": [
                {
                    "data": {
                        "text/html": "<div>\n<style scoped>\n    .dataframe tbody tr th:only-of-type {\n        vertical-align: middle;\n    }\n\n    .dataframe tbody tr th {\n        vertical-align: top;\n    }\n\n    .dataframe thead th {\n        text-align: right;\n    }\n</style>\n<table border=\"1\" class=\"dataframe\">\n  <thead>\n    <tr style=\"text-align: right;\">\n      <th></th>\n      <th>categories</th>\n      <th>hasPerk</th>\n      <th>id</th>\n      <th>location.address</th>\n      <th>location.cc</th>\n      <th>location.city</th>\n      <th>location.country</th>\n      <th>location.crossStreet</th>\n      <th>location.formattedAddress</th>\n      <th>location.labeledLatLngs</th>\n      <th>location.lat</th>\n      <th>location.lng</th>\n      <th>location.postalCode</th>\n      <th>location.state</th>\n      <th>name</th>\n      <th>referralId</th>\n    </tr>\n  </thead>\n  <tbody>\n    <tr>\n      <th>0</th>\n      <td>[{'id': '4bf58dd8d48988d1fd941735', 'name': 'S...</td>\n      <td>False</td>\n      <td>4e437b54d4c02cf15f569f74</td>\n      <td>NaN</td>\n      <td>RU</td>\n      <td>\u0412\u043b\u0430\u0434\u0438\u0432\u043e\u0441\u0442\u043e\u043a</td>\n      <td>\u0420\u043e\u0441\u0441\u0438\u044f</td>\n      <td>NaN</td>\n      <td>[\u0412\u043b\u0430\u0434\u0438\u0432\u043e\u0441\u0442\u043e\u043a, \u0420\u043e\u0441\u0441\u0438\u044f]</td>\n      <td>[{'label': 'display', 'lat': 43.11667531484311...</td>\n      <td>43.116675</td>\n      <td>131.882463</td>\n      <td>NaN</td>\n      <td>\u041f\u0440\u0438\u043c\u043e\u0440\u0441\u043a\u0438\u0439 \u043a\u0440\u0430\u0439</td>\n      <td>\u0422\u043e\u0440\u0433\u043e\u0432\u044b\u0439 \u0446\u0435\u043d\u0442\u0440 \"\u0417\u043e\u043b\u043e\u0442\u043e\u0439 \u0420\u043e\u0433\"</td>\n      <td>v-1580217089</td>\n    </tr>\n    <tr>\n      <th>1</th>\n      <td>[{'id': '4bf58dd8d48988d1fd941735', 'name': 'S...</td>\n      <td>False</td>\n      <td>4d92b3aef10ea093077f191e</td>\n      <td>NaN</td>\n      <td>RU</td>\n      <td>\u0412\u043b\u0430\u0434\u0438\u0432\u043e\u0441\u0442\u043e\u043a</td>\n      <td>\u0420\u043e\u0441\u0441\u0438\u044f</td>\n      <td>NaN</td>\n      <td>[\u0412\u043b\u0430\u0434\u0438\u0432\u043e\u0441\u0442\u043e\u043a, \u0420\u043e\u0441\u0441\u0438\u044f]</td>\n      <td>[{'label': 'display', 'lat': 43.13333257579817...</td>\n      <td>43.133333</td>\n      <td>131.899469</td>\n      <td>NaN</td>\n      <td>\u041f\u0440\u0438\u043c\u043e\u0440\u0441\u043a\u0438\u0439 \u043a\u0440\u0430\u0439</td>\n      <td>\u041f\u0435\u0440\u0432\u043e\u0440\u0435\u0447\u0435\u043d\u0441\u043a\u0438\u0439 \u0422\u043e\u0440\u0433\u043e\u0432\u044b\u0439 \u0426\u0435\u043d\u0442\u0440</td>\n      <td>v-1580217089</td>\n    </tr>\n    <tr>\n      <th>2</th>\n      <td>[{'id': '4bf58dd8d48988d1fd941735', 'name': 'S...</td>\n      <td>False</td>\n      <td>584b433391936a1570de70b3</td>\n      <td>\u0428\u0438\u043b\u043a\u0438\u043d\u0441\u043a\u0430\u044f \u0434.42</td>\n      <td>RU</td>\n      <td>\u0412\u043b\u0430\u0434\u0438\u0432\u043e\u0441\u0442\u043e\u043a</td>\n      <td>\u0420\u043e\u0441\u0441\u0438\u044f</td>\n      <td>NaN</td>\n      <td>[\u0428\u0438\u043b\u043a\u0438\u043d\u0441\u043a\u0430\u044f \u0434.42, 690066, \u0412\u043b\u0430\u0434\u0438\u0432\u043e\u0441\u0442\u043e\u043a, \u0420\u043e\u0441\u0441\u0438\u044f]</td>\n      <td>[{'label': 'display', 'lat': 43.119311, 'lng':...</td>\n      <td>43.119311</td>\n      <td>131.932502</td>\n      <td>690066</td>\n      <td>\u041f\u0440\u0438\u043c\u043e\u0440\u0441\u043a\u0438\u0439 \u043a\u0440\u0430\u0439</td>\n      <td>\u0422\u043e\u0440\u0433\u043e\u0432\u044b\u0439 \u0446\u0435\u043d\u0442\u0440 \"\u0428\u0438\u043b\u043a\u0430\"</td>\n      <td>v-1580217089</td>\n    </tr>\n    <tr>\n      <th>3</th>\n      <td>[{'id': '4bf58dd8d48988d1fd941735', 'name': 'S...</td>\n      <td>False</td>\n      <td>4f961eebe4b0e8af220bce50</td>\n      <td>\u0420\u0443\u0441\u0441\u043a\u0430\u044f \u0443\u043b., 59/2</td>\n      <td>RU</td>\n      <td>\u0412\u043b\u0430\u0434\u0438\u0432\u043e\u0441\u0442\u043e\u043a</td>\n      <td>\u0420\u043e\u0441\u0441\u0438\u044f</td>\n      <td>NaN</td>\n      <td>[\u0420\u0443\u0441\u0441\u043a\u0430\u044f \u0443\u043b., 59/2, 690105, \u0412\u043b\u0430\u0434\u0438\u0432\u043e\u0441\u0442\u043e\u043a, \u0420\u043e\u0441\u0441\u0438\u044f]</td>\n      <td>[{'label': 'display', 'lat': 43.16926377142994...</td>\n      <td>43.169264</td>\n      <td>131.924898</td>\n      <td>690105</td>\n      <td>\u041f\u0440\u0438\u043c\u043e\u0440\u0441\u043a\u0438\u0439 \u043a\u0440\u0430\u0439</td>\n      <td>\u0422\u043e\u0440\u0433\u043e\u0432\u044b\u0439 \u0426\u0435\u043d\u0442\u0440 \u00ab\u0417\u0430\u0440\u044f\u00bb</td>\n      <td>v-1580217089</td>\n    </tr>\n    <tr>\n      <th>4</th>\n      <td>[{'id': '4bf58dd8d48988d1fd941735', 'name': 'S...</td>\n      <td>False</td>\n      <td>4e2b8ab1483bb05f05a05d75</td>\n      <td>\u0421\u0432\u0435\u0442\u043b\u0430\u043d\u0441\u043a\u0430\u044f \u0443\u043b., 29</td>\n      <td>RU</td>\n      <td>\u0412\u043b\u0430\u0434\u0438\u0432\u043e\u0441\u0442\u043e\u043a</td>\n      <td>\u0420\u043e\u0441\u0441\u0438\u044f</td>\n      <td>\u041e\u043a\u0435\u0430\u043d\u0441\u043a\u0438\u0439 \u043f\u0440\u043e\u0441\u043f.</td>\n      <td>[\u0421\u0432\u0435\u0442\u043b\u0430\u043d\u0441\u043a\u0430\u044f \u0443\u043b., 29 (\u041e\u043a\u0435\u0430\u043d\u0441\u043a\u0438\u0439 \u043f\u0440\u043e\u0441\u043f.), 69009...</td>\n      <td>[{'label': 'display', 'lat': 43.11616328803306...</td>\n      <td>43.116163</td>\n      <td>131.885856</td>\n      <td>690091</td>\n      <td>\u041f\u0440\u0438\u043c\u043e\u0440\u0441\u043a\u0438\u0439 \u043a\u0440\u0430\u0439</td>\n      <td>\u0422\u041a \u00ab\u0426\u0435\u043d\u0442\u0440\u0430\u043b\u044c\u043d\u044b\u0439\u00bb</td>\n      <td>v-1580217089</td>\n    </tr>\n    <tr>\n      <th>5</th>\n      <td>[{'id': '4bf58dd8d48988d1fd941735', 'name': 'S...</td>\n      <td>False</td>\n      <td>4e27cf8b483baa86514f83ef</td>\n      <td>\u0443\u043b.\u041b\u0443\u0433\u043e\u0432\u0430\u044f, 21\u0430</td>\n      <td>RU</td>\n      <td>\u0412\u043b\u0430\u0434\u0438\u0432\u043e\u0441\u0442\u043e\u043a</td>\n      <td>\u0420\u043e\u0441\u0441\u0438\u044f</td>\n      <td>NaN</td>\n      <td>[\u0443\u043b.\u041b\u0443\u0433\u043e\u0432\u0430\u044f, 21\u0430, 690005, \u0412\u043b\u0430\u0434\u0438\u0432\u043e\u0441\u0442\u043e\u043a, \u0420\u043e\u0441\u0441\u0438\u044f]</td>\n      <td>[{'label': 'display', 'lat': 43.11140805720977...</td>\n      <td>43.111408</td>\n      <td>131.936717</td>\n      <td>690005</td>\n      <td>\u041f\u0440\u0438\u043c\u043e\u0440\u0441\u043a\u0438\u0439 \u043a\u0440\u0430\u0439</td>\n      <td>\u041f\u0435\u0448\u0435\u0445\u043e\u0434\u043d\u043e-\u0422\u043e\u0440\u0433\u043e\u0432\u044b\u0439 \u043a\u043e\u043c\u043f\u043b\u0435\u043a\u0441 \u043d\u0430 \u041b\u0443\u0433\u043e\u0432\u043e\u0439</td>\n      <td>v-1580217089</td>\n    </tr>\n    <tr>\n      <th>6</th>\n      <td>[{'id': '4bf58dd8d48988d1fd941735', 'name': 'S...</td>\n      <td>False</td>\n      <td>4c6ce4e61fb2a14369bdfce6</td>\n      <td>\u0421\u0435\u043c\u0451\u043d\u043e\u0432\u0441\u043a\u0430\u044f \u0443\u043b., 15</td>\n      <td>RU</td>\n      <td>\u0412\u043b\u0430\u0434\u0438\u0432\u043e\u0441\u0442\u043e\u043a</td>\n      <td>\u0420\u043e\u0441\u0441\u0438\u044f</td>\n      <td>NaN</td>\n      <td>[\u0421\u0435\u043c\u0451\u043d\u043e\u0432\u0441\u043a\u0430\u044f \u0443\u043b., 15, 690091, \u0412\u043b\u0430\u0434\u0438\u0432\u043e\u0441\u0442\u043e\u043a, \u0420\u043e\u0441...</td>\n      <td>[{'label': 'display', 'lat': 43.11883930771354...</td>\n      <td>43.118839</td>\n      <td>131.884034</td>\n      <td>690091</td>\n      <td>\u041f\u0440\u0438\u043c\u043e\u0440\u0441\u043a\u0438\u0439 \u043a\u0440\u0430\u0439</td>\n      <td>Clover House</td>\n      <td>v-1580217089</td>\n    </tr>\n    <tr>\n      <th>7</th>\n      <td>[{'id': '4bf58dd8d48988d1fd941735', 'name': 'S...</td>\n      <td>False</td>\n      <td>4e4b8d23aeb72792c33ac8ef</td>\n      <td>\u0421\u0435\u043c\u0451\u043d\u043e\u0432\u0441\u043a\u0430\u044f \u0443\u043b., 12</td>\n      <td>RU</td>\n      <td>\u0412\u043b\u0430\u0434\u0438\u0432\u043e\u0441\u0442\u043e\u043a</td>\n      <td>\u0420\u043e\u0441\u0441\u0438\u044f</td>\n      <td>NaN</td>\n      <td>[\u0421\u0435\u043c\u0451\u043d\u043e\u0432\u0441\u043a\u0430\u044f \u0443\u043b., 12, \u0412\u043b\u0430\u0434\u0438\u0432\u043e\u0441\u0442\u043e\u043a, \u0420\u043e\u0441\u0441\u0438\u044f]</td>\n      <td>[{'label': 'display', 'lat': 43.1186449390325,...</td>\n      <td>43.118645</td>\n      <td>131.883044</td>\n      <td>NaN</td>\n      <td>\u041f\u0440\u0438\u043c\u043e\u0440\u0441\u043a\u0438\u0439 \u043a\u0440\u0430\u0439</td>\n      <td>\u0422\u0426 \u00ab\u0420\u043e\u0434\u0438\u043d\u0430\u00bb</td>\n      <td>v-1580217089</td>\n    </tr>\n  </tbody>\n</table>\n</div>",
                        "text/plain": "                                          categories  hasPerk  \\\n0  [{'id': '4bf58dd8d48988d1fd941735', 'name': 'S...    False   \n1  [{'id': '4bf58dd8d48988d1fd941735', 'name': 'S...    False   \n2  [{'id': '4bf58dd8d48988d1fd941735', 'name': 'S...    False   \n3  [{'id': '4bf58dd8d48988d1fd941735', 'name': 'S...    False   \n4  [{'id': '4bf58dd8d48988d1fd941735', 'name': 'S...    False   \n5  [{'id': '4bf58dd8d48988d1fd941735', 'name': 'S...    False   \n6  [{'id': '4bf58dd8d48988d1fd941735', 'name': 'S...    False   \n7  [{'id': '4bf58dd8d48988d1fd941735', 'name': 'S...    False   \n\n                         id     location.address location.cc location.city  \\\n0  4e437b54d4c02cf15f569f74                  NaN          RU   \u0412\u043b\u0430\u0434\u0438\u0432\u043e\u0441\u0442\u043e\u043a   \n1  4d92b3aef10ea093077f191e                  NaN          RU   \u0412\u043b\u0430\u0434\u0438\u0432\u043e\u0441\u0442\u043e\u043a   \n2  584b433391936a1570de70b3      \u0428\u0438\u043b\u043a\u0438\u043d\u0441\u043a\u0430\u044f \u0434.42          RU   \u0412\u043b\u0430\u0434\u0438\u0432\u043e\u0441\u0442\u043e\u043a   \n3  4f961eebe4b0e8af220bce50    \u0420\u0443\u0441\u0441\u043a\u0430\u044f \u0443\u043b., 59/2          RU   \u0412\u043b\u0430\u0434\u0438\u0432\u043e\u0441\u0442\u043e\u043a   \n4  4e2b8ab1483bb05f05a05d75  \u0421\u0432\u0435\u0442\u043b\u0430\u043d\u0441\u043a\u0430\u044f \u0443\u043b., 29          RU   \u0412\u043b\u0430\u0434\u0438\u0432\u043e\u0441\u0442\u043e\u043a   \n5  4e27cf8b483baa86514f83ef      \u0443\u043b.\u041b\u0443\u0433\u043e\u0432\u0430\u044f, 21\u0430          RU   \u0412\u043b\u0430\u0434\u0438\u0432\u043e\u0441\u0442\u043e\u043a   \n6  4c6ce4e61fb2a14369bdfce6  \u0421\u0435\u043c\u0451\u043d\u043e\u0432\u0441\u043a\u0430\u044f \u0443\u043b., 15          RU   \u0412\u043b\u0430\u0434\u0438\u0432\u043e\u0441\u0442\u043e\u043a   \n7  4e4b8d23aeb72792c33ac8ef  \u0421\u0435\u043c\u0451\u043d\u043e\u0432\u0441\u043a\u0430\u044f \u0443\u043b., 12          RU   \u0412\u043b\u0430\u0434\u0438\u0432\u043e\u0441\u0442\u043e\u043a   \n\n  location.country location.crossStreet  \\\n0           \u0420\u043e\u0441\u0441\u0438\u044f                  NaN   \n1           \u0420\u043e\u0441\u0441\u0438\u044f                  NaN   \n2           \u0420\u043e\u0441\u0441\u0438\u044f                  NaN   \n3           \u0420\u043e\u0441\u0441\u0438\u044f                  NaN   \n4           \u0420\u043e\u0441\u0441\u0438\u044f     \u041e\u043a\u0435\u0430\u043d\u0441\u043a\u0438\u0439 \u043f\u0440\u043e\u0441\u043f.   \n5           \u0420\u043e\u0441\u0441\u0438\u044f                  NaN   \n6           \u0420\u043e\u0441\u0441\u0438\u044f                  NaN   \n7           \u0420\u043e\u0441\u0441\u0438\u044f                  NaN   \n\n                           location.formattedAddress  \\\n0                              [\u0412\u043b\u0430\u0434\u0438\u0432\u043e\u0441\u0442\u043e\u043a, \u0420\u043e\u0441\u0441\u0438\u044f]   \n1                              [\u0412\u043b\u0430\u0434\u0438\u0432\u043e\u0441\u0442\u043e\u043a, \u0420\u043e\u0441\u0441\u0438\u044f]   \n2     [\u0428\u0438\u043b\u043a\u0438\u043d\u0441\u043a\u0430\u044f \u0434.42, 690066, \u0412\u043b\u0430\u0434\u0438\u0432\u043e\u0441\u0442\u043e\u043a, \u0420\u043e\u0441\u0441\u0438\u044f]   \n3   [\u0420\u0443\u0441\u0441\u043a\u0430\u044f \u0443\u043b., 59/2, 690105, \u0412\u043b\u0430\u0434\u0438\u0432\u043e\u0441\u0442\u043e\u043a, \u0420\u043e\u0441\u0441\u0438\u044f]   \n4  [\u0421\u0432\u0435\u0442\u043b\u0430\u043d\u0441\u043a\u0430\u044f \u0443\u043b., 29 (\u041e\u043a\u0435\u0430\u043d\u0441\u043a\u0438\u0439 \u043f\u0440\u043e\u0441\u043f.), 69009...   \n5     [\u0443\u043b.\u041b\u0443\u0433\u043e\u0432\u0430\u044f, 21\u0430, 690005, \u0412\u043b\u0430\u0434\u0438\u0432\u043e\u0441\u0442\u043e\u043a, \u0420\u043e\u0441\u0441\u0438\u044f]   \n6  [\u0421\u0435\u043c\u0451\u043d\u043e\u0432\u0441\u043a\u0430\u044f \u0443\u043b., 15, 690091, \u0412\u043b\u0430\u0434\u0438\u0432\u043e\u0441\u0442\u043e\u043a, \u0420\u043e\u0441...   \n7         [\u0421\u0435\u043c\u0451\u043d\u043e\u0432\u0441\u043a\u0430\u044f \u0443\u043b., 12, \u0412\u043b\u0430\u0434\u0438\u0432\u043e\u0441\u0442\u043e\u043a, \u0420\u043e\u0441\u0441\u0438\u044f]   \n\n                             location.labeledLatLngs  location.lat  \\\n0  [{'label': 'display', 'lat': 43.11667531484311...     43.116675   \n1  [{'label': 'display', 'lat': 43.13333257579817...     43.133333   \n2  [{'label': 'display', 'lat': 43.119311, 'lng':...     43.119311   \n3  [{'label': 'display', 'lat': 43.16926377142994...     43.169264   \n4  [{'label': 'display', 'lat': 43.11616328803306...     43.116163   \n5  [{'label': 'display', 'lat': 43.11140805720977...     43.111408   \n6  [{'label': 'display', 'lat': 43.11883930771354...     43.118839   \n7  [{'label': 'display', 'lat': 43.1186449390325,...     43.118645   \n\n   location.lng location.postalCode   location.state  \\\n0    131.882463                 NaN  \u041f\u0440\u0438\u043c\u043e\u0440\u0441\u043a\u0438\u0439 \u043a\u0440\u0430\u0439   \n1    131.899469                 NaN  \u041f\u0440\u0438\u043c\u043e\u0440\u0441\u043a\u0438\u0439 \u043a\u0440\u0430\u0439   \n2    131.932502              690066  \u041f\u0440\u0438\u043c\u043e\u0440\u0441\u043a\u0438\u0439 \u043a\u0440\u0430\u0439   \n3    131.924898              690105  \u041f\u0440\u0438\u043c\u043e\u0440\u0441\u043a\u0438\u0439 \u043a\u0440\u0430\u0439   \n4    131.885856              690091  \u041f\u0440\u0438\u043c\u043e\u0440\u0441\u043a\u0438\u0439 \u043a\u0440\u0430\u0439   \n5    131.936717              690005  \u041f\u0440\u0438\u043c\u043e\u0440\u0441\u043a\u0438\u0439 \u043a\u0440\u0430\u0439   \n6    131.884034              690091  \u041f\u0440\u0438\u043c\u043e\u0440\u0441\u043a\u0438\u0439 \u043a\u0440\u0430\u0439   \n7    131.883044                 NaN  \u041f\u0440\u0438\u043c\u043e\u0440\u0441\u043a\u0438\u0439 \u043a\u0440\u0430\u0439   \n\n                                     name    referralId  \n0            \u0422\u043e\u0440\u0433\u043e\u0432\u044b\u0439 \u0446\u0435\u043d\u0442\u0440 \"\u0417\u043e\u043b\u043e\u0442\u043e\u0439 \u0420\u043e\u0433\"  v-1580217089  \n1           \u041f\u0435\u0440\u0432\u043e\u0440\u0435\u0447\u0435\u043d\u0441\u043a\u0438\u0439 \u0422\u043e\u0440\u0433\u043e\u0432\u044b\u0439 \u0426\u0435\u043d\u0442\u0440  v-1580217089  \n2                  \u0422\u043e\u0440\u0433\u043e\u0432\u044b\u0439 \u0446\u0435\u043d\u0442\u0440 \"\u0428\u0438\u043b\u043a\u0430\"  v-1580217089  \n3                   \u0422\u043e\u0440\u0433\u043e\u0432\u044b\u0439 \u0426\u0435\u043d\u0442\u0440 \u00ab\u0417\u0430\u0440\u044f\u00bb  v-1580217089  \n4                        \u0422\u041a \u00ab\u0426\u0435\u043d\u0442\u0440\u0430\u043b\u044c\u043d\u044b\u0439\u00bb  v-1580217089  \n5  \u041f\u0435\u0448\u0435\u0445\u043e\u0434\u043d\u043e-\u0422\u043e\u0440\u0433\u043e\u0432\u044b\u0439 \u043a\u043e\u043c\u043f\u043b\u0435\u043a\u0441 \u043d\u0430 \u041b\u0443\u0433\u043e\u0432\u043e\u0439  v-1580217089  \n6                            Clover House  v-1580217089  \n7                             \u0422\u0426 \u00ab\u0420\u043e\u0434\u0438\u043d\u0430\u00bb  v-1580217089  "
                    },
                    "execution_count": 7,
                    "metadata": {},
                    "output_type": "execute_result"
                }
            ],
            "source": "#Tranform venues into a dataframe.\ndf_malls = json_normalize(venues)\n\n#Apply a valid_malls mask to df_malls DataFrame.\ndf_malls = df_malls.iloc[valid_malls, :]\ndf_malls.reset_index(inplace=True, drop=True)\ndf_malls"
        },
        {
            "cell_type": "code",
            "execution_count": 8,
            "metadata": {},
            "outputs": [
                {
                    "data": {
                        "text/html": "<div>\n<style scoped>\n    .dataframe tbody tr th:only-of-type {\n        vertical-align: middle;\n    }\n\n    .dataframe tbody tr th {\n        vertical-align: top;\n    }\n\n    .dataframe thead th {\n        text-align: right;\n    }\n</style>\n<table border=\"1\" class=\"dataframe\">\n  <thead>\n    <tr style=\"text-align: right;\">\n      <th></th>\n      <th>name</th>\n      <th>categories</th>\n      <th>lat</th>\n      <th>lng</th>\n      <th>id</th>\n    </tr>\n  </thead>\n  <tbody>\n    <tr>\n      <th>0</th>\n      <td>\u0422\u043e\u0440\u0433\u043e\u0432\u044b\u0439 \u0446\u0435\u043d\u0442\u0440 \"\u0417\u043e\u043b\u043e\u0442\u043e\u0439 \u0420\u043e\u0433\"</td>\n      <td>Shopping Mall</td>\n      <td>43.116675</td>\n      <td>131.882463</td>\n      <td>4e437b54d4c02cf15f569f74</td>\n    </tr>\n    <tr>\n      <th>1</th>\n      <td>\u041f\u0435\u0440\u0432\u043e\u0440\u0435\u0447\u0435\u043d\u0441\u043a\u0438\u0439 \u0422\u043e\u0440\u0433\u043e\u0432\u044b\u0439 \u0426\u0435\u043d\u0442\u0440</td>\n      <td>Shopping Mall</td>\n      <td>43.133333</td>\n      <td>131.899469</td>\n      <td>4d92b3aef10ea093077f191e</td>\n    </tr>\n    <tr>\n      <th>2</th>\n      <td>\u0422\u043e\u0440\u0433\u043e\u0432\u044b\u0439 \u0446\u0435\u043d\u0442\u0440 \"\u0428\u0438\u043b\u043a\u0430\"</td>\n      <td>Shopping Mall</td>\n      <td>43.119311</td>\n      <td>131.932502</td>\n      <td>584b433391936a1570de70b3</td>\n    </tr>\n    <tr>\n      <th>3</th>\n      <td>\u0422\u043e\u0440\u0433\u043e\u0432\u044b\u0439 \u0426\u0435\u043d\u0442\u0440 \u00ab\u0417\u0430\u0440\u044f\u00bb</td>\n      <td>Shopping Mall</td>\n      <td>43.169264</td>\n      <td>131.924898</td>\n      <td>4f961eebe4b0e8af220bce50</td>\n    </tr>\n    <tr>\n      <th>4</th>\n      <td>\u0422\u041a \u00ab\u0426\u0435\u043d\u0442\u0440\u0430\u043b\u044c\u043d\u044b\u0439\u00bb</td>\n      <td>Shopping Mall</td>\n      <td>43.116163</td>\n      <td>131.885856</td>\n      <td>4e2b8ab1483bb05f05a05d75</td>\n    </tr>\n    <tr>\n      <th>5</th>\n      <td>\u041f\u0435\u0448\u0435\u0445\u043e\u0434\u043d\u043e-\u0422\u043e\u0440\u0433\u043e\u0432\u044b\u0439 \u043a\u043e\u043c\u043f\u043b\u0435\u043a\u0441 \u043d\u0430 \u041b\u0443\u0433\u043e\u0432\u043e\u0439</td>\n      <td>Shopping Mall</td>\n      <td>43.111408</td>\n      <td>131.936717</td>\n      <td>4e27cf8b483baa86514f83ef</td>\n    </tr>\n    <tr>\n      <th>6</th>\n      <td>Clover House</td>\n      <td>Shopping Mall</td>\n      <td>43.118839</td>\n      <td>131.884034</td>\n      <td>4c6ce4e61fb2a14369bdfce6</td>\n    </tr>\n    <tr>\n      <th>7</th>\n      <td>\u0422\u0426 \u00ab\u0420\u043e\u0434\u0438\u043d\u0430\u00bb</td>\n      <td>Shopping Mall</td>\n      <td>43.118645</td>\n      <td>131.883044</td>\n      <td>4e4b8d23aeb72792c33ac8ef</td>\n    </tr>\n  </tbody>\n</table>\n</div>",
                        "text/plain": "                                     name     categories        lat  \\\n0            \u0422\u043e\u0440\u0433\u043e\u0432\u044b\u0439 \u0446\u0435\u043d\u0442\u0440 \"\u0417\u043e\u043b\u043e\u0442\u043e\u0439 \u0420\u043e\u0433\"  Shopping Mall  43.116675   \n1           \u041f\u0435\u0440\u0432\u043e\u0440\u0435\u0447\u0435\u043d\u0441\u043a\u0438\u0439 \u0422\u043e\u0440\u0433\u043e\u0432\u044b\u0439 \u0426\u0435\u043d\u0442\u0440  Shopping Mall  43.133333   \n2                  \u0422\u043e\u0440\u0433\u043e\u0432\u044b\u0439 \u0446\u0435\u043d\u0442\u0440 \"\u0428\u0438\u043b\u043a\u0430\"  Shopping Mall  43.119311   \n3                   \u0422\u043e\u0440\u0433\u043e\u0432\u044b\u0439 \u0426\u0435\u043d\u0442\u0440 \u00ab\u0417\u0430\u0440\u044f\u00bb  Shopping Mall  43.169264   \n4                        \u0422\u041a \u00ab\u0426\u0435\u043d\u0442\u0440\u0430\u043b\u044c\u043d\u044b\u0439\u00bb  Shopping Mall  43.116163   \n5  \u041f\u0435\u0448\u0435\u0445\u043e\u0434\u043d\u043e-\u0422\u043e\u0440\u0433\u043e\u0432\u044b\u0439 \u043a\u043e\u043c\u043f\u043b\u0435\u043a\u0441 \u043d\u0430 \u041b\u0443\u0433\u043e\u0432\u043e\u0439  Shopping Mall  43.111408   \n6                            Clover House  Shopping Mall  43.118839   \n7                             \u0422\u0426 \u00ab\u0420\u043e\u0434\u0438\u043d\u0430\u00bb  Shopping Mall  43.118645   \n\n          lng                        id  \n0  131.882463  4e437b54d4c02cf15f569f74  \n1  131.899469  4d92b3aef10ea093077f191e  \n2  131.932502  584b433391936a1570de70b3  \n3  131.924898  4f961eebe4b0e8af220bce50  \n4  131.885856  4e2b8ab1483bb05f05a05d75  \n5  131.936717  4e27cf8b483baa86514f83ef  \n6  131.884034  4c6ce4e61fb2a14369bdfce6  \n7  131.883044  4e4b8d23aeb72792c33ac8ef  "
                    },
                    "execution_count": 8,
                    "metadata": {},
                    "output_type": "execute_result"
                }
            ],
            "source": "# keep only columns that include venue name, and anything that is associated with location\nfiltered_columns = ['name', 'categories'] + [col for col in df_malls.columns if col.startswith('location.')] + ['id']\ndf_malls = df_malls.loc[:, filtered_columns]\n\n# function that extracts the category of the venue\ndef get_category_type(row):\n    try:\n        categories_list = row['categories']\n    except:\n        categories_list = row['venue.categories']\n        \n    if len(categories_list) == 0:\n        return None\n    else:\n        return categories_list[0]['name']\n\n# filter the category for each row\ndf_malls['categories'] = df_malls.apply(get_category_type, axis=1)\n\n# clean column names by keeping only last term\ndf_malls.columns = [column.split('.')[-1] for column in df_malls.columns]\ndf_malls = df_malls[['name', 'categories', 'lat', 'lng', 'id']]\n\ndf_malls"
        },
        {
            "cell_type": "markdown",
            "metadata": {},
            "source": "## Get a list of the cinema"
        },
        {
            "cell_type": "code",
            "execution_count": 9,
            "metadata": {},
            "outputs": [],
            "source": "cinema_query = '\u041a\u0438\u043d\u043e\u0442\u0435\u0430\u0442\u0440'"
        },
        {
            "cell_type": "markdown",
            "metadata": {},
            "source": "Define the URL for find the cinema."
        },
        {
            "cell_type": "code",
            "execution_count": 10,
            "metadata": {},
            "outputs": [
                {
                    "data": {
                        "text/plain": "'https://api.foursquare.com/v2/venues/search?client_id=5KPM10HKO1V1ZA3NJI5Y5YQERX2CWFO13LD05YAQ1JPLONS5&client_secret=1VMF22DJYOZC2AZ3N200OTPF1FVHZNBUYAOSZI4H01CVBNNT&near=\u0412\u043b\u0430\u0434\u0438\u0432\u043e\u0441\u0442\u043e\u043a&v=20180604&query=\u041a\u0438\u043d\u043e\u0442\u0435\u0430\u0442\u0440'"
                    },
                    "execution_count": 10,
                    "metadata": {},
                    "output_type": "execute_result"
                }
            ],
            "source": "url = 'https://api.foursquare.com/v2/venues/search?client_id={}&client_secret={}&near={}&v={}&query={}'.format(CLIENT_ID, CLIENT_SECRET, near, VERSION, cinema_query)\nurl"
        },
        {
            "cell_type": "code",
            "execution_count": 11,
            "metadata": {},
            "outputs": [],
            "source": "results = requests.get(url).json()\n#results"
        },
        {
            "cell_type": "markdown",
            "metadata": {},
            "source": "### Data cleaning"
        },
        {
            "cell_type": "code",
            "execution_count": 12,
            "metadata": {},
            "outputs": [
                {
                    "data": {
                        "text/plain": "[0, 1, 3, 4, 5, 6, 7, 8]"
                    },
                    "execution_count": 12,
                    "metadata": {},
                    "output_type": "execute_result"
                }
            ],
            "source": "#Assign relevant part of JSON to venues.\nvenues = results['response']['venues']\n\nind_cinema = set()\nfor ind, row in enumerate(venues):\n    if row['categories'][0]['shortName'] == 'Movie Theater':\n        ind_mall.add(ind)\n        \nind_city = set()\nfor ind, row in enumerate(venues):\n    if 'city' in row['location'].keys():\n        if '\u0412\u043b\u0430\u0434\u0438\u0432\u043e\u0441\u0442\u043e\u043a' in row['location']['city']:\n            ind_city.add(ind)\n            \nvalid_cinema = ind_mall.intersection(ind_city)\nvalid_cinema = list(valid_cinema)\nvalid_cinema"
        },
        {
            "cell_type": "code",
            "execution_count": 13,
            "metadata": {},
            "outputs": [
                {
                    "data": {
                        "text/html": "<div>\n<style scoped>\n    .dataframe tbody tr th:only-of-type {\n        vertical-align: middle;\n    }\n\n    .dataframe tbody tr th {\n        vertical-align: top;\n    }\n\n    .dataframe thead th {\n        text-align: right;\n    }\n</style>\n<table border=\"1\" class=\"dataframe\">\n  <thead>\n    <tr style=\"text-align: right;\">\n      <th></th>\n      <th>categories</th>\n      <th>hasPerk</th>\n      <th>id</th>\n      <th>location.address</th>\n      <th>location.cc</th>\n      <th>location.city</th>\n      <th>location.country</th>\n      <th>location.crossStreet</th>\n      <th>location.formattedAddress</th>\n      <th>location.labeledLatLngs</th>\n      <th>location.lat</th>\n      <th>location.lng</th>\n      <th>location.postalCode</th>\n      <th>location.state</th>\n      <th>name</th>\n      <th>referralId</th>\n    </tr>\n  </thead>\n  <tbody>\n    <tr>\n      <th>0</th>\n      <td>[{'id': '4bf58dd8d48988d17f941735', 'name': 'M...</td>\n      <td>False</td>\n      <td>51b32091498e954e6c465027</td>\n      <td>\u041d\u0430\u0431\u0435\u0440\u0435\u0436\u043d\u0430\u044f \u0443\u043b.</td>\n      <td>RU</td>\n      <td>\u0412\u043b\u0430\u0434\u0438\u0432\u043e\u0441\u0442\u043e\u043a</td>\n      <td>\u0420\u043e\u0441\u0441\u0438\u044f</td>\n      <td>NaN</td>\n      <td>[\u041d\u0430\u0431\u0435\u0440\u0435\u0436\u043d\u0430\u044f \u0443\u043b., \u0412\u043b\u0430\u0434\u0438\u0432\u043e\u0441\u0442\u043e\u043a, \u0420\u043e\u0441\u0441\u0438\u044f]</td>\n      <td>[{'label': 'display', 'lat': 43.11759998870515...</td>\n      <td>43.117600</td>\n      <td>131.878222</td>\n      <td>NaN</td>\n      <td>\u041f\u0440\u0438\u043c\u043e\u0440\u0441\u043a\u0438\u0439 \u043a\u0440\u0430\u0439</td>\n      <td>\u041a\u0438\u043d\u043e\u0442\u0435\u0430\u0442\u0440 \u043f\u043e\u0434 \u043e\u0442\u043a\u0440\u044b\u0442\u044b\u043c \u043d\u0435\u0431\u043e\u043c</td>\n      <td>v-1580217090</td>\n    </tr>\n    <tr>\n      <th>1</th>\n      <td>[{'id': '4bf58dd8d48988d17f941735', 'name': 'M...</td>\n      <td>False</td>\n      <td>4f6bf0dce4b068929e154d5d</td>\n      <td>\u0422\u0440\u0430\u043c\u0432\u0430\u0439\u043d\u0430\u044f \u0443\u043b., 16</td>\n      <td>RU</td>\n      <td>\u0412\u043b\u0430\u0434\u0438\u0432\u043e\u0441\u0442\u043e\u043a</td>\n      <td>\u0420\u043e\u0441\u0441\u0438\u044f</td>\n      <td>\u043f\u043b. \u041b\u0443\u0433\u043e\u0432\u0430\u044f</td>\n      <td>[\u0422\u0440\u0430\u043c\u0432\u0430\u0439\u043d\u0430\u044f \u0443\u043b., 16 (\u043f\u043b. \u041b\u0443\u0433\u043e\u0432\u0430\u044f), 690034, \u0412\u043b\u0430...</td>\n      <td>[{'label': 'display', 'lat': 43.11197102091505...</td>\n      <td>43.111971</td>\n      <td>131.937990</td>\n      <td>690034</td>\n      <td>\u041f\u0440\u0438\u043c\u043e\u0440\u0441\u043a\u0438\u0439 \u043a\u0440\u0430\u0439</td>\n      <td>\u041a\u0438\u043d\u043e\u0442\u0435\u0430\u0442\u0440 \u00ab\u0412\u043b\u0430\u0434\u0438\u0432\u043e\u0441\u0442\u043e\u043a\u00bb</td>\n      <td>v-1580217090</td>\n    </tr>\n    <tr>\n      <th>2</th>\n      <td>[{'id': '4bf58dd8d48988d17f941735', 'name': 'M...</td>\n      <td>False</td>\n      <td>53255a8f498ed5af59489dd0</td>\n      <td>\u0411\u0430\u0442\u0430\u0440\u0435\u0439\u043d\u0430\u044f</td>\n      <td>RU</td>\n      <td>\u0412\u043b\u0430\u0434\u0438\u0432\u043e\u0441\u0442\u043e\u043a</td>\n      <td>\u0420\u043e\u0441\u0441\u0438\u044f</td>\n      <td>NaN</td>\n      <td>[\u0411\u0430\u0442\u0430\u0440\u0435\u0439\u043d\u0430\u044f, \u0412\u043b\u0430\u0434\u0438\u0432\u043e\u0441\u0442\u043e\u043a, \u0420\u043e\u0441\u0441\u0438\u044f]</td>\n      <td>[{'label': 'display', 'lat': 43.120622, 'lng':...</td>\n      <td>43.120622</td>\n      <td>131.876021</td>\n      <td>NaN</td>\n      <td>\u041f\u0440\u0438\u043c\u043e\u0440\u0441\u043a\u0438\u0439 \u043a\u0440\u0430\u0439</td>\n      <td>7\u0414 \u041a\u0438\u043d\u043e\u0442\u0435\u0430\u0442\u0440</td>\n      <td>v-1580217090</td>\n    </tr>\n    <tr>\n      <th>3</th>\n      <td>[{'id': '4bf58dd8d48988d180941735', 'name': 'M...</td>\n      <td>False</td>\n      <td>4c70d4db9375a0932f5b0837</td>\n      <td>\u0443\u043b. \u041d\u0430\u0431\u0435\u0440\u0435\u0436\u043d\u0430\u044f, 3</td>\n      <td>RU</td>\n      <td>\u0412\u043b\u0430\u0434\u0438\u0432\u043e\u0441\u0442\u043e\u043a</td>\n      <td>\u0420\u043e\u0441\u0441\u0438\u044f</td>\n      <td>\u0443\u043b. \u0422\u0438\u0433\u0440\u043e\u0432\u0430\u044f</td>\n      <td>[\u0443\u043b. \u041d\u0430\u0431\u0435\u0440\u0435\u0436\u043d\u0430\u044f, 3 (\u0443\u043b. \u0422\u0438\u0433\u0440\u043e\u0432\u0430\u044f), 690091, \u0412\u043b\u0430...</td>\n      <td>[{'label': 'display', 'lat': 43.11662153797272...</td>\n      <td>43.116622</td>\n      <td>131.877880</td>\n      <td>690091</td>\n      <td>\u041f\u0440\u0438\u043c\u043e\u0440\u0441\u043a\u0438\u0439 \u043a\u0440\u0430\u0439</td>\n      <td>\u041e\u043a\u0435\u0430\u043d IMAX</td>\n      <td>v-1580217090</td>\n    </tr>\n    <tr>\n      <th>4</th>\n      <td>[{'id': '4bf58dd8d48988d180941735', 'name': 'M...</td>\n      <td>False</td>\n      <td>4c68c79735d3be9ab1d31d06</td>\n      <td>\u0421\u0432\u0435\u0442\u043b\u0430\u043d\u0441\u043a\u0430\u044f \u0443\u043b., 31</td>\n      <td>RU</td>\n      <td>\u0412\u043b\u0430\u0434\u0438\u0432\u043e\u0441\u0442\u043e\u043a</td>\n      <td>\u0420\u043e\u0441\u0441\u0438\u044f</td>\n      <td>NaN</td>\n      <td>[\u0421\u0432\u0435\u0442\u043b\u0430\u043d\u0441\u043a\u0430\u044f \u0443\u043b., 31, 690091, \u0412\u043b\u0430\u0434\u0438\u0432\u043e\u0441\u0442\u043e\u043a, \u0420\u043e\u0441...</td>\n      <td>[{'label': 'display', 'lat': 43.11575221665022...</td>\n      <td>43.115752</td>\n      <td>131.886885</td>\n      <td>690091</td>\n      <td>\u041f\u0440\u0438\u043c\u043e\u0440\u0441\u043a\u0438\u0439 \u043a\u0440\u0430\u0439</td>\n      <td>\u0423\u0441\u0441\u0443\u0440\u0438</td>\n      <td>v-1580217090</td>\n    </tr>\n    <tr>\n      <th>5</th>\n      <td>[{'id': '4bf58dd8d48988d180941735', 'name': 'M...</td>\n      <td>False</td>\n      <td>4de0303bfa76425c5412fd69</td>\n      <td>\u043f\u0440\u043e\u0441\u043f. 100-\u043b\u0435\u0442\u0438\u044f \u0412\u043b\u0430\u0434\u0438\u0432\u043e\u0441\u0442\u043e\u043a\u0430, 103</td>\n      <td>RU</td>\n      <td>\u0412\u043b\u0430\u0434\u0438\u0432\u043e\u0441\u0442\u043e\u043a</td>\n      <td>\u0420\u043e\u0441\u0441\u0438\u044f</td>\n      <td>NaN</td>\n      <td>[\u043f\u0440\u043e\u0441\u043f. 100-\u043b\u0435\u0442\u0438\u044f \u0412\u043b\u0430\u0434\u0438\u0432\u043e\u0441\u0442\u043e\u043a\u0430, 103, 690039, \u0412...</td>\n      <td>[{'label': 'display', 'lat': 43.16248281279498...</td>\n      <td>43.162483</td>\n      <td>131.911358</td>\n      <td>690039</td>\n      <td>\u041f\u0440\u0438\u043c\u043e\u0440\u0441\u043a\u0438\u0439 \u043a\u0440\u0430\u0439</td>\n      <td>\u0418\u043b\u043b\u044e\u0437\u0438\u043e\u043d</td>\n      <td>v-1580217090</td>\n    </tr>\n    <tr>\n      <th>6</th>\n      <td>[{'id': '4bf58dd8d48988d17f941735', 'name': 'M...</td>\n      <td>False</td>\n      <td>4c4a55c69c8d2d7f7dc75d69</td>\n      <td>\u0443\u043b. \u0414\u043e\u0431\u0440\u043e\u0432\u043e\u043b\u044c\u0441\u043a\u043e\u0433\u043e, 5</td>\n      <td>RU</td>\n      <td>\u0412\u043b\u0430\u0434\u0438\u0432\u043e\u0441\u0442\u043e\u043a</td>\n      <td>\u0420\u043e\u0441\u0441\u0438\u044f</td>\n      <td>NaN</td>\n      <td>[\u0443\u043b. \u0414\u043e\u0431\u0440\u043e\u0432\u043e\u043b\u044c\u0441\u043a\u043e\u0433\u043e, 5, 690092, \u0412\u043b\u0430\u0434\u0438\u0432\u043e\u0441\u0442\u043e\u043a, \u0420...</td>\n      <td>[{'label': 'display', 'lat': 43.09219390373713...</td>\n      <td>43.092194</td>\n      <td>131.973069</td>\n      <td>690092</td>\n      <td>\u041f\u0440\u0438\u043c\u043e\u0440\u0441\u043a\u0438\u0439 \u043a\u0440\u0430\u0439</td>\n      <td>\u0413\u0430\u043b\u0430\u043a\u0442\u0438\u043a\u0430</td>\n      <td>v-1580217090</td>\n    </tr>\n    <tr>\n      <th>7</th>\n      <td>[{'id': '4bf58dd8d48988d17f941735', 'name': 'M...</td>\n      <td>False</td>\n      <td>4ecb62c093adb4bd1ad84427</td>\n      <td>\u0420\u0443\u0441\u0441\u043a\u0430\u044f \u0443\u043b., 41</td>\n      <td>RU</td>\n      <td>\u0412\u043b\u0430\u0434\u0438\u0432\u043e\u0441\u0442\u043e\u043a</td>\n      <td>\u0420\u043e\u0441\u0441\u0438\u044f</td>\n      <td>NaN</td>\n      <td>[\u0420\u0443\u0441\u0441\u043a\u0430\u044f \u0443\u043b., 41, 690105, \u0412\u043b\u0430\u0434\u0438\u0432\u043e\u0441\u0442\u043e\u043a, \u0420\u043e\u0441\u0441\u0438\u044f]</td>\n      <td>[{'label': 'display', 'lat': 43.16949724662987...</td>\n      <td>43.169497</td>\n      <td>131.922403</td>\n      <td>690105</td>\n      <td>\u041f\u0440\u0438\u043c\u043e\u0440\u0441\u043a\u0438\u0439 \u043a\u0440\u0430\u0439</td>\n      <td>\u041d\u0435\u043f\u0442\u0443\u043d</td>\n      <td>v-1580217090</td>\n    </tr>\n  </tbody>\n</table>\n</div>",
                        "text/plain": "                                          categories  hasPerk  \\\n0  [{'id': '4bf58dd8d48988d17f941735', 'name': 'M...    False   \n1  [{'id': '4bf58dd8d48988d17f941735', 'name': 'M...    False   \n2  [{'id': '4bf58dd8d48988d17f941735', 'name': 'M...    False   \n3  [{'id': '4bf58dd8d48988d180941735', 'name': 'M...    False   \n4  [{'id': '4bf58dd8d48988d180941735', 'name': 'M...    False   \n5  [{'id': '4bf58dd8d48988d180941735', 'name': 'M...    False   \n6  [{'id': '4bf58dd8d48988d17f941735', 'name': 'M...    False   \n7  [{'id': '4bf58dd8d48988d17f941735', 'name': 'M...    False   \n\n                         id                    location.address location.cc  \\\n0  51b32091498e954e6c465027                      \u041d\u0430\u0431\u0435\u0440\u0435\u0436\u043d\u0430\u044f \u0443\u043b.          RU   \n1  4f6bf0dce4b068929e154d5d                  \u0422\u0440\u0430\u043c\u0432\u0430\u0439\u043d\u0430\u044f \u0443\u043b., 16          RU   \n2  53255a8f498ed5af59489dd0                          \u0411\u0430\u0442\u0430\u0440\u0435\u0439\u043d\u0430\u044f          RU   \n3  4c70d4db9375a0932f5b0837                   \u0443\u043b. \u041d\u0430\u0431\u0435\u0440\u0435\u0436\u043d\u0430\u044f, 3          RU   \n4  4c68c79735d3be9ab1d31d06                 \u0421\u0432\u0435\u0442\u043b\u0430\u043d\u0441\u043a\u0430\u044f \u0443\u043b., 31          RU   \n5  4de0303bfa76425c5412fd69  \u043f\u0440\u043e\u0441\u043f. 100-\u043b\u0435\u0442\u0438\u044f \u0412\u043b\u0430\u0434\u0438\u0432\u043e\u0441\u0442\u043e\u043a\u0430, 103          RU   \n6  4c4a55c69c8d2d7f7dc75d69               \u0443\u043b. \u0414\u043e\u0431\u0440\u043e\u0432\u043e\u043b\u044c\u0441\u043a\u043e\u0433\u043e, 5          RU   \n7  4ecb62c093adb4bd1ad84427                     \u0420\u0443\u0441\u0441\u043a\u0430\u044f \u0443\u043b., 41          RU   \n\n  location.city location.country location.crossStreet  \\\n0   \u0412\u043b\u0430\u0434\u0438\u0432\u043e\u0441\u0442\u043e\u043a           \u0420\u043e\u0441\u0441\u0438\u044f                  NaN   \n1   \u0412\u043b\u0430\u0434\u0438\u0432\u043e\u0441\u0442\u043e\u043a           \u0420\u043e\u0441\u0441\u0438\u044f          \u043f\u043b. \u041b\u0443\u0433\u043e\u0432\u0430\u044f   \n2   \u0412\u043b\u0430\u0434\u0438\u0432\u043e\u0441\u0442\u043e\u043a           \u0420\u043e\u0441\u0441\u0438\u044f                  NaN   \n3   \u0412\u043b\u0430\u0434\u0438\u0432\u043e\u0441\u0442\u043e\u043a           \u0420\u043e\u0441\u0441\u0438\u044f         \u0443\u043b. \u0422\u0438\u0433\u0440\u043e\u0432\u0430\u044f   \n4   \u0412\u043b\u0430\u0434\u0438\u0432\u043e\u0441\u0442\u043e\u043a           \u0420\u043e\u0441\u0441\u0438\u044f                  NaN   \n5   \u0412\u043b\u0430\u0434\u0438\u0432\u043e\u0441\u0442\u043e\u043a           \u0420\u043e\u0441\u0441\u0438\u044f                  NaN   \n6   \u0412\u043b\u0430\u0434\u0438\u0432\u043e\u0441\u0442\u043e\u043a           \u0420\u043e\u0441\u0441\u0438\u044f                  NaN   \n7   \u0412\u043b\u0430\u0434\u0438\u0432\u043e\u0441\u0442\u043e\u043a           \u0420\u043e\u0441\u0441\u0438\u044f                  NaN   \n\n                           location.formattedAddress  \\\n0              [\u041d\u0430\u0431\u0435\u0440\u0435\u0436\u043d\u0430\u044f \u0443\u043b., \u0412\u043b\u0430\u0434\u0438\u0432\u043e\u0441\u0442\u043e\u043a, \u0420\u043e\u0441\u0441\u0438\u044f]   \n1  [\u0422\u0440\u0430\u043c\u0432\u0430\u0439\u043d\u0430\u044f \u0443\u043b., 16 (\u043f\u043b. \u041b\u0443\u0433\u043e\u0432\u0430\u044f), 690034, \u0412\u043b\u0430...   \n2                  [\u0411\u0430\u0442\u0430\u0440\u0435\u0439\u043d\u0430\u044f, \u0412\u043b\u0430\u0434\u0438\u0432\u043e\u0441\u0442\u043e\u043a, \u0420\u043e\u0441\u0441\u0438\u044f]   \n3  [\u0443\u043b. \u041d\u0430\u0431\u0435\u0440\u0435\u0436\u043d\u0430\u044f, 3 (\u0443\u043b. \u0422\u0438\u0433\u0440\u043e\u0432\u0430\u044f), 690091, \u0412\u043b\u0430...   \n4  [\u0421\u0432\u0435\u0442\u043b\u0430\u043d\u0441\u043a\u0430\u044f \u0443\u043b., 31, 690091, \u0412\u043b\u0430\u0434\u0438\u0432\u043e\u0441\u0442\u043e\u043a, \u0420\u043e\u0441...   \n5  [\u043f\u0440\u043e\u0441\u043f. 100-\u043b\u0435\u0442\u0438\u044f \u0412\u043b\u0430\u0434\u0438\u0432\u043e\u0441\u0442\u043e\u043a\u0430, 103, 690039, \u0412...   \n6  [\u0443\u043b. \u0414\u043e\u0431\u0440\u043e\u0432\u043e\u043b\u044c\u0441\u043a\u043e\u0433\u043e, 5, 690092, \u0412\u043b\u0430\u0434\u0438\u0432\u043e\u0441\u0442\u043e\u043a, \u0420...   \n7     [\u0420\u0443\u0441\u0441\u043a\u0430\u044f \u0443\u043b., 41, 690105, \u0412\u043b\u0430\u0434\u0438\u0432\u043e\u0441\u0442\u043e\u043a, \u0420\u043e\u0441\u0441\u0438\u044f]   \n\n                             location.labeledLatLngs  location.lat  \\\n0  [{'label': 'display', 'lat': 43.11759998870515...     43.117600   \n1  [{'label': 'display', 'lat': 43.11197102091505...     43.111971   \n2  [{'label': 'display', 'lat': 43.120622, 'lng':...     43.120622   \n3  [{'label': 'display', 'lat': 43.11662153797272...     43.116622   \n4  [{'label': 'display', 'lat': 43.11575221665022...     43.115752   \n5  [{'label': 'display', 'lat': 43.16248281279498...     43.162483   \n6  [{'label': 'display', 'lat': 43.09219390373713...     43.092194   \n7  [{'label': 'display', 'lat': 43.16949724662987...     43.169497   \n\n   location.lng location.postalCode   location.state  \\\n0    131.878222                 NaN  \u041f\u0440\u0438\u043c\u043e\u0440\u0441\u043a\u0438\u0439 \u043a\u0440\u0430\u0439   \n1    131.937990              690034  \u041f\u0440\u0438\u043c\u043e\u0440\u0441\u043a\u0438\u0439 \u043a\u0440\u0430\u0439   \n2    131.876021                 NaN  \u041f\u0440\u0438\u043c\u043e\u0440\u0441\u043a\u0438\u0439 \u043a\u0440\u0430\u0439   \n3    131.877880              690091  \u041f\u0440\u0438\u043c\u043e\u0440\u0441\u043a\u0438\u0439 \u043a\u0440\u0430\u0439   \n4    131.886885              690091  \u041f\u0440\u0438\u043c\u043e\u0440\u0441\u043a\u0438\u0439 \u043a\u0440\u0430\u0439   \n5    131.911358              690039  \u041f\u0440\u0438\u043c\u043e\u0440\u0441\u043a\u0438\u0439 \u043a\u0440\u0430\u0439   \n6    131.973069              690092  \u041f\u0440\u0438\u043c\u043e\u0440\u0441\u043a\u0438\u0439 \u043a\u0440\u0430\u0439   \n7    131.922403              690105  \u041f\u0440\u0438\u043c\u043e\u0440\u0441\u043a\u0438\u0439 \u043a\u0440\u0430\u0439   \n\n                           name    referralId  \n0  \u041a\u0438\u043d\u043e\u0442\u0435\u0430\u0442\u0440 \u043f\u043e\u0434 \u043e\u0442\u043a\u0440\u044b\u0442\u044b\u043c \u043d\u0435\u0431\u043e\u043c  v-1580217090  \n1       \u041a\u0438\u043d\u043e\u0442\u0435\u0430\u0442\u0440 \u00ab\u0412\u043b\u0430\u0434\u0438\u0432\u043e\u0441\u0442\u043e\u043a\u00bb  v-1580217090  \n2                  7\u0414 \u041a\u0438\u043d\u043e\u0442\u0435\u0430\u0442\u0440  v-1580217090  \n3                    \u041e\u043a\u0435\u0430\u043d IMAX  v-1580217090  \n4                        \u0423\u0441\u0441\u0443\u0440\u0438  v-1580217090  \n5                      \u0418\u043b\u043b\u044e\u0437\u0438\u043e\u043d  v-1580217090  \n6                     \u0413\u0430\u043b\u0430\u043a\u0442\u0438\u043a\u0430  v-1580217090  \n7                        \u041d\u0435\u043f\u0442\u0443\u043d  v-1580217090  "
                    },
                    "execution_count": 13,
                    "metadata": {},
                    "output_type": "execute_result"
                }
            ],
            "source": "#Tranform venues into a dataframe.\ndf_cinema = json_normalize(venues)\n\n#Apply a valid_malls mask to df_malls DataFrame.\ndf_cinema = df_cinema.iloc[valid_cinema, :]\ndf_cinema.reset_index(inplace=True, drop=True)\ndf_cinema"
        },
        {
            "cell_type": "code",
            "execution_count": 14,
            "metadata": {},
            "outputs": [
                {
                    "data": {
                        "text/html": "<div>\n<style scoped>\n    .dataframe tbody tr th:only-of-type {\n        vertical-align: middle;\n    }\n\n    .dataframe tbody tr th {\n        vertical-align: top;\n    }\n\n    .dataframe thead th {\n        text-align: right;\n    }\n</style>\n<table border=\"1\" class=\"dataframe\">\n  <thead>\n    <tr style=\"text-align: right;\">\n      <th></th>\n      <th>name</th>\n      <th>categories</th>\n      <th>lat</th>\n      <th>lng</th>\n      <th>id</th>\n    </tr>\n  </thead>\n  <tbody>\n    <tr>\n      <th>0</th>\n      <td>\u041a\u0438\u043d\u043e\u0442\u0435\u0430\u0442\u0440 \u043f\u043e\u0434 \u043e\u0442\u043a\u0440\u044b\u0442\u044b\u043c \u043d\u0435\u0431\u043e\u043c</td>\n      <td>Movie Theater</td>\n      <td>43.117600</td>\n      <td>131.878222</td>\n      <td>51b32091498e954e6c465027</td>\n    </tr>\n    <tr>\n      <th>1</th>\n      <td>\u041a\u0438\u043d\u043e\u0442\u0435\u0430\u0442\u0440 \u00ab\u0412\u043b\u0430\u0434\u0438\u0432\u043e\u0441\u0442\u043e\u043a\u00bb</td>\n      <td>Movie Theater</td>\n      <td>43.111971</td>\n      <td>131.937990</td>\n      <td>4f6bf0dce4b068929e154d5d</td>\n    </tr>\n    <tr>\n      <th>2</th>\n      <td>7\u0414 \u041a\u0438\u043d\u043e\u0442\u0435\u0430\u0442\u0440</td>\n      <td>Movie Theater</td>\n      <td>43.120622</td>\n      <td>131.876021</td>\n      <td>53255a8f498ed5af59489dd0</td>\n    </tr>\n    <tr>\n      <th>3</th>\n      <td>\u041e\u043a\u0435\u0430\u043d IMAX</td>\n      <td>Multiplex</td>\n      <td>43.116622</td>\n      <td>131.877880</td>\n      <td>4c70d4db9375a0932f5b0837</td>\n    </tr>\n    <tr>\n      <th>4</th>\n      <td>\u0423\u0441\u0441\u0443\u0440\u0438</td>\n      <td>Multiplex</td>\n      <td>43.115752</td>\n      <td>131.886885</td>\n      <td>4c68c79735d3be9ab1d31d06</td>\n    </tr>\n    <tr>\n      <th>5</th>\n      <td>\u0418\u043b\u043b\u044e\u0437\u0438\u043e\u043d</td>\n      <td>Multiplex</td>\n      <td>43.162483</td>\n      <td>131.911358</td>\n      <td>4de0303bfa76425c5412fd69</td>\n    </tr>\n    <tr>\n      <th>6</th>\n      <td>\u0413\u0430\u043b\u0430\u043a\u0442\u0438\u043a\u0430</td>\n      <td>Movie Theater</td>\n      <td>43.092194</td>\n      <td>131.973069</td>\n      <td>4c4a55c69c8d2d7f7dc75d69</td>\n    </tr>\n    <tr>\n      <th>7</th>\n      <td>\u041d\u0435\u043f\u0442\u0443\u043d</td>\n      <td>Movie Theater</td>\n      <td>43.169497</td>\n      <td>131.922403</td>\n      <td>4ecb62c093adb4bd1ad84427</td>\n    </tr>\n  </tbody>\n</table>\n</div>",
                        "text/plain": "                           name     categories        lat         lng  \\\n0  \u041a\u0438\u043d\u043e\u0442\u0435\u0430\u0442\u0440 \u043f\u043e\u0434 \u043e\u0442\u043a\u0440\u044b\u0442\u044b\u043c \u043d\u0435\u0431\u043e\u043c  Movie Theater  43.117600  131.878222   \n1       \u041a\u0438\u043d\u043e\u0442\u0435\u0430\u0442\u0440 \u00ab\u0412\u043b\u0430\u0434\u0438\u0432\u043e\u0441\u0442\u043e\u043a\u00bb  Movie Theater  43.111971  131.937990   \n2                  7\u0414 \u041a\u0438\u043d\u043e\u0442\u0435\u0430\u0442\u0440  Movie Theater  43.120622  131.876021   \n3                    \u041e\u043a\u0435\u0430\u043d IMAX      Multiplex  43.116622  131.877880   \n4                        \u0423\u0441\u0441\u0443\u0440\u0438      Multiplex  43.115752  131.886885   \n5                      \u0418\u043b\u043b\u044e\u0437\u0438\u043e\u043d      Multiplex  43.162483  131.911358   \n6                     \u0413\u0430\u043b\u0430\u043a\u0442\u0438\u043a\u0430  Movie Theater  43.092194  131.973069   \n7                        \u041d\u0435\u043f\u0442\u0443\u043d  Movie Theater  43.169497  131.922403   \n\n                         id  \n0  51b32091498e954e6c465027  \n1  4f6bf0dce4b068929e154d5d  \n2  53255a8f498ed5af59489dd0  \n3  4c70d4db9375a0932f5b0837  \n4  4c68c79735d3be9ab1d31d06  \n5  4de0303bfa76425c5412fd69  \n6  4c4a55c69c8d2d7f7dc75d69  \n7  4ecb62c093adb4bd1ad84427  "
                    },
                    "execution_count": 14,
                    "metadata": {},
                    "output_type": "execute_result"
                }
            ],
            "source": "# keep only columns that include venue name, and anything that is associated with location\nfiltered_columns = ['name', 'categories'] + [col for col in df_cinema.columns if col.startswith('location.')] + ['id']\ndf_cinema = df_cinema.loc[:, filtered_columns]\n\n# function that extracts the category of the venue\ndef get_category_type(row):\n    try:\n        categories_list = row['categories']\n    except:\n        categories_list = row['venue.categories']\n        \n    if len(categories_list) == 0:\n        return None\n    else:\n        return categories_list[0]['name']\n\n# filter the category for each row\ndf_cinema['categories'] = df_cinema.apply(get_category_type, axis=1)\n\n# clean column names by keeping only last term\ndf_cinema.columns = [column.split('.')[-1] for column in df_cinema.columns]\ndf_cinema = df_cinema[['name', 'categories', 'lat', 'lng', 'id']]\n\ndf_cinema"
        },
        {
            "cell_type": "markdown",
            "metadata": {},
            "source": "Delete the firs row of <code>df_cinema</code>, because this cinema has no its own building according to its name \"\u041a\u0438\u043d\u043e\u0442\u0435\u0430\u0442\u0440 \u043f\u043e\u0434 \u043e\u0442\u043a\u0440\u044b\u0442\u044b\u043c \u043d\u0435\u0431\u043e\u043c\" - \"Open Air Cinema\"."
        },
        {
            "cell_type": "code",
            "execution_count": 15,
            "metadata": {},
            "outputs": [
                {
                    "data": {
                        "text/html": "<div>\n<style scoped>\n    .dataframe tbody tr th:only-of-type {\n        vertical-align: middle;\n    }\n\n    .dataframe tbody tr th {\n        vertical-align: top;\n    }\n\n    .dataframe thead th {\n        text-align: right;\n    }\n</style>\n<table border=\"1\" class=\"dataframe\">\n  <thead>\n    <tr style=\"text-align: right;\">\n      <th></th>\n      <th>name</th>\n      <th>categories</th>\n      <th>lat</th>\n      <th>lng</th>\n      <th>id</th>\n    </tr>\n  </thead>\n  <tbody>\n    <tr>\n      <th>1</th>\n      <td>\u041a\u0438\u043d\u043e\u0442\u0435\u0430\u0442\u0440 \u00ab\u0412\u043b\u0430\u0434\u0438\u0432\u043e\u0441\u0442\u043e\u043a\u00bb</td>\n      <td>Movie Theater</td>\n      <td>43.111971</td>\n      <td>131.937990</td>\n      <td>4f6bf0dce4b068929e154d5d</td>\n    </tr>\n    <tr>\n      <th>2</th>\n      <td>7\u0414 \u041a\u0438\u043d\u043e\u0442\u0435\u0430\u0442\u0440</td>\n      <td>Movie Theater</td>\n      <td>43.120622</td>\n      <td>131.876021</td>\n      <td>53255a8f498ed5af59489dd0</td>\n    </tr>\n    <tr>\n      <th>3</th>\n      <td>\u041e\u043a\u0435\u0430\u043d IMAX</td>\n      <td>Multiplex</td>\n      <td>43.116622</td>\n      <td>131.877880</td>\n      <td>4c70d4db9375a0932f5b0837</td>\n    </tr>\n    <tr>\n      <th>4</th>\n      <td>\u0423\u0441\u0441\u0443\u0440\u0438</td>\n      <td>Multiplex</td>\n      <td>43.115752</td>\n      <td>131.886885</td>\n      <td>4c68c79735d3be9ab1d31d06</td>\n    </tr>\n    <tr>\n      <th>5</th>\n      <td>\u0418\u043b\u043b\u044e\u0437\u0438\u043e\u043d</td>\n      <td>Multiplex</td>\n      <td>43.162483</td>\n      <td>131.911358</td>\n      <td>4de0303bfa76425c5412fd69</td>\n    </tr>\n    <tr>\n      <th>6</th>\n      <td>\u0413\u0430\u043b\u0430\u043a\u0442\u0438\u043a\u0430</td>\n      <td>Movie Theater</td>\n      <td>43.092194</td>\n      <td>131.973069</td>\n      <td>4c4a55c69c8d2d7f7dc75d69</td>\n    </tr>\n    <tr>\n      <th>7</th>\n      <td>\u041d\u0435\u043f\u0442\u0443\u043d</td>\n      <td>Movie Theater</td>\n      <td>43.169497</td>\n      <td>131.922403</td>\n      <td>4ecb62c093adb4bd1ad84427</td>\n    </tr>\n  </tbody>\n</table>\n</div>",
                        "text/plain": "                      name     categories        lat         lng  \\\n1  \u041a\u0438\u043d\u043e\u0442\u0435\u0430\u0442\u0440 \u00ab\u0412\u043b\u0430\u0434\u0438\u0432\u043e\u0441\u0442\u043e\u043a\u00bb  Movie Theater  43.111971  131.937990   \n2             7\u0414 \u041a\u0438\u043d\u043e\u0442\u0435\u0430\u0442\u0440  Movie Theater  43.120622  131.876021   \n3               \u041e\u043a\u0435\u0430\u043d IMAX      Multiplex  43.116622  131.877880   \n4                   \u0423\u0441\u0441\u0443\u0440\u0438      Multiplex  43.115752  131.886885   \n5                 \u0418\u043b\u043b\u044e\u0437\u0438\u043e\u043d      Multiplex  43.162483  131.911358   \n6                \u0413\u0430\u043b\u0430\u043a\u0442\u0438\u043a\u0430  Movie Theater  43.092194  131.973069   \n7                   \u041d\u0435\u043f\u0442\u0443\u043d  Movie Theater  43.169497  131.922403   \n\n                         id  \n1  4f6bf0dce4b068929e154d5d  \n2  53255a8f498ed5af59489dd0  \n3  4c70d4db9375a0932f5b0837  \n4  4c68c79735d3be9ab1d31d06  \n5  4de0303bfa76425c5412fd69  \n6  4c4a55c69c8d2d7f7dc75d69  \n7  4ecb62c093adb4bd1ad84427  "
                    },
                    "execution_count": 15,
                    "metadata": {},
                    "output_type": "execute_result"
                }
            ],
            "source": "df_cinema.drop([0])"
        },
        {
            "cell_type": "markdown",
            "metadata": {},
            "source": "### Summary"
        },
        {
            "cell_type": "markdown",
            "metadata": {},
            "source": "Concatenating dataframes together."
        },
        {
            "cell_type": "code",
            "execution_count": 16,
            "metadata": {},
            "outputs": [
                {
                    "data": {
                        "text/html": "<div>\n<style scoped>\n    .dataframe tbody tr th:only-of-type {\n        vertical-align: middle;\n    }\n\n    .dataframe tbody tr th {\n        vertical-align: top;\n    }\n\n    .dataframe thead th {\n        text-align: right;\n    }\n</style>\n<table border=\"1\" class=\"dataframe\">\n  <thead>\n    <tr style=\"text-align: right;\">\n      <th></th>\n      <th>Name</th>\n      <th>Categories</th>\n      <th>latitude</th>\n      <th>longitude</th>\n      <th>ID</th>\n    </tr>\n  </thead>\n  <tbody>\n    <tr>\n      <th>0</th>\n      <td>\u0422\u043e\u0440\u0433\u043e\u0432\u044b\u0439 \u0446\u0435\u043d\u0442\u0440 \"\u0417\u043e\u043b\u043e\u0442\u043e\u0439 \u0420\u043e\u0433\"</td>\n      <td>Shopping Mall</td>\n      <td>43.116675</td>\n      <td>131.882463</td>\n      <td>4e437b54d4c02cf15f569f74</td>\n    </tr>\n    <tr>\n      <th>1</th>\n      <td>\u041f\u0435\u0440\u0432\u043e\u0440\u0435\u0447\u0435\u043d\u0441\u043a\u0438\u0439 \u0422\u043e\u0440\u0433\u043e\u0432\u044b\u0439 \u0426\u0435\u043d\u0442\u0440</td>\n      <td>Shopping Mall</td>\n      <td>43.133333</td>\n      <td>131.899469</td>\n      <td>4d92b3aef10ea093077f191e</td>\n    </tr>\n    <tr>\n      <th>2</th>\n      <td>\u0422\u043e\u0440\u0433\u043e\u0432\u044b\u0439 \u0446\u0435\u043d\u0442\u0440 \"\u0428\u0438\u043b\u043a\u0430\"</td>\n      <td>Shopping Mall</td>\n      <td>43.119311</td>\n      <td>131.932502</td>\n      <td>584b433391936a1570de70b3</td>\n    </tr>\n    <tr>\n      <th>3</th>\n      <td>\u0422\u043e\u0440\u0433\u043e\u0432\u044b\u0439 \u0426\u0435\u043d\u0442\u0440 \u00ab\u0417\u0430\u0440\u044f\u00bb</td>\n      <td>Shopping Mall</td>\n      <td>43.169264</td>\n      <td>131.924898</td>\n      <td>4f961eebe4b0e8af220bce50</td>\n    </tr>\n    <tr>\n      <th>4</th>\n      <td>\u0422\u041a \u00ab\u0426\u0435\u043d\u0442\u0440\u0430\u043b\u044c\u043d\u044b\u0439\u00bb</td>\n      <td>Shopping Mall</td>\n      <td>43.116163</td>\n      <td>131.885856</td>\n      <td>4e2b8ab1483bb05f05a05d75</td>\n    </tr>\n    <tr>\n      <th>5</th>\n      <td>\u041f\u0435\u0448\u0435\u0445\u043e\u0434\u043d\u043e-\u0422\u043e\u0440\u0433\u043e\u0432\u044b\u0439 \u043a\u043e\u043c\u043f\u043b\u0435\u043a\u0441 \u043d\u0430 \u041b\u0443\u0433\u043e\u0432\u043e\u0439</td>\n      <td>Shopping Mall</td>\n      <td>43.111408</td>\n      <td>131.936717</td>\n      <td>4e27cf8b483baa86514f83ef</td>\n    </tr>\n    <tr>\n      <th>6</th>\n      <td>Clover House</td>\n      <td>Shopping Mall</td>\n      <td>43.118839</td>\n      <td>131.884034</td>\n      <td>4c6ce4e61fb2a14369bdfce6</td>\n    </tr>\n    <tr>\n      <th>7</th>\n      <td>\u0422\u0426 \u00ab\u0420\u043e\u0434\u0438\u043d\u0430\u00bb</td>\n      <td>Shopping Mall</td>\n      <td>43.118645</td>\n      <td>131.883044</td>\n      <td>4e4b8d23aeb72792c33ac8ef</td>\n    </tr>\n    <tr>\n      <th>8</th>\n      <td>\u041a\u0438\u043d\u043e\u0442\u0435\u0430\u0442\u0440 \u043f\u043e\u0434 \u043e\u0442\u043a\u0440\u044b\u0442\u044b\u043c \u043d\u0435\u0431\u043e\u043c</td>\n      <td>Movie Theater</td>\n      <td>43.117600</td>\n      <td>131.878222</td>\n      <td>51b32091498e954e6c465027</td>\n    </tr>\n    <tr>\n      <th>9</th>\n      <td>\u041a\u0438\u043d\u043e\u0442\u0435\u0430\u0442\u0440 \u00ab\u0412\u043b\u0430\u0434\u0438\u0432\u043e\u0441\u0442\u043e\u043a\u00bb</td>\n      <td>Movie Theater</td>\n      <td>43.111971</td>\n      <td>131.937990</td>\n      <td>4f6bf0dce4b068929e154d5d</td>\n    </tr>\n    <tr>\n      <th>10</th>\n      <td>7\u0414 \u041a\u0438\u043d\u043e\u0442\u0435\u0430\u0442\u0440</td>\n      <td>Movie Theater</td>\n      <td>43.120622</td>\n      <td>131.876021</td>\n      <td>53255a8f498ed5af59489dd0</td>\n    </tr>\n    <tr>\n      <th>11</th>\n      <td>\u041e\u043a\u0435\u0430\u043d IMAX</td>\n      <td>Multiplex</td>\n      <td>43.116622</td>\n      <td>131.877880</td>\n      <td>4c70d4db9375a0932f5b0837</td>\n    </tr>\n    <tr>\n      <th>12</th>\n      <td>\u0423\u0441\u0441\u0443\u0440\u0438</td>\n      <td>Multiplex</td>\n      <td>43.115752</td>\n      <td>131.886885</td>\n      <td>4c68c79735d3be9ab1d31d06</td>\n    </tr>\n    <tr>\n      <th>13</th>\n      <td>\u0418\u043b\u043b\u044e\u0437\u0438\u043e\u043d</td>\n      <td>Multiplex</td>\n      <td>43.162483</td>\n      <td>131.911358</td>\n      <td>4de0303bfa76425c5412fd69</td>\n    </tr>\n    <tr>\n      <th>14</th>\n      <td>\u0413\u0430\u043b\u0430\u043a\u0442\u0438\u043a\u0430</td>\n      <td>Movie Theater</td>\n      <td>43.092194</td>\n      <td>131.973069</td>\n      <td>4c4a55c69c8d2d7f7dc75d69</td>\n    </tr>\n    <tr>\n      <th>15</th>\n      <td>\u041d\u0435\u043f\u0442\u0443\u043d</td>\n      <td>Movie Theater</td>\n      <td>43.169497</td>\n      <td>131.922403</td>\n      <td>4ecb62c093adb4bd1ad84427</td>\n    </tr>\n  </tbody>\n</table>\n</div>",
                        "text/plain": "                                      Name     Categories   latitude  \\\n0             \u0422\u043e\u0440\u0433\u043e\u0432\u044b\u0439 \u0446\u0435\u043d\u0442\u0440 \"\u0417\u043e\u043b\u043e\u0442\u043e\u0439 \u0420\u043e\u0433\"  Shopping Mall  43.116675   \n1            \u041f\u0435\u0440\u0432\u043e\u0440\u0435\u0447\u0435\u043d\u0441\u043a\u0438\u0439 \u0422\u043e\u0440\u0433\u043e\u0432\u044b\u0439 \u0426\u0435\u043d\u0442\u0440  Shopping Mall  43.133333   \n2                   \u0422\u043e\u0440\u0433\u043e\u0432\u044b\u0439 \u0446\u0435\u043d\u0442\u0440 \"\u0428\u0438\u043b\u043a\u0430\"  Shopping Mall  43.119311   \n3                    \u0422\u043e\u0440\u0433\u043e\u0432\u044b\u0439 \u0426\u0435\u043d\u0442\u0440 \u00ab\u0417\u0430\u0440\u044f\u00bb  Shopping Mall  43.169264   \n4                         \u0422\u041a \u00ab\u0426\u0435\u043d\u0442\u0440\u0430\u043b\u044c\u043d\u044b\u0439\u00bb  Shopping Mall  43.116163   \n5   \u041f\u0435\u0448\u0435\u0445\u043e\u0434\u043d\u043e-\u0422\u043e\u0440\u0433\u043e\u0432\u044b\u0439 \u043a\u043e\u043c\u043f\u043b\u0435\u043a\u0441 \u043d\u0430 \u041b\u0443\u0433\u043e\u0432\u043e\u0439  Shopping Mall  43.111408   \n6                             Clover House  Shopping Mall  43.118839   \n7                              \u0422\u0426 \u00ab\u0420\u043e\u0434\u0438\u043d\u0430\u00bb  Shopping Mall  43.118645   \n8             \u041a\u0438\u043d\u043e\u0442\u0435\u0430\u0442\u0440 \u043f\u043e\u0434 \u043e\u0442\u043a\u0440\u044b\u0442\u044b\u043c \u043d\u0435\u0431\u043e\u043c  Movie Theater  43.117600   \n9                  \u041a\u0438\u043d\u043e\u0442\u0435\u0430\u0442\u0440 \u00ab\u0412\u043b\u0430\u0434\u0438\u0432\u043e\u0441\u0442\u043e\u043a\u00bb  Movie Theater  43.111971   \n10                            7\u0414 \u041a\u0438\u043d\u043e\u0442\u0435\u0430\u0442\u0440  Movie Theater  43.120622   \n11                              \u041e\u043a\u0435\u0430\u043d IMAX      Multiplex  43.116622   \n12                                  \u0423\u0441\u0441\u0443\u0440\u0438      Multiplex  43.115752   \n13                                \u0418\u043b\u043b\u044e\u0437\u0438\u043e\u043d      Multiplex  43.162483   \n14                               \u0413\u0430\u043b\u0430\u043a\u0442\u0438\u043a\u0430  Movie Theater  43.092194   \n15                                  \u041d\u0435\u043f\u0442\u0443\u043d  Movie Theater  43.169497   \n\n     longitude                        ID  \n0   131.882463  4e437b54d4c02cf15f569f74  \n1   131.899469  4d92b3aef10ea093077f191e  \n2   131.932502  584b433391936a1570de70b3  \n3   131.924898  4f961eebe4b0e8af220bce50  \n4   131.885856  4e2b8ab1483bb05f05a05d75  \n5   131.936717  4e27cf8b483baa86514f83ef  \n6   131.884034  4c6ce4e61fb2a14369bdfce6  \n7   131.883044  4e4b8d23aeb72792c33ac8ef  \n8   131.878222  51b32091498e954e6c465027  \n9   131.937990  4f6bf0dce4b068929e154d5d  \n10  131.876021  53255a8f498ed5af59489dd0  \n11  131.877880  4c70d4db9375a0932f5b0837  \n12  131.886885  4c68c79735d3be9ab1d31d06  \n13  131.911358  4de0303bfa76425c5412fd69  \n14  131.973069  4c4a55c69c8d2d7f7dc75d69  \n15  131.922403  4ecb62c093adb4bd1ad84427  "
                    },
                    "execution_count": 16,
                    "metadata": {},
                    "output_type": "execute_result"
                }
            ],
            "source": "df_places = pd.concat([df_malls, df_cinema])\ndf_places.reset_index(inplace=True, drop=True)\ndf_places.columns = ['Name', 'Categories', 'latitude', 'longitude', 'ID']\ndf_places"
        },
        {
            "cell_type": "code",
            "execution_count": 17,
            "metadata": {},
            "outputs": [
                {
                    "name": "stdout",
                    "output_type": "stream",
                    "text": "43.1150678 131.8855768\n"
                }
            ],
            "source": "address = 'Vladivostok'\n\ngeolocator = Nominatim(user_agent=\"foursquare_agent\")\nlocation = geolocator.geocode(address)\nlatitude = location.latitude\nlongitude = location.longitude\n\nprint(latitude, longitude)"
        },
        {
            "cell_type": "code",
            "execution_count": 18,
            "metadata": {
                "scrolled": false
            },
            "outputs": [
                {
                    "data": {
                        "text/html": "<div style=\"width:100%;\"><div style=\"position:relative;width:100%;height:0;padding-bottom:60%;\"><iframe src=\"data:text/html;charset=utf-8;base64,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\" style=\"position:absolute;width:100%;height:100%;left:0;top:0;border:none !important;\" allowfullscreen webkitallowfullscreen mozallowfullscreen></iframe></div></div>",
                        "text/plain": "<folium.folium.Map at 0x7f8e1f20f518>"
                    },
                    "execution_count": 18,
                    "metadata": {},
                    "output_type": "execute_result"
                }
            ],
            "source": "venues_map = folium.Map(location=[latitude, longitude], zoom_start=12) # generate map centred around the Conrad Hotel\n\n# add the Italian restaurants as blue circle markers\nfor lat, lng, label in zip(df_places.latitude, df_places.longitude, df_places.Categories):\n    if 'Mall' in label:\n        folium.features.CircleMarker(\n            [lat, lng],\n            radius=5,\n            color='blue',\n            popup=label,\n            fill = True,\n            fill_color='blue',\n            fill_opacity=0.6\n        ).add_to(venues_map)\n    else:\n        folium.features.CircleMarker(\n            [lat, lng],\n            radius=5,\n            color='red',\n            popup=label,\n            fill = True,\n            fill_color='red',\n            fill_opacity=0.6\n        ).add_to(venues_map)\n    \n# display map\nvenues_map"
        },
        {
            "cell_type": "markdown",
            "metadata": {},
            "source": "It was be trivial. Much harder will show relevant places in the first line of the houses. And it will be a real useful information."
        },
        {
            "cell_type": "markdown",
            "metadata": {},
            "source": "## Die Hard"
        },
        {
            "cell_type": "markdown",
            "metadata": {},
            "source": "### Data Mining"
        },
        {
            "cell_type": "code",
            "execution_count": 19,
            "metadata": {},
            "outputs": [],
            "source": "try:\n    import geopandas as gpd\nexcept ModuleNotFoundError:\n        !conda install geopandas\nfinally:\n    try:\n        import geopandas as gpd\n    except ModuleNotFoundError:\n        print('geopandas isn\\'t installed.')"
        },
        {
            "cell_type": "markdown",
            "metadata": {},
            "source": "I was downloaded the <code>.shp.zip</code> file from [Geofabrik](https://download.geofabrik.de/russia/far-eastern-fed-district.html, \"OpenStreetMap Data Extracts\"). Then I did some magic with [Mapshaper](https://mapshaper.org/.In) with use <code>-filter 'name=\"\u0412\u043b\u0430\u0434\u0438\u0432\u043e\u0441\u0442\u043e\u043a\"'</code> on the main map, what cutted off another places, then I called <code>-clip my_part.shp</code> when I was in the another map, which I would like to cut off by using lately a recieved template. In contrast to 85 Gb of [the whole Earth](https://planet.openstreetmap.org/, \"Planet OSM\")  this 419 Mb of the Far Easter Federal District <code>.shp</code> file I downloaded is not so terribly big. Now, let load up the data and check it."
        },
        {
            "cell_type": "code",
            "execution_count": null,
            "metadata": {},
            "outputs": [
                {
                    "data": {
                        "text/html": "<div>\n<style scoped>\n    .dataframe tbody tr th:only-of-type {\n        vertical-align: middle;\n    }\n\n    .dataframe tbody tr th {\n        vertical-align: top;\n    }\n\n    .dataframe thead th {\n        text-align: right;\n    }\n</style>\n<table border=\"1\" class=\"dataframe\">\n  <thead>\n    <tr style=\"text-align: right;\">\n      <th></th>\n      <th>osm_id</th>\n      <th>code</th>\n      <th>fclass</th>\n      <th>name</th>\n      <th>geometry</th>\n    </tr>\n  </thead>\n  <tbody>\n    <tr>\n      <th>0</th>\n      <td>25617751</td>\n      <td>7202</td>\n      <td>park</td>\n      <td>\u0421\u043a\u0432\u0435\u0440 \u0438\u043c. \u0421\u0443\u0445\u0430\u043d\u043e\u0432\u0430</td>\n      <td>POLYGON ((131.89212 43.11855, 131.89232 43.118...</td>\n    </tr>\n    <tr>\n      <th>1</th>\n      <td>26687466</td>\n      <td>7202</td>\n      <td>park</td>\n      <td>\u0410\u0434\u043c\u0438\u0440\u0430\u043b\u044c\u0441\u043a\u0438\u0439 \u0441\u043a\u0432\u0435\u0440</td>\n      <td>POLYGON ((131.89044 43.11387, 131.89053 43.114...</td>\n    </tr>\n    <tr>\n      <th>2</th>\n      <td>27152608</td>\n      <td>7202</td>\n      <td>park</td>\n      <td></td>\n      <td>POLYGON ((131.91059 43.10179, 131.91060 43.101...</td>\n    </tr>\n    <tr>\n      <th>3</th>\n      <td>27420195</td>\n      <td>7202</td>\n      <td>park</td>\n      <td>\u0422\u0435\u0430\u0442\u0440\u0430\u043b\u044c\u043d\u044b\u0439 \u0441\u043a\u0432\u0435\u0440</td>\n      <td>POLYGON ((131.89258 43.11454, 131.89272 43.114...</td>\n    </tr>\n    <tr>\n      <th>4</th>\n      <td>27534478</td>\n      <td>7202</td>\n      <td>park</td>\n      <td>\u0421\u043a\u0432\u0435\u0440 \u0438\u043c. \u041d\u0435\u0432\u0435\u043b\u044c\u0441\u043a\u043e\u0433\u043e</td>\n      <td>POLYGON ((131.89669 43.11303, 131.89671 43.113...</td>\n    </tr>\n  </tbody>\n</table>\n</div>",
                        "text/plain": "     osm_id  code fclass                   name  \\\n0  25617751  7202   park     \u0421\u043a\u0432\u0435\u0440 \u0438\u043c. \u0421\u0443\u0445\u0430\u043d\u043e\u0432\u0430   \n1  26687466  7202   park     \u0410\u0434\u043c\u0438\u0440\u0430\u043b\u044c\u0441\u043a\u0438\u0439 \u0441\u043a\u0432\u0435\u0440   \n2  27152608  7202   park                          \n3  27420195  7202   park      \u0422\u0435\u0430\u0442\u0440\u0430\u043b\u044c\u043d\u044b\u0439 \u0441\u043a\u0432\u0435\u0440   \n4  27534478  7202   park  \u0421\u043a\u0432\u0435\u0440 \u0438\u043c. \u041d\u0435\u0432\u0435\u043b\u044c\u0441\u043a\u043e\u0433\u043e   \n\n                                            geometry  \n0  POLYGON ((131.89212 43.11855, 131.89232 43.118...  \n1  POLYGON ((131.89044 43.11387, 131.89053 43.114...  \n2  POLYGON ((131.91059 43.10179, 131.91060 43.101...  \n3  POLYGON ((131.89258 43.11454, 131.89272 43.114...  \n4  POLYGON ((131.89669 43.11303, 131.89671 43.113...  "
                    },
                    "execution_count": 20,
                    "metadata": {},
                    "output_type": "execute_result"
                }
            ],
            "source": "# The code was removed by Watson Studio for sharing."
        },
        {
            "cell_type": "markdown",
            "metadata": {},
            "source": "There is not everyone class of land is suitable for bakehouse. We can't to locate bakery onto the administrative areas, onto military unit, cemetery and so on. Let show the set of different classes of the land."
        },
        {
            "cell_type": "code",
            "execution_count": null,
            "metadata": {},
            "outputs": [
                {
                    "name": "stdout",
                    "output_type": "stream",
                    "text": "Length of DataFrame is:  8959\n"
                },
                {
                    "data": {
                        "text/plain": "array(['park', 'forest', 'military', 'industrial', 'residential',\n       'cemetery', 'scrub', 'grass', 'quarry', 'commercial', 'retail',\n       'nature_reserve', 'allotments', 'heath', 'orchard', 'farm'],\n      dtype=object)"
                    },
                    "execution_count": 21,
                    "metadata": {},
                    "output_type": "execute_result"
                }
            ],
            "source": "print('Length of DataFrame is: ', len(df_landuse))\npd.unique(df_landuse['fclass'])"
        },
        {
            "cell_type": "code",
            "execution_count": null,
            "metadata": {},
            "outputs": [
                {
                    "name": "stdout",
                    "output_type": "stream",
                    "text": "Length of the DataFrame contains any class of land is:  8959\n"
                },
                {
                    "data": {
                        "text/html": "<div>\n<style scoped>\n    .dataframe tbody tr th:only-of-type {\n        vertical-align: middle;\n    }\n\n    .dataframe tbody tr th {\n        vertical-align: top;\n    }\n\n    .dataframe thead th {\n        text-align: right;\n    }\n</style>\n<table border=\"1\" class=\"dataframe\">\n  <thead>\n    <tr style=\"text-align: right;\">\n      <th></th>\n      <th>osm_id</th>\n      <th>code</th>\n      <th>fclass</th>\n      <th>name</th>\n      <th>geometry</th>\n    </tr>\n  </thead>\n  <tbody>\n    <tr>\n      <th>0</th>\n      <td>33389088</td>\n      <td>7203</td>\n      <td>residential</td>\n      <td></td>\n      <td>POLYGON ((131.91132 43.15505, 131.91133 43.155...</td>\n    </tr>\n    <tr>\n      <th>1</th>\n      <td>44888532</td>\n      <td>7203</td>\n      <td>residential</td>\n      <td></td>\n      <td>POLYGON ((131.90832 43.15458, 131.90829 43.154...</td>\n    </tr>\n    <tr>\n      <th>2</th>\n      <td>45061124</td>\n      <td>7203</td>\n      <td>residential</td>\n      <td></td>\n      <td>POLYGON ((131.88793 43.13638, 131.88798 43.136...</td>\n    </tr>\n    <tr>\n      <th>3</th>\n      <td>45376149</td>\n      <td>7203</td>\n      <td>residential</td>\n      <td></td>\n      <td>POLYGON ((131.91396 43.10271, 131.91407 43.102...</td>\n    </tr>\n    <tr>\n      <th>4</th>\n      <td>45784015</td>\n      <td>7209</td>\n      <td>commercial</td>\n      <td></td>\n      <td>POLYGON ((131.88375 43.11889, 131.88376 43.119...</td>\n    </tr>\n  </tbody>\n</table>\n</div>",
                        "text/plain": "     osm_id  code       fclass name  \\\n0  33389088  7203  residential        \n1  44888532  7203  residential        \n2  45061124  7203  residential        \n3  45376149  7203  residential        \n4  45784015  7209   commercial        \n\n                                            geometry  \n0  POLYGON ((131.91132 43.15505, 131.91133 43.155...  \n1  POLYGON ((131.90832 43.15458, 131.90829 43.154...  \n2  POLYGON ((131.88793 43.13638, 131.88798 43.136...  \n3  POLYGON ((131.91396 43.10271, 131.91407 43.102...  \n4  POLYGON ((131.88375 43.11889, 131.88376 43.119...  "
                    },
                    "execution_count": 22,
                    "metadata": {},
                    "output_type": "execute_result"
                }
            ],
            "source": "usable_land = ['residential', 'commercial', 'retail'] #Yes, 'residential' too. I check it, in Mapshaper, it can\n                                                      #be. \n\nprint('Length of the DataFrame contains any class of land is: ', len(df_landuse))\ndf_usable = df_landuse[df_landuse.fclass.apply(lambda land: land in usable_land)]\ndf_usable.reset_index(inplace=True, drop=True)\ndf_usable.head()"
        },
        {
            "cell_type": "code",
            "execution_count": null,
            "metadata": {},
            "outputs": [
                {
                    "name": "stdout",
                    "output_type": "stream",
                    "text": "Length of the DataFrame contains usable land is:  603\n"
                }
            ],
            "source": "print('Length of the DataFrame contains usable land is: ', len(df_usable))"
        },
        {
            "cell_type": "markdown",
            "metadata": {},
            "source": "Loading parking places data and buildings data. These data contains polygones each of them are represent parking areas and buildings perymetrs."
        },
        {
            "cell_type": "code",
            "execution_count": null,
            "metadata": {},
            "outputs": [
                {
                    "data": {
                        "text/html": "<div>\n<style scoped>\n    .dataframe tbody tr th:only-of-type {\n        vertical-align: middle;\n    }\n\n    .dataframe tbody tr th {\n        vertical-align: top;\n    }\n\n    .dataframe thead th {\n        text-align: right;\n    }\n</style>\n<table border=\"1\" class=\"dataframe\">\n  <thead>\n    <tr style=\"text-align: right;\">\n      <th></th>\n      <th>osm_id</th>\n      <th>code</th>\n      <th>fclass</th>\n      <th>name</th>\n      <th>type</th>\n      <th>geometry</th>\n    </tr>\n  </thead>\n  <tbody>\n    <tr>\n      <th>0</th>\n      <td>23946365</td>\n      <td>1500</td>\n      <td>building</td>\n      <td>\u041e\u043a\u0435\u0430\u043d</td>\n      <td></td>\n      <td>POLYGON ((131.87754 43.11645, 131.87755 43.116...</td>\n    </tr>\n    <tr>\n      <th>1</th>\n      <td>24164985</td>\n      <td>1500</td>\n      <td>building</td>\n      <td>\u041c\u043e\u0440\u0441\u043a\u043e\u0439 \u0412\u043e\u043a\u0437\u0430\u043b</td>\n      <td></td>\n      <td>POLYGON ((131.88222 43.11082, 131.88268 43.111...</td>\n    </tr>\n    <tr>\n      <th>2</th>\n      <td>26537156</td>\n      <td>1500</td>\n      <td>building</td>\n      <td>\u041f\u0440\u0438\u043c\u043e\u0440\u0441\u043a\u0438\u0439 \u0434\u0440\u0430\u043c\u0430\u0442\u0438\u0447\u0435\u0441\u043a\u0438\u0439 \u0442\u0435\u0430\u0442\u0440 \u0438\u043c\u0435\u043d\u0438 \u041c\u0430\u043a\u0441\u0438\u043c\u0430 \u0413...</td>\n      <td></td>\n      <td>POLYGON ((131.89305 43.11570, 131.89329 43.116...</td>\n    </tr>\n    <tr>\n      <th>3</th>\n      <td>26686828</td>\n      <td>1500</td>\n      <td>building</td>\n      <td>\u0426\u0438\u0440\u043a</td>\n      <td></td>\n      <td>POLYGON ((131.90547 43.11662, 131.90552 43.116...</td>\n    </tr>\n    <tr>\n      <th>4</th>\n      <td>26826883</td>\n      <td>1500</td>\n      <td>building</td>\n      <td>FESCO Hall</td>\n      <td></td>\n      <td>POLYGON ((131.87112 43.10551, 131.87117 43.105...</td>\n    </tr>\n  </tbody>\n</table>\n</div>",
                        "text/plain": "     osm_id  code    fclass  \\\n0  23946365  1500  building   \n1  24164985  1500  building   \n2  26537156  1500  building   \n3  26686828  1500  building   \n4  26826883  1500  building   \n\n                                                name type  \\\n0                                              \u041e\u043a\u0435\u0430\u043d        \n1                                     \u041c\u043e\u0440\u0441\u043a\u043e\u0439 \u0412\u043e\u043a\u0437\u0430\u043b        \n2  \u041f\u0440\u0438\u043c\u043e\u0440\u0441\u043a\u0438\u0439 \u0434\u0440\u0430\u043c\u0430\u0442\u0438\u0447\u0435\u0441\u043a\u0438\u0439 \u0442\u0435\u0430\u0442\u0440 \u0438\u043c\u0435\u043d\u0438 \u041c\u0430\u043a\u0441\u0438\u043c\u0430 \u0413...        \n3                                               \u0426\u0438\u0440\u043a        \n4                                         FESCO Hall        \n\n                                            geometry  \n0  POLYGON ((131.87754 43.11645, 131.87755 43.116...  \n1  POLYGON ((131.88222 43.11082, 131.88268 43.111...  \n2  POLYGON ((131.89305 43.11570, 131.89329 43.116...  \n3  POLYGON ((131.90547 43.11662, 131.90552 43.116...  \n4  POLYGON ((131.87112 43.10551, 131.87117 43.105...  "
                    },
                    "execution_count": 24,
                    "metadata": {},
                    "output_type": "execute_result"
                }
            ],
            "source": "body = client_4b48aeaada904ad29e3d3d03072d749e.get_object(Bucket='courserads-donotdelete-pr-7suxmds10oqqm9',Key='Vladivostok_buildings.json')['Body']\n# add missing __iter__ method, so pandas accepts body as file-like object \n\nif not hasattr(body, \"__iter__\"): body.__iter__ = types.MethodType( __iter__, body )\n\n\n\ndf_buildings = gpd.read_file(body)\ndf_buildings.head()"
        },
        {
            "cell_type": "code",
            "execution_count": null,
            "metadata": {},
            "outputs": [
                {
                    "name": "stdout",
                    "output_type": "stream",
                    "text": "Length of DataFrame is:  57604\n"
                }
            ],
            "source": "print('Length of DataFrame is: ', df_buildings.shape[0])"
        },
        {
            "cell_type": "markdown",
            "metadata": {},
            "source": "Check unique types of buildings."
        },
        {
            "cell_type": "code",
            "execution_count": null,
            "metadata": {},
            "outputs": [
                {
                    "data": {
                        "text/plain": "array(['', 'apartments', 'university', 'public', 'school', 'construction',\n       'cathedral', 'warehouse', 'hospital', 'commercial', 'ruins',\n       'industrial', 'service', 'kindergarten', 'detached', 'garage',\n       'roof', 'garages', 'house', 'college', 'church', 'residential',\n       'retail', 'dormitory', 'train_station', 'office', 'civic',\n       'hangar', 'greenhouse', 'shed', 'hotel', 'bungalow', 'c\u0441', 'kiosk',\n       'chapel', 'toilets', 'non-residential', 'parking', 'barn', '\u043d',\n       'd\u0432', 'stadium', 'farm'], dtype=object)"
                    },
                    "execution_count": 26,
                    "metadata": {},
                    "output_type": "execute_result"
                }
            ],
            "source": "types = pd.unique(df_buildings['type'])\ntypes"
        },
        {
            "cell_type": "markdown",
            "metadata": {},
            "source": "Show names corresponding to each type of building."
        },
        {
            "cell_type": "code",
            "execution_count": null,
            "metadata": {},
            "outputs": [
                {
                    "name": "stdout",
                    "output_type": "stream",
                    "text": "apartments:\n ['\u0421\u0435\u0440\u0430\u044f \u041b\u043e\u0448\u0430\u0434\u044c' '\u0422\u0412-\u0426\u0435\u043d\u0442\u0440' '\u041e\u0444\u0438\u0441 \u043a\u043e\u043c\u043f\u0430\u043d\u0438\u0438 \"\u041f\u043e\u0434\u0440\u044f\u0434\"'\n '\u041c\u0435\u0433\u0430\u0431\u0430\u0439\u0442. \u041f\u0440\u043e\u0434\u0430\u0436\u0430 \u0438 \u0440\u0435\u043c\u043e\u043d\u0442 \u043a\u043e\u043c\u043f\u044c\u044e\u0442\u0435\u0440\u043e\u0432 \u0438 \u043d\u043e\u0443\u0442\u0431\u0443\u043a\u043e\u0432' '\u0424\u0440\u0435\u0433\u0430\u0442'\n 'OOO \"Belsu co LTD\"' '\u0410\u043b\u044b\u0435 \u043f\u0430\u0440\u0443\u0441\u0430' '\u0416\u0438\u043b\u043e\u0439 \u043a\u043e\u043c\u043f\u043b\u0435\u043a\u0441 \u00ab\u0422\u0435\u0430\u0442\u0440\u0430\u043b\u044c\u043d\u044b\u0439\u00bb'\n 'OOO \"VT Forwarding\"' '\u0416\u0438\u043b\u043e\u0439 \u0434\u043e\u043c \u00ab\u041f\u0440\u0435\u043c\u044c\u0435\u0440\u0430\u00bb'\n '\u0416\u0438\u043b\u043e\u0439 \u043a\u043e\u043c\u043f\u043b\u0435\u043a\u0441 \u00ab\u0411\u0440\u0438\u0433\u0430\u043d\u0442\u0438\u043d\u0430\u00bb'] \n\nuniversity:\n ['\u0414\u0412\u0424\u0423. \u0428\u043a\u043e\u043b\u0430 \u0435\u0441\u0442\u0435\u0441\u0442\u0432\u0435\u043d\u043d\u044b\u0445 \u043d\u0430\u0443\u043a' '\u0412\u043e\u0441\u0442\u043e\u0447\u043d\u044b\u0439 \u0418\u043d\u0441\u0442\u0438\u0442\u0443\u0442 \u0414\u0412\u0424\u0423' '\u0414\u0412\u0424\u0423'\n '\u0414\u0430\u043b\u044c\u043d\u0435\u0432\u043e\u0441\u0442\u043e\u0447\u043d\u044b\u0439 \u0433\u0435\u043e\u043b\u043e\u0433\u0438\u0447\u0435\u0441\u043a\u0438\u0439 \u0438\u043d\u0441\u0442\u0438\u0442\u0443\u0442 \u0414\u0412\u041e \u0420\u0410\u041d'\n '\u0422\u0438\u0445\u043e\u043e\u043a\u0435\u0430\u043d\u0441\u043a\u0438\u0439 \u0438\u043d\u0441\u0442\u0438\u0442\u0443\u0442 \u0433\u0435\u043e\u0433\u0440\u0430\u0444\u0438\u0438 \u0414\u0412\u041e \u0420\u0410\u041d'] \n\npublic:\n ['\u0418\u043d\u0441\u0442\u0438\u0442\u0443\u0442 \u0431\u0438\u043e\u043b\u043e\u0433\u0438\u0438 \u043c\u043e\u0440\u044f \u0414\u0412\u041e \u0420\u0410\u041d' '\u0412\u043b\u0430\u0434\u0438\u0432\u043e\u0441\u0442\u043e\u043a\u0441\u043a\u043e\u0435 \u043c\u0443\u0437\u044b\u043a\u0430\u043b\u044c\u043d\u043e\u0435 \u0443\u0447\u0438\u043b\u0438\u0449\u0435'\n '\u0414\u0430\u043b\u044c\u043d\u0435\u0432\u043e\u0441\u0442\u043e\u0447\u043d\u044b\u0439 \u044d\u043d\u0435\u0440\u0433\u0435\u0442\u0438\u0447\u0435\u0441\u043a\u0438\u0439 \u0442\u0435\u0445\u043d\u0438\u043a\u0443\u043c'\n '\u041a\u0440\u0430\u0435\u0432\u043e\u0439 \u043f\u0441\u0438\u0445\u043e\u043d\u0435\u0432\u0440\u043e\u043b\u043e\u0433\u0438\u0447\u0435\u0441\u043a\u0438\u0439 \u0434\u043e\u043c \u0440\u0435\u0431\u0451\u043d\u043a\u0430'\n '\u0423\u043f\u0440\u0430\u0432\u043b\u0435\u043d\u0438\u0435 \u0420\u043e\u0441\u0441\u0435\u043b\u044c\u0445\u043e\u0437\u043d\u0430\u0434\u0437\u043e\u0440\u0430 \u043f\u043e \u041f\u0440\u0438\u043c\u043e\u0440\u0441\u043a\u043e\u043c\u0443 \u043a\u0440\u0430\u044e'\n '\u0413\u043b\u0430\u0432\u043d\u044b\u0439 \u043a\u043e\u0440\u043f\u0443\u0441. \u0413\u043e\u0440\u043e\u0434\u0441\u043a\u0430\u044f \u0431\u043e\u043b\u044c\u043d\u0438\u0446\u0430 \u21164.\u0422\u0435\u0440\u0430\u043f\u0435\u0432\u0442\u0438\u0447\u0435\u0441\u043a\u0438\u0439'\n '\u0414\u0430\u043b\u044c\u0437\u0430\u0432\u043e\u0434\u0441\u043a\u0430\u044f \u043f\u043e\u043b\u0438\u043a\u043b\u0438\u043d\u043d\u0438\u043a\u0430 (#4)' '\u041e\u0442\u0434\u0435\u043b\u0435\u043d\u0438\u0435 \u0441\u0435\u0441\u0442\u0440\u0438\u043d\u0441\u043a\u043e\u0433\u043e \u0443\u0445\u043e\u0434\u0430'\n '\u0420\u043e\u0434\u0438\u043b\u044c\u043d\u044b\u0439 \u0414\u043e\u043c \u21161' '\u041a\u0440\u0430\u0435\u0432\u0430\u044f \u0441\u0442\u043e\u043c\u0430\u0442\u043e\u043b\u043e\u0433\u0438\u0447\u0435\u0441\u043a\u0430\u044f \u043f\u043e\u043b\u0438\u043a\u043b\u0438\u043d\u0438\u043a\u0430'\n '\u041c\u0438\u0440\u043e\u0432\u044b\u0435 \u0441\u0443\u0434\u044c\u0438 \u041b\u0435\u043d\u0438\u043d\u0441\u043a\u043e\u0433\u043e \u0440\u0430\u0439\u043e\u043d\u0430'\n '\u041f\u0440\u0430\u0432\u043e\u0441\u043b\u0430\u0432\u043d\u044b\u0439 \u0445\u0440\u0430\u043c \u0421\u0432\u044f\u0442\u043e\u0433\u043e \u0430\u043f\u043e\u0441\u0442\u043e\u043b\u0430 \u0410\u043d\u0434\u0440\u0435\u044f \u041f\u0435\u0440\u0432\u043e\u0437\u0432\u0430\u043d\u043d'\n '\u041a\u0440\u0430\u0435\u0432\u0430\u044f \u0434\u0435\u0442\u0441\u043a\u0430\u044f \u043f\u0441\u0438\u0445\u0438\u0430\u0442\u0440\u0438\u0447\u0435\u0441\u043a\u0430\u044f \u0431\u043e\u043b\u044c\u043d\u0438\u0446\u0430' '\u0414\u0435\u0442\u0441\u043a\u0430\u044f \u0448\u043a\u043e\u043b\u0430 \u0438\u0441\u043a\u0443\u0441c\u0442\u0432 \u21163'\n '\u041f\u0440\u0438\u0451\u043c\u043d\u043e\u0435 \u043e\u0442\u0434\u0435\u043b\u0435\u043d\u0438\u0435' '\u0417\u0410\u0413\u0421 \u041f\u0435\u0440\u0432\u043e\u043c\u0430\u0439\u0441\u043a\u043e\u0433\u043e \u0440\u0430\u0439\u043e\u043d\u0430'\n '\u0414\u043e\u043c \u0434\u0435\u0442\u0441\u0442\u0432\u0430 \u0438 \u044e\u043d\u043e\u0448\u0435\u0441\u0442\u0432\u0430 \u0438\u043c\u0435\u043d\u0438 \u041a\u0440\u044b\u0433\u0438\u043d\u0430' '\u0418\u043d\u0441\u0442\u0438\u0442\u0443\u0442 \u0445\u0438\u043c\u0438\u0438 \u0414\u0412\u041e \u0420\u0410\u041d'\n '\u041f\u0440\u0438\u043c\u043e\u0440\u0441\u043a\u0438\u0439 \u043a\u0440\u0430\u0435\u0432\u043e\u0439 \u0446\u0435\u043d\u0442\u0440 \u043d\u0430\u0440\u043e\u0434\u043d\u043e\u0439 \u043a\u0443\u043b\u044c\u0442\u0443\u0440\u044b' '\u0424\u0435\u0442\u0438\u0441\u043e\u0432 \u0425\u043e\u043b\u043b \u0410\u0440\u0435\u043d\u0430'\n '\u0425\u0440\u0430\u043c \u0421\u0432\u044f\u0442\u0438\u0442\u0435\u043b\u044f \u041d\u0438\u043a\u043e\u043b\u0430\u044f' '\u0421\u0432\u044f\u0442\u043e-\u0422\u0440\u043e\u0438\u0446\u043a\u0438\u0439 \u0445\u0440\u0430\u043c'\n '\u0445\u0440\u0430\u043c \u0441\u0432\u044f\u0442\u043e\u0433\u043e \u043f\u0440\u0435\u043f\u043e\u0434\u043e\u0431\u043d\u043e\u0433\u043e \u0421\u0435\u0440\u0433\u0438\u044f \u0420\u0430\u0434\u043e\u043d\u0435\u0436\u0441\u043a\u043e\u0433\u043e'\n '\u0418\u043d\u0441\u0442\u0438\u0442\u0443\u0442 \u0430\u0432\u0442\u043e\u043c\u0430\u0442\u0438\u043a\u0438 \u0438 \u043f\u0440\u043e\u0446\u0435\u0441\u0441\u043e\u0432 \u0443\u043f\u0440\u0430\u0432\u043b\u0435\u043d\u0438\u044f \u0414\u0412\u041e \u0420\u0410\u041d' '\u0414\u0430\u043b\u044c\u044d\u043d\u0435\u0440\u0433\u043e\u0441\u0431\u044b\u0442'] \n\nschool:\n ['\u042d\u0432\u0440\u0438\u043a\u0430' '\u0412\u0435\u0447\u0435\u0440\u043d\u044f\u044f (\u0441\u043c\u0435\u043d\u043d\u0430\u044f) \u0448\u043a\u043e\u043b\u0430 \u211620'] \n\nconstruction:\n ['\u041e\u0442\u0435\u043b\u044c Hayatt' '\u0421\u043f\u0430\u0441\u043e-\u041f\u0440\u0435\u043e\u0431\u0440\u0430\u0436\u0435\u043d\u0441\u043a\u0438\u0439 \u043a\u0430\u0444\u0435\u0434\u0440\u0430\u043b\u044c\u043d\u044b\u0439 \u0441\u043e\u0431\u043e\u0440'\n '\u0445\u0440\u0430\u043c \u0432 \u0447\u0435\u0441\u0442\u044c \u0438\u043a\u043e\u043d\u044b \u041f\u0440\u0435\u0441\u0432\u044f\u0442\u043e\u0439 \u0411\u043e\u0433\u043e\u0440\u043e\u0434\u0438\u0446\u044b \"\u0412\u0441\u0435\u0445 \u0441\u043a\u043e\u0440\u0431\u044f\u0449\u0438' '\u0422\u0426 \"\u0411\u0430\u0441\u0430\u0440\u0433\u0438\u043d\u0430\"'\n '\u0416\u0438\u043b\u043e\u0439 \u043a\u043e\u043c\u043f\u043b\u0435\u043a\u0441 \"\u041c\u043e\u0440\u0438\u043e\u043d\"' '\u0437\u0430\u043a\u0440\u044b\u0442\u0430\u044f \u0442\u0440\u0451\u0445\u0443\u0440\u043e\u0432\u043d\u0435\u0432\u0430\u044f \u0430\u0432\u0442\u043e\u043c\u043e\u0431\u0438\u043b\u044c\u043d\u0430\u044f \u043f\u0430\u0440\u043a\u043e\u0432\u043a\u0430'\n '\u0414\u043e\u043c \u21169' '\u0414\u043e\u043c \u21168' '\u0414\u043e\u043c \u21167' '\u0414\u043e\u043c \u21166' '\u0414\u043e\u043c \u21165' '\u0414\u043e\u043c \u21163' '\u0414\u043e\u043c \u21162' '\u0414\u043e\u043c \u21161'\n '\u0414\u043e\u043c \u21164' '\u0416\u041a \"\u0421\u0430\u0445\u0430\u0440\u043d\u044b\u0439 \u041a\u043b\u044e\u0447\"'] \n\ncathedral:\n ['\u0421\u043e\u0431\u043e\u0440 \u041f\u043e\u043a\u0440\u043e\u0432\u0430 \u041f\u0440\u0435\u0441\u0432\u044f\u0442\u043e\u0439 \u0411\u043e\u0433\u043e\u0440\u043e\u0434\u0438\u0446\u044b'\n '\u041a\u0430\u0442\u043e\u043b\u0438\u0447\u0435\u0441\u043a\u0438\u0439 \u041f\u0440\u0438\u0445\u043e\u0434 \u041f\u0440\u0435\u0441\u0432\u044f\u0442\u043e\u0439 \u0411\u043e\u0433\u043e\u0440\u043e\u0434\u0438\u0446\u044b'] \n\nwarehouse:\n ['\u0421\u043a\u043b\u0430\u0434 490' '\u0421\u043a\u043b\u0430\u0434 450' '\u0425\u043e\u043b\u043e\u0434\u0438\u043b\u044c\u043d\u0438\u043a 1' '\u0425\u043e\u043b\u043e\u0434\u0438\u043b\u044c\u043d\u0438\u043a 2'] \n\nhospital:\n ['\u041f\u0440\u0438\u043c\u043e\u0440\u0441\u043a\u0438\u0439 \u043a\u0440\u0430\u0435\u0432\u043e\u0439 \u0446\u0435\u043d\u0442\u0440 \u0440\u0435\u0430\u0431\u0438\u043b\u0438\u0442\u0430\u0446\u0438\u0438 \u0441\u043b\u0443\u0445\u0430' '\u0421\u0442\u0430\u0446\u0438\u043e\u043d\u0430\u0440 \u0413\u0411\u0423\u0417 \u041a\u041a\u0411 \u21162'\n '\u041a\u0440\u0430\u0435\u0432\u0430\u044f \u0431\u043e\u043b\u044c\u043d\u0438\u0446\u0430' '\u041e\u0442\u0434\u0435\u043b\u0435\u043d\u0438\u0435 \u0432\u0438\u0440\u0443\u0441\u043d\u044b\u0445 \u0433\u0435\u043f\u0430\u0442\u0438\u0442\u043e\u0432'\n '\u0420\u0430\u0434\u0438\u043e\u043b\u043e\u0433\u0438\u0447\u0435\u0441\u043a\u043e\u0435 \u043e\u0442\u0434\u0435\u043b\u0435\u043d\u0438\u0435'\n '\u0425\u0438\u0440\u0443\u0440\u0433\u0438\u0447\u0435\u0441\u043a\u043e\u0435 \u043e\u043d\u043a\u043e\u043b\u043e\u0433\u0438\u0447\u0435\u0441\u043a\u043e\u0435 \u043e\u0442\u0434\u0435\u043b\u0435\u043d\u0438\u0435 \u21162 \u0438 \u043e\u0442\u0434\u0435\u043b\u0435\u043d\u0438'] \n\ncommercial:\n ['\u0421\u043c\u0430\u043a' '\"\u0417\u043e\u0434\u0438\u0430\u043a\" (\u0421\u043f\u043e\u0440\u0442\u0438\u0432\u043d\u0430\u044f \u043e\u0434\u0435\u0436\u0434\u0430)'\n '\u0444\u0438\u043b\u0438\u0430\u043b \u041e\u0410\u041e \"\u0424\u0421\u041a \u0415\u042d\u0421\" - \u041f\u0440\u0438\u043c\u043e\u0440\u0441\u043a\u043e\u0435 \u041f\u041c\u042d\u0421' '\u0413\u0422\u0420\u041a \"\u0412\u043b\u0430\u0434\u0438\u0432\u043e\u0441\u0442\u043e\u043a\"' '\u0414\u041e\u0421\u0410\u0410\u0424'\n '\u0421\u043e\u0444\u0442-\u0421\u0435\u0440\u0432\u0438\u0441' '\u0424\u0440\u0435\u0433\u0430\u0442, \u0431\u0438\u0437\u043d\u0435\u0441-\u0446\u0435\u043d\u0442\u0440' '\u041c\u0430\u0433\u0430\u0437\u0438\u043d \u0441\u0442\u0440\u043e\u0439\u043c\u0430\u0442\u0435\u0440\u0438\u0430\u043b\u043e\u0432'\n '\u0424\u0435\u0441\u043a\u043e\u043d\u0442\u0440\u0430\u043a\u0442' '\u0421\u0435\u043c\u0451\u0440\u043e\u0447\u043a\u0430' '\u041e\u041e\u041e \u0421\u0412\u041a' '\u041e\u041e\u041e \"\u0412\u0418\u0420\u0410\"' 'East Marine'\n '\u0422\u0426 \u0411\u0430\u0433\u0440\u0430\u0442\u0438\u043e\u043d' '\u0413\u0435\u043e\u043b\u043e\u0433\u0438\u044f' '\u042d\u043a\u0441\u043f\u043e\u043b\u0435\u0441'] \n\nruins:\n ['\u041d\u0435\u0434\u043e\u0441\u0442\u0440\u043e\u0435\u043d\u043d\u0430\u044f \u0431\u043e\u043b\u044c\u043d\u0438\u0446\u0430' '\u0414\u043e\u043c \u043a\u0443\u043b\u044c\u0442\u0443\u0440\u044b' '\u0437\u0434\u0430\u043d\u0438\u0435 \u0441\u0430\u043d\u0430\u0442\u043e\u0440\u0438\u044f \"\u041a\u043e\u0440\u0430\u043b\u043b\"'] \n\nindustrial:\n ['\u041f\u0440\u0438\u043c\u043e\u0440\u0441\u043a\u0438\u0439 \u041a\u043e\u043d\u0434\u0438\u0442\u0435\u0440' '\u0420\u0430\u0434\u0438\u043e\u043f\u0440\u0438\u0431\u043e\u0440' '\u0414\u0438\u043e\u043c\u0438\u0434\u043e\u0432\u0441\u043a\u0438\u0439 \u0421\u0420\u0417' '\u0410\u043d\u0442\u0435\u0439-\u0410\u0432\u0442\u043e'\n '\u041d\u0430\u0441\u043e\u0441\u043d\u0430\u044f \u0421\u0442\u0430\u043d\u0446\u0438\u044f \u0421\u0443\u0445\u043e\u0433\u043e \u0414\u043e\u043a\u0430 #1' '\u042d\u043a\u0441\u043f\u043e\u043b\u0435\u0441. \u0421\u043a\u043b\u0430\u0434 \u21168' '\u0421\u0443\u0445\u043e\u0439 \u0414\u043e\u043a #1'] \n\nservice:\n [] \n\nkindergarten:\n ['\u0414\u0435\u0442\u0441\u043a\u0438\u0439 \u0441\u0430\u0434 \u2116176'] \n\ndetached:\n ['\"\u0411\u0430\u043d\u044c\u043a\u0430\" \u0420\u0443\u0441\u0441\u043a\u0430\u044f \u0438\u0437\u0431\u0430' '\u0433\u0430\u0440\u0430\u0436'] \n\ngarage:\n ['Matsuda' '\u0410\u0432\u0442\u043e\u0441\u0435\u0440\u0432\u0438\u0441'] \n\nroof:\n [] \n\ngarages:\n ['\u0413\u0421\u041a-44/2' '\u0413\u0421\u041a' '\u0413\u0421\u041a \"\u0413\u0438\u0433\u0430\u043d\u0442\"' '\u0413\u0421\u041a-123' '\u0413\u0421\u041a-113' '\u043a\u043e\u043d\u0442\u0435\u0439\u043d\u0435\u0440'] \n\nhouse:\n [] \n\ncollege:\n ['\u0420\u0435\u0433\u0438\u043e\u043d\u0430\u043b\u044c\u043d\u044b\u0439 \u0442\u0435\u0445\u043d\u0438\u0447\u0435\u0441\u043a\u0438\u0439 \u043a\u043e\u043b\u043b\u0435\u0434\u0436' '\u041f\u0440\u0438\u043c\u043e\u0440\u0441\u043a\u0438\u0439 \u043f\u043e\u043b\u0438\u0442\u0435\u0445\u043d\u0438\u0447\u0435\u0441\u043a\u0438\u0439 \u043a\u043e\u043b\u043b\u0435\u0434\u0436'] \n\nchurch:\n ['\u041a\u0430\u0437\u0430\u043d\u0441\u043a\u0438\u0439 \u0445\u0440\u0430\u043c' '\u0445\u0440\u0430\u043c \u0441\u0432\u044f\u0442\u044b\u0445 \u0440\u0430\u0432\u043d\u043e\u0430\u043f\u043e\u0441\u0442\u043e\u043b\u044c\u043d\u044b\u0445 \u041c\u0435\u0444\u043e\u0434\u0438\u044f \u0438 \u041a\u0438\u0440\u0438\u043b\u043b\u0430'\n '\u0425\u0440\u0430\u043c \u0441\u0432\u044f\u0442\u043e\u0433\u043e \u043f\u0440\u0430\u0432\u0435\u0434\u043d\u043e\u0433\u043e \u0418\u043e\u0430\u043d\u043d\u0430 \u041a\u0440\u043e\u043d\u0448\u0442\u0430\u0434\u0442\u0441\u043a\u043e\u0433\u043e' '\u041d\u043e\u0432\u0430\u044f \u043d\u0430\u0434\u0435\u0436\u0434\u0430'] \n\nresidential:\n [] \n\nretail:\n ['\u0422\u0426 \u041b\u0443\u0433\u043e\u0432\u0430\u044f' '\u0422\u0438\u043c\u044c\u044f\u043d' '\u0422\u0426 \"\u041b\u0443\u0433\u043e\u0432\u0430\u044f\"' '\u0427\u0435\u0440\u0451\u043c\u0443\u0448\u043a\u0438' '\u0422\u0426 \u041c\u0430\u044f\u043a'] \n\ndormitory:\n ['\u041e\u0431\u0449\u0435\u0436\u0438\u0442\u0438\u0435 \u041a\u0413\u041e\u0410\u0423 \u0421\u041f\u041e \"\u042d\u043d\u0435\u0440\u0433\u0435\u0442\u0438\u0447\u0435\u0441\u043a\u0438\u0439 \u043a\u043e\u043b\u043b\u0435\u0434\u0436\"' '\u0414\u0412\u0424\u0423'] \n\ntrain_station:\n ['\u0421\u0442\u0430\u043d\u0446\u0438\u044f \u0413\u0430\u0439\u0434\u0430\u043c\u0430\u043a'] \n\noffice:\n ['\u0410\u0434\u043c\u0438\u043d\u0438\u0441\u0442\u0440\u0430\u0446\u0438\u044f \u0430\u0432\u0442\u043e\u0440\u044b\u043d\u043a\u0430' '\u0410\u043b\u044c\u044f\u043d\u0441' '\u0410\u0434\u043c\u0438\u043d\u0438\u0441\u0442\u0440\u0430\u0446\u0438\u044f \u0431\u0430\u0437\u044b \u0420\u043e\u0441\u0431\u0430\u043a\u0430\u043b\u0435\u044f'] \n\ncivic:\n ['\u0422\u0426 \u041f\u0435\u0440\u0435\u0445\u043e\u0434'] \n\nhangar:\n [] \n\ngreenhouse:\n [] \n\nshed:\n [] \n\nhotel:\n ['\u041b\u0430\u0437\u0443\u0440\u043d\u044b\u0439 \u0411\u0435\u0440\u0435\u0433'] \n\nbungalow:\n [] \n\nc\u0441:\n [] \n\nkiosk:\n [] \n\nchapel:\n ['\u0427\u0430\u0441\u043e\u0432\u043d\u044f \u0441\u0432\u044f\u0442\u043e\u0433\u043e \u0430\u043f\u043e\u0441\u0442\u043e\u043b\u0430 \u0410\u043d\u0434\u0440\u0435\u044f \u041f\u0435\u0440\u0432\u043e\u0437\u0432\u0430\u043d\u043d\u043e\u0433\u043e'] \n\ntoilets:\n [] \n\nnon-residential:\n [] \n\nparking:\n [] \n\nbarn:\n [] \n\n\u043d:\n [] \n\nd\u0432:\n [] \n\nstadium:\n [] \n\nfarm:\n [] \n\n"
                }
            ],
            "source": "for t in types[1:]:\n    summary = df_buildings['name'][(df_buildings['type'] == t) & \n                                (df_buildings['name'] != '')]\n    print(t + ':\\n', pd.unique(summary), '\\n')"
        },
        {
            "cell_type": "code",
            "execution_count": null,
            "metadata": {},
            "outputs": [
                {
                    "name": "stdout",
                    "output_type": "stream",
                    "text": "Length of the DataFrame contains any type of buildings is: 57604\n"
                },
                {
                    "data": {
                        "text/html": "<div>\n<style scoped>\n    .dataframe tbody tr th:only-of-type {\n        vertical-align: middle;\n    }\n\n    .dataframe tbody tr th {\n        vertical-align: top;\n    }\n\n    .dataframe thead th {\n        text-align: right;\n    }\n</style>\n<table border=\"1\" class=\"dataframe\">\n  <thead>\n    <tr style=\"text-align: right;\">\n      <th></th>\n      <th>osm_id</th>\n      <th>code</th>\n      <th>fclass</th>\n      <th>name</th>\n      <th>type</th>\n      <th>geometry</th>\n    </tr>\n  </thead>\n  <tbody>\n    <tr>\n      <th>0</th>\n      <td>23946365</td>\n      <td>1500</td>\n      <td>building</td>\n      <td>\u041e\u043a\u0435\u0430\u043d</td>\n      <td></td>\n      <td>POLYGON ((131.87754 43.11645, 131.87755 43.116...</td>\n    </tr>\n    <tr>\n      <th>1</th>\n      <td>24164985</td>\n      <td>1500</td>\n      <td>building</td>\n      <td>\u041c\u043e\u0440\u0441\u043a\u043e\u0439 \u0412\u043e\u043a\u0437\u0430\u043b</td>\n      <td></td>\n      <td>POLYGON ((131.88222 43.11082, 131.88268 43.111...</td>\n    </tr>\n    <tr>\n      <th>2</th>\n      <td>26537156</td>\n      <td>1500</td>\n      <td>building</td>\n      <td>\u041f\u0440\u0438\u043c\u043e\u0440\u0441\u043a\u0438\u0439 \u0434\u0440\u0430\u043c\u0430\u0442\u0438\u0447\u0435\u0441\u043a\u0438\u0439 \u0442\u0435\u0430\u0442\u0440 \u0438\u043c\u0435\u043d\u0438 \u041c\u0430\u043a\u0441\u0438\u043c\u0430 \u0413...</td>\n      <td></td>\n      <td>POLYGON ((131.89305 43.11570, 131.89329 43.116...</td>\n    </tr>\n    <tr>\n      <th>3</th>\n      <td>26686828</td>\n      <td>1500</td>\n      <td>building</td>\n      <td>\u0426\u0438\u0440\u043a</td>\n      <td></td>\n      <td>POLYGON ((131.90547 43.11662, 131.90552 43.116...</td>\n    </tr>\n    <tr>\n      <th>4</th>\n      <td>26826883</td>\n      <td>1500</td>\n      <td>building</td>\n      <td>FESCO Hall</td>\n      <td></td>\n      <td>POLYGON ((131.87112 43.10551, 131.87117 43.105...</td>\n    </tr>\n  </tbody>\n</table>\n</div>",
                        "text/plain": "     osm_id  code    fclass  \\\n0  23946365  1500  building   \n1  24164985  1500  building   \n2  26537156  1500  building   \n3  26686828  1500  building   \n4  26826883  1500  building   \n\n                                                name type  \\\n0                                              \u041e\u043a\u0435\u0430\u043d        \n1                                     \u041c\u043e\u0440\u0441\u043a\u043e\u0439 \u0412\u043e\u043a\u0437\u0430\u043b        \n2  \u041f\u0440\u0438\u043c\u043e\u0440\u0441\u043a\u0438\u0439 \u0434\u0440\u0430\u043c\u0430\u0442\u0438\u0447\u0435\u0441\u043a\u0438\u0439 \u0442\u0435\u0430\u0442\u0440 \u0438\u043c\u0435\u043d\u0438 \u041c\u0430\u043a\u0441\u0438\u043c\u0430 \u0413...        \n3                                               \u0426\u0438\u0440\u043a        \n4                                         FESCO Hall        \n\n                                            geometry  \n0  POLYGON ((131.87754 43.11645, 131.87755 43.116...  \n1  POLYGON ((131.88222 43.11082, 131.88268 43.111...  \n2  POLYGON ((131.89305 43.11570, 131.89329 43.116...  \n3  POLYGON ((131.90547 43.11662, 131.90552 43.116...  \n4  POLYGON ((131.87112 43.10551, 131.87117 43.105...  "
                    },
                    "execution_count": 28,
                    "metadata": {},
                    "output_type": "execute_result"
                }
            ],
            "source": "usable_buildings = ['', 'apartments', 'retail', 'hotel'] \n\nprint('Length of the DataFrame contains any type of buildings is:', df_buildings.shape[0])\ndf_bakeries = df_buildings[df_buildings['type'].apply(lambda bld: bld in usable_buildings)]\ndf_bakeries.reset_index(inplace=True, drop=True)\ndf_bakeries.head()"
        },
        {
            "cell_type": "code",
            "execution_count": null,
            "metadata": {},
            "outputs": [
                {
                    "name": "stdout",
                    "output_type": "stream",
                    "text": "29101\n"
                },
                {
                    "data": {
                        "text/plain": "array(['', 'apartments', 'retail', 'hotel'], dtype=object)"
                    },
                    "execution_count": 29,
                    "metadata": {},
                    "output_type": "execute_result"
                }
            ],
            "source": "print(df_bakeries.shape[0])\npd.unique(df_bakeries['type'])"
        },
        {
            "cell_type": "markdown",
            "metadata": {},
            "source": "Bakeries must be placed only onto the suitable land. Filter bakeries by this condition with using <code>geopandas</code> method <code>.within(other)</code> for checking contenting one in other and atribute\n<code>.centrod</code> which returns the centroid of polygon."
        },
        {
            "cell_type": "code",
            "execution_count": null,
            "metadata": {},
            "outputs": [],
            "source": "putin = lambda building: bool(df_usable.geometry.contains(building.centroid).sum())\ndf_bakeries = df_bakeries[df_bakeries.geometry.apply(putin)]"
        },
        {
            "cell_type": "code",
            "execution_count": null,
            "metadata": {},
            "outputs": [
                {
                    "name": "stdout",
                    "output_type": "stream",
                    "text": "Length of the DataFrame contains useful class of buildings is: 13655\n"
                }
            ],
            "source": "print('Length of the DataFrame contains useful class of buildings is:', df_bakeries.shape[0])"
        },
        {
            "cell_type": "markdown",
            "metadata": {},
            "source": "Check how many parking places contains this DataFrame."
        },
        {
            "cell_type": "code",
            "execution_count": null,
            "metadata": {},
            "outputs": [
                {
                    "data": {
                        "text/plain": "5"
                    },
                    "execution_count": 32,
                    "metadata": {},
                    "output_type": "execute_result"
                }
            ],
            "source": "len(df_buildings[df_buildings['type'] == 'parking'])"
        },
        {
            "cell_type": "markdown",
            "metadata": {},
            "source": "Actually, as a native citizen I know Vladivostok city has more parking. To find them is necessary load another DataFrame which holds only parking. Next to a bakehouse must has a parking not far than 20 meters."
        },
        {
            "cell_type": "code",
            "execution_count": null,
            "metadata": {},
            "outputs": [
                {
                    "data": {
                        "text/html": "<div>\n<style scoped>\n    .dataframe tbody tr th:only-of-type {\n        vertical-align: middle;\n    }\n\n    .dataframe tbody tr th {\n        vertical-align: top;\n    }\n\n    .dataframe thead th {\n        text-align: right;\n    }\n</style>\n<table border=\"1\" class=\"dataframe\">\n  <thead>\n    <tr style=\"text-align: right;\">\n      <th></th>\n      <th>osm_id</th>\n      <th>code</th>\n      <th>fclass</th>\n      <th>name</th>\n      <th>geometry</th>\n    </tr>\n  </thead>\n  <tbody>\n    <tr>\n      <th>0</th>\n      <td>47027380</td>\n      <td>5270</td>\n      <td>parking_bicycle</td>\n      <td></td>\n      <td>POLYGON ((131.89171 43.13051, 131.89171 43.130...</td>\n    </tr>\n    <tr>\n      <th>1</th>\n      <td>47286823</td>\n      <td>5260</td>\n      <td>parking</td>\n      <td></td>\n      <td>POLYGON ((131.93530 43.11601, 131.93544 43.116...</td>\n    </tr>\n    <tr>\n      <th>2</th>\n      <td>47288293</td>\n      <td>5260</td>\n      <td>parking</td>\n      <td></td>\n      <td>POLYGON ((131.93640 43.11494, 131.93641 43.114...</td>\n    </tr>\n    <tr>\n      <th>3</th>\n      <td>47419448</td>\n      <td>5260</td>\n      <td>parking</td>\n      <td></td>\n      <td>POLYGON ((131.88875 43.11797, 131.88888 43.118...</td>\n    </tr>\n    <tr>\n      <th>4</th>\n      <td>47425341</td>\n      <td>5260</td>\n      <td>parking</td>\n      <td></td>\n      <td>POLYGON ((131.88418 43.11831, 131.88420 43.118...</td>\n    </tr>\n  </tbody>\n</table>\n</div>",
                        "text/plain": "     osm_id  code           fclass name  \\\n0  47027380  5270  parking_bicycle        \n1  47286823  5260          parking        \n2  47288293  5260          parking        \n3  47419448  5260          parking        \n4  47425341  5260          parking        \n\n                                            geometry  \n0  POLYGON ((131.89171 43.13051, 131.89171 43.130...  \n1  POLYGON ((131.93530 43.11601, 131.93544 43.116...  \n2  POLYGON ((131.93640 43.11494, 131.93641 43.114...  \n3  POLYGON ((131.88875 43.11797, 131.88888 43.118...  \n4  POLYGON ((131.88418 43.11831, 131.88420 43.118...  "
                    },
                    "execution_count": 33,
                    "metadata": {},
                    "output_type": "execute_result"
                }
            ],
            "source": "body = client_4b48aeaada904ad29e3d3d03072d749e.get_object(Bucket='courserads-donotdelete-pr-7suxmds10oqqm9',Key='Vladivostok_traffic.json')['Body']\n# add missing __iter__ method, so pandas accepts body as file-like object \n\nif not hasattr(body, \"__iter__\"): body.__iter__ = types.MethodType( __iter__, body )\n\ndf_parking = gpd.read_file(body)\ndf_parking.head()"
        },
        {
            "cell_type": "code",
            "execution_count": null,
            "metadata": {},
            "outputs": [
                {
                    "data": {
                        "text/plain": "array(['parking_bicycle', 'parking', 'marina', 'parking_multistorey',\n       'fuel', 'dam', 'parking_underground'], dtype=object)"
                    },
                    "execution_count": 34,
                    "metadata": {},
                    "output_type": "execute_result"
                }
            ],
            "source": "pd.unique(df_parking.fclass)"
        },
        {
            "cell_type": "code",
            "execution_count": null,
            "metadata": {},
            "outputs": [
                {
                    "name": "stdout",
                    "output_type": "stream",
                    "text": "Length of the DataFrame contains any class of parking is:  9036\n"
                },
                {
                    "data": {
                        "text/html": "<div>\n<style scoped>\n    .dataframe tbody tr th:only-of-type {\n        vertical-align: middle;\n    }\n\n    .dataframe tbody tr th {\n        vertical-align: top;\n    }\n\n    .dataframe thead th {\n        text-align: right;\n    }\n</style>\n<table border=\"1\" class=\"dataframe\">\n  <thead>\n    <tr style=\"text-align: right;\">\n      <th></th>\n      <th>osm_id</th>\n      <th>code</th>\n      <th>fclass</th>\n      <th>name</th>\n      <th>geometry</th>\n    </tr>\n  </thead>\n  <tbody>\n    <tr>\n      <th>0</th>\n      <td>47027380</td>\n      <td>5270</td>\n      <td>parking_bicycle</td>\n      <td></td>\n      <td>POLYGON ((131.89171 43.13051, 131.89171 43.130...</td>\n    </tr>\n    <tr>\n      <th>1</th>\n      <td>47286823</td>\n      <td>5260</td>\n      <td>parking</td>\n      <td></td>\n      <td>POLYGON ((131.93530 43.11601, 131.93544 43.116...</td>\n    </tr>\n    <tr>\n      <th>2</th>\n      <td>47288293</td>\n      <td>5260</td>\n      <td>parking</td>\n      <td></td>\n      <td>POLYGON ((131.93640 43.11494, 131.93641 43.114...</td>\n    </tr>\n    <tr>\n      <th>3</th>\n      <td>47419448</td>\n      <td>5260</td>\n      <td>parking</td>\n      <td></td>\n      <td>POLYGON ((131.88875 43.11797, 131.88888 43.118...</td>\n    </tr>\n    <tr>\n      <th>4</th>\n      <td>47425341</td>\n      <td>5260</td>\n      <td>parking</td>\n      <td></td>\n      <td>POLYGON ((131.88418 43.11831, 131.88420 43.118...</td>\n    </tr>\n  </tbody>\n</table>\n</div>",
                        "text/plain": "     osm_id  code           fclass name  \\\n0  47027380  5270  parking_bicycle        \n1  47286823  5260          parking        \n2  47288293  5260          parking        \n3  47419448  5260          parking        \n4  47425341  5260          parking        \n\n                                            geometry  \n0  POLYGON ((131.89171 43.13051, 131.89171 43.130...  \n1  POLYGON ((131.93530 43.11601, 131.93544 43.116...  \n2  POLYGON ((131.93640 43.11494, 131.93641 43.114...  \n3  POLYGON ((131.88875 43.11797, 131.88888 43.118...  \n4  POLYGON ((131.88418 43.11831, 131.88420 43.118...  "
                    },
                    "execution_count": 35,
                    "metadata": {},
                    "output_type": "execute_result"
                }
            ],
            "source": "usable_parking = ['parking_bicycle', 'parking', 'parking_multistorey', 'parking_underground']\n\nprint('Length of the DataFrame contains any class of parking is: ', df_parking.shape[0])\ndf_parking = df_parking[df_parking['fclass'].apply(lambda fclass: fclass in usable_parking)]\ndf_parking.reset_index(inplace=True, drop=True)\ndf_parking.head()"
        },
        {
            "cell_type": "code",
            "execution_count": null,
            "metadata": {},
            "outputs": [
                {
                    "data": {
                        "text/plain": "array(['parking_bicycle', 'parking', 'parking_multistorey',\n       'parking_underground'], dtype=object)"
                    },
                    "execution_count": 36,
                    "metadata": {},
                    "output_type": "execute_result"
                }
            ],
            "source": "pd.unique(df_parking.fclass)"
        },
        {
            "cell_type": "code",
            "execution_count": null,
            "metadata": {},
            "outputs": [
                {
                    "name": "stdout",
                    "output_type": "stream",
                    "text": "Length of the DataFrame contains useful class of parking is: 9020\n"
                }
            ],
            "source": "print('Length of the DataFrame contains useful class of parking is:', df_parking.shape[0])"
        },
        {
            "cell_type": "code",
            "execution_count": null,
            "metadata": {},
            "outputs": [],
            "source": "get_dist = lambda building: df_parking.geometry.distance(building).min() <= 20\ndf_bakeries[df_bakeries.geometry.apply(get_dist)]"
        },
        {
            "cell_type": "markdown",
            "metadata": {},
            "source": "Analyse can't be continue because of there is not enough power of computational system. Complexity of the latest problem is $O(n^2)$. In this case is aproximately 100000000 operations need to do, that is getting a lot of time."
        },
        {
            "cell_type": "code",
            "execution_count": null,
            "metadata": {},
            "outputs": [],
            "source": ""
        }
    ],
    "metadata": {
        "kernelspec": {
            "display_name": "Python 3.6",
            "language": "python",
            "name": "python3"
        },
        "language_info": {
            "codemirror_mode": {
                "name": "ipython",
                "version": 3
            },
            "file_extension": ".py",
            "mimetype": "text/x-python",
            "name": "python",
            "nbconvert_exporter": "python",
            "pygments_lexer": "ipython3",
            "version": "3.6.9"
        }
    },
    "nbformat": 4,
    "nbformat_minor": 1
}