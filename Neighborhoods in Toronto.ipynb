{
    "cells": [
        {
            "cell_type": "markdown",
            "metadata": {
                "collapsed": true
            },
            "source": "# Segmenting and Clustering Neighborhoods in Toronto"
        },
        {
            "cell_type": "markdown",
            "metadata": {},
            "source": "## Data Mining"
        },
        {
            "cell_type": "markdown",
            "metadata": {},
            "source": "Decription how to mine the data on Wikipedia page. Building the code to scrape the Wikipedia page. Writing the data into the DataFrame."
        },
        {
            "cell_type": "markdown",
            "metadata": {},
            "source": "### Scraping"
        },
        {
            "cell_type": "markdown",
            "metadata": {},
            "source": "* __Use the Notebook to build the code to scrape the following [Wikipedia page](https://en.wikipedia.org/wiki/List_of_postal_codes_of_Canada:_M \"List of postal codes of Canada: M\").__"
        },
        {
            "cell_type": "markdown",
            "metadata": {},
            "source": "Loading necessary libraries. Except <code>pandas</code>, both <code>request</code> and <code>lxml</code> need installation."
        },
        {
            "cell_type": "code",
            "execution_count": 1943,
            "metadata": {},
            "outputs": [],
            "source": "import pandas as pd\n\n\n\ntry:\n    import requests\nexcept ModuleNotFoundError:\n    ! conda install requests\nfinally:\n    import requests\n    \ntry:\n    import lxml.html as lh\nexcept ModuleNotFoundError:\n    ! conda install lxml\nfinally:\n    from lxml import html as lh"
        },
        {
            "cell_type": "markdown",
            "metadata": {},
            "source": "The code below allows us to get the data from the table from the [Wikipedia page](https://en.wikipedia.org/wiki/List_of_postal_codes_of_Canada:_M \"List of postal codes of Canada: M\")."
        },
        {
            "cell_type": "code",
            "execution_count": 1944,
            "metadata": {},
            "outputs": [],
            "source": "url='https://en.wikipedia.org/wiki/List_of_postal_codes_of_Canada:_M'\n\n\n\n#Create a handle, page, to handle the contents of the website.\npage = requests.get(url)\n\n#Store the contents of the website under doc.\ndoc = lh.fromstring(page.content)\n\n#Parse data that are stored between <tr>..</tr> of HTML.\ntr_elements = doc.xpath('//tr')"
        },
        {
            "cell_type": "markdown",
            "metadata": {},
            "source": "Check the length of the first 12 rows."
        },
        {
            "cell_type": "code",
            "execution_count": 1945,
            "metadata": {},
            "outputs": [
                {
                    "data": {
                        "text/plain": "[3, 3, 3, 3, 3, 3, 3, 3, 3, 3, 3, 3]"
                    },
                    "execution_count": 1945,
                    "metadata": {},
                    "output_type": "execute_result"
                }
            ],
            "source": "[len(T) for T in tr_elements[:12]]"
        },
        {
            "cell_type": "markdown",
            "metadata": {},
            "source": "Looks like all our rows have exactly 3 columns. This means all the data collected on <code>tr_elements</code> are from the table. Next, parse the first row as our header."
        },
        {
            "cell_type": "markdown",
            "metadata": {},
            "source": "Making a scraper."
        },
        {
            "cell_type": "code",
            "execution_count": 1946,
            "metadata": {},
            "outputs": [],
            "source": "def preparator(tr_elements):\n    col=[]\n    i=0\n    #For each row, store each first element (header) and an empty list.\n    for t in tr_elements[0]:\n        i+=1\n        name=t.text_content()\n        col.append((name,[]))\n    #Since out first row is the header, data is stored on the second row onwards.\n    for j, _ in enumerate(tr_elements, 1):\n        #T is our j'th row\n        T=tr_elements[j]\n\n        #If row is not of size 10, the //tr data is not from our table. \n        if len(T)!=3:\n            break\n\n        #i is the index of our column.\n        i=0\n\n        #Iterate through each element of the row.\n        for t in T.iterchildren():\n            data=t.text_content() \n            # Check if row is empty.\n            if i>0:\n            #Convert any numerical value to integers.\n                try:\n                    data=int(data)\n                except:\n                    pass\n            #Append the data to the empty list of the i'th column.\n            col[i][1].append(data)\n            #Increment i for the next column.\n            i+=1\n    return col"
        },
        {
            "cell_type": "code",
            "execution_count": 1947,
            "metadata": {},
            "outputs": [],
            "source": "col = preparator(tr_elements)"
        },
        {
            "cell_type": "markdown",
            "metadata": {},
            "source": "Scraping is complited."
        },
        {
            "cell_type": "markdown",
            "metadata": {},
            "source": "### Data Cleaning"
        },
        {
            "cell_type": "markdown",
            "metadata": {},
            "source": "Forming the DataFrame from scraped data. Examining data to find out: excess sysmbols, missing data or something else in string data of DataDrame.\nChanging headers if it is necessary and ect. "
        },
        {
            "cell_type": "markdown",
            "metadata": {},
            "source": "* __The dataframe will consist of three columns: <span style=\"color:red\">'PostalCode'</span>, <span style=\"color:red\">'Borough'</span>, and <span style=\"color:red\">'Neighborhood'</span>__\n\nExamining number of columns and length of each column."
        },
        {
            "cell_type": "code",
            "execution_count": 1948,
            "metadata": {},
            "outputs": [
                {
                    "name": "stdout",
                    "output_type": "stream",
                    "text": "3 [287, 287, 287]\n"
                }
            ],
            "source": "print(len(col), [len(C) for (title,C) in col])"
        },
        {
            "cell_type": "markdown",
            "metadata": {},
            "source": "Creating DataFrame."
        },
        {
            "cell_type": "code",
            "execution_count": 1949,
            "metadata": {},
            "outputs": [
                {
                    "data": {
                        "text/html": "<div>\n<style scoped>\n    .dataframe tbody tr th:only-of-type {\n        vertical-align: middle;\n    }\n\n    .dataframe tbody tr th {\n        vertical-align: top;\n    }\n\n    .dataframe thead th {\n        text-align: right;\n    }\n</style>\n<table border=\"1\" class=\"dataframe\">\n  <thead>\n    <tr style=\"text-align: right;\">\n      <th></th>\n      <th>Postcode</th>\n      <th>Borough</th>\n      <th>Neighbourhood</th>\n    </tr>\n  </thead>\n  <tbody>\n    <tr>\n      <th>0</th>\n      <td>M1A</td>\n      <td>Not assigned</td>\n      <td>Not assigned\\n</td>\n    </tr>\n    <tr>\n      <th>1</th>\n      <td>M2A</td>\n      <td>Not assigned</td>\n      <td>Not assigned\\n</td>\n    </tr>\n    <tr>\n      <th>2</th>\n      <td>M3A</td>\n      <td>North York</td>\n      <td>Parkwoods\\n</td>\n    </tr>\n    <tr>\n      <th>3</th>\n      <td>M4A</td>\n      <td>North York</td>\n      <td>Victoria Village\\n</td>\n    </tr>\n    <tr>\n      <th>4</th>\n      <td>M5A</td>\n      <td>Downtown Toronto</td>\n      <td>Harbourfront\\n</td>\n    </tr>\n    <tr>\n      <th>5</th>\n      <td>M6A</td>\n      <td>North York</td>\n      <td>Lawrence Heights\\n</td>\n    </tr>\n    <tr>\n      <th>6</th>\n      <td>M6A</td>\n      <td>North York</td>\n      <td>Lawrence Manor\\n</td>\n    </tr>\n    <tr>\n      <th>7</th>\n      <td>M7A</td>\n      <td>Downtown Toronto</td>\n      <td>Queen's Park\\n</td>\n    </tr>\n    <tr>\n      <th>8</th>\n      <td>M8A</td>\n      <td>Not assigned</td>\n      <td>Not assigned\\n</td>\n    </tr>\n    <tr>\n      <th>9</th>\n      <td>M9A</td>\n      <td>Queen's Park</td>\n      <td>Not assigned\\n</td>\n    </tr>\n  </tbody>\n</table>\n</div>",
                        "text/plain": "  Postcode           Borough     Neighbourhood\\n\n0      M1A      Not assigned      Not assigned\\n\n1      M2A      Not assigned      Not assigned\\n\n2      M3A        North York         Parkwoods\\n\n3      M4A        North York  Victoria Village\\n\n4      M5A  Downtown Toronto      Harbourfront\\n\n5      M6A        North York  Lawrence Heights\\n\n6      M6A        North York    Lawrence Manor\\n\n7      M7A  Downtown Toronto      Queen's Park\\n\n8      M8A      Not assigned      Not assigned\\n\n9      M9A      Queen's Park      Not assigned\\n"
                    },
                    "execution_count": 1949,
                    "metadata": {},
                    "output_type": "execute_result"
                }
            ],
            "source": "dictionary={title:column for (title,column) in col}\ndf=pd.DataFrame(dictionary)\n\ndf.head(10)"
        },
        {
            "cell_type": "code",
            "execution_count": 1950,
            "metadata": {},
            "outputs": [
                {
                    "data": {
                        "text/html": "<div>\n<style scoped>\n    .dataframe tbody tr th:only-of-type {\n        vertical-align: middle;\n    }\n\n    .dataframe tbody tr th {\n        vertical-align: top;\n    }\n\n    .dataframe thead th {\n        text-align: right;\n    }\n</style>\n<table border=\"1\" class=\"dataframe\">\n  <thead>\n    <tr style=\"text-align: right;\">\n      <th></th>\n      <th>Postcode</th>\n      <th>Borough</th>\n      <th>Neighbourhood</th>\n    </tr>\n  </thead>\n  <tbody>\n    <tr>\n      <th>282</th>\n      <td>M8Z</td>\n      <td>Etobicoke</td>\n      <td>Mimico NW\\n</td>\n    </tr>\n    <tr>\n      <th>283</th>\n      <td>M8Z</td>\n      <td>Etobicoke</td>\n      <td>The Queensway West\\n</td>\n    </tr>\n    <tr>\n      <th>284</th>\n      <td>M8Z</td>\n      <td>Etobicoke</td>\n      <td>Royal York South West\\n</td>\n    </tr>\n    <tr>\n      <th>285</th>\n      <td>M8Z</td>\n      <td>Etobicoke</td>\n      <td>South of Bloor\\n</td>\n    </tr>\n    <tr>\n      <th>286</th>\n      <td>M9Z</td>\n      <td>Not assigned</td>\n      <td>Not assigned\\n</td>\n    </tr>\n  </tbody>\n</table>\n</div>",
                        "text/plain": "    Postcode       Borough          Neighbourhood\\n\n282      M8Z     Etobicoke              Mimico NW\\n\n283      M8Z     Etobicoke     The Queensway West\\n\n284      M8Z     Etobicoke  Royal York South West\\n\n285      M8Z     Etobicoke         South of Bloor\\n\n286      M9Z  Not assigned           Not assigned\\n"
                    },
                    "execution_count": 1950,
                    "metadata": {},
                    "output_type": "execute_result"
                }
            ],
            "source": "df.tail()"
        },
        {
            "cell_type": "markdown",
            "metadata": {},
            "source": "Renaming column <span style=\"color:red\">'Postcode'</span> to <span style=\"color:red\">'PostalCode'</span>."
        },
        {
            "cell_type": "code",
            "execution_count": 1951,
            "metadata": {},
            "outputs": [
                {
                    "data": {
                        "text/html": "<div>\n<style scoped>\n    .dataframe tbody tr th:only-of-type {\n        vertical-align: middle;\n    }\n\n    .dataframe tbody tr th {\n        vertical-align: top;\n    }\n\n    .dataframe thead th {\n        text-align: right;\n    }\n</style>\n<table border=\"1\" class=\"dataframe\">\n  <thead>\n    <tr style=\"text-align: right;\">\n      <th></th>\n      <th>PostalCode</th>\n      <th>Borough</th>\n      <th>Neighbourhood</th>\n    </tr>\n  </thead>\n  <tbody>\n    <tr>\n      <th>0</th>\n      <td>M1A</td>\n      <td>Not assigned</td>\n      <td>Not assigned\\n</td>\n    </tr>\n    <tr>\n      <th>1</th>\n      <td>M2A</td>\n      <td>Not assigned</td>\n      <td>Not assigned\\n</td>\n    </tr>\n    <tr>\n      <th>2</th>\n      <td>M3A</td>\n      <td>North York</td>\n      <td>Parkwoods\\n</td>\n    </tr>\n    <tr>\n      <th>3</th>\n      <td>M4A</td>\n      <td>North York</td>\n      <td>Victoria Village\\n</td>\n    </tr>\n    <tr>\n      <th>4</th>\n      <td>M5A</td>\n      <td>Downtown Toronto</td>\n      <td>Harbourfront\\n</td>\n    </tr>\n  </tbody>\n</table>\n</div>",
                        "text/plain": "  PostalCode           Borough       Neighbourhood\n0        M1A      Not assigned      Not assigned\\n\n1        M2A      Not assigned      Not assigned\\n\n2        M3A        North York         Parkwoods\\n\n3        M4A        North York  Victoria Village\\n\n4        M5A  Downtown Toronto      Harbourfront\\n"
                    },
                    "execution_count": 1951,
                    "metadata": {},
                    "output_type": "execute_result"
                }
            ],
            "source": "df.rename(columns={'Postcode': 'PostalCode', 'Neighbourhood\\n': 'Neighbourhood'}, inplace=True)\ndf.head()"
        },
        {
            "cell_type": "markdown",
            "metadata": {},
            "source": "Check if the all names in the column <span style=\"color:red\">'Neighbourhood'</span> have a 'dirty' tail like as <span style=\"color:red\">'\\n'</span>."
        },
        {
            "cell_type": "code",
            "execution_count": 1952,
            "metadata": {},
            "outputs": [
                {
                    "data": {
                        "text/plain": "1"
                    },
                    "execution_count": 1952,
                    "metadata": {},
                    "output_type": "execute_result"
                }
            ],
            "source": "len(pd.unique(df['Neighbourhood'].apply(lambda s: s[-1:])))"
        },
        {
            "cell_type": "markdown",
            "metadata": {},
            "source": "Yes. Each of them have identical \"tin can tied to them legs\". Since we found out it, we can apply very simple rule to cut off this \"tin can\"."
        },
        {
            "cell_type": "code",
            "execution_count": 1953,
            "metadata": {},
            "outputs": [
                {
                    "data": {
                        "text/html": "<div>\n<style scoped>\n    .dataframe tbody tr th:only-of-type {\n        vertical-align: middle;\n    }\n\n    .dataframe tbody tr th {\n        vertical-align: top;\n    }\n\n    .dataframe thead th {\n        text-align: right;\n    }\n</style>\n<table border=\"1\" class=\"dataframe\">\n  <thead>\n    <tr style=\"text-align: right;\">\n      <th></th>\n      <th>PostalCode</th>\n      <th>Borough</th>\n      <th>Neighbourhood</th>\n    </tr>\n  </thead>\n  <tbody>\n    <tr>\n      <th>0</th>\n      <td>M1A</td>\n      <td>Not assigned</td>\n      <td>Not assigned</td>\n    </tr>\n    <tr>\n      <th>1</th>\n      <td>M2A</td>\n      <td>Not assigned</td>\n      <td>Not assigned</td>\n    </tr>\n    <tr>\n      <th>2</th>\n      <td>M3A</td>\n      <td>North York</td>\n      <td>Parkwoods</td>\n    </tr>\n    <tr>\n      <th>3</th>\n      <td>M4A</td>\n      <td>North York</td>\n      <td>Victoria Village</td>\n    </tr>\n    <tr>\n      <th>4</th>\n      <td>M5A</td>\n      <td>Downtown Toronto</td>\n      <td>Harbourfront</td>\n    </tr>\n  </tbody>\n</table>\n</div>",
                        "text/plain": "  PostalCode           Borough     Neighbourhood\n0        M1A      Not assigned      Not assigned\n1        M2A      Not assigned      Not assigned\n2        M3A        North York         Parkwoods\n3        M4A        North York  Victoria Village\n4        M5A  Downtown Toronto      Harbourfront"
                    },
                    "execution_count": 1953,
                    "metadata": {},
                    "output_type": "execute_result"
                }
            ],
            "source": "df['Neighbourhood'] = df.Neighbourhood.apply(lambda s: s[:-1])\ndf.head()"
        },
        {
            "cell_type": "markdown",
            "metadata": {},
            "source": "Now, DataFrame is consist of three columns: <span style=\"color:red\">'PostalCode'</span>, <span style=\"color:red\">'Borough'</span>, and <span style=\"color:red\">'Neighborhood'</span>."
        },
        {
            "cell_type": "markdown",
            "metadata": {},
            "source": "* __Only process the cells that have an assigned <span style=\"color:red\">'Borough'</span>. Ignore cells with a <span style=\"color:red\">'Borough'</span> that is 'Not assigned'.__\n\nLeave rows which have no missing data in <span style=\"color:red\">'Borough'</span> column."
        },
        {
            "cell_type": "code",
            "execution_count": 1954,
            "metadata": {},
            "outputs": [
                {
                    "data": {
                        "text/html": "<div>\n<style scoped>\n    .dataframe tbody tr th:only-of-type {\n        vertical-align: middle;\n    }\n\n    .dataframe tbody tr th {\n        vertical-align: top;\n    }\n\n    .dataframe thead th {\n        text-align: right;\n    }\n</style>\n<table border=\"1\" class=\"dataframe\">\n  <thead>\n    <tr style=\"text-align: right;\">\n      <th></th>\n      <th>PostalCode</th>\n      <th>Borough</th>\n      <th>Neighbourhood</th>\n    </tr>\n  </thead>\n  <tbody>\n    <tr>\n      <th>2</th>\n      <td>M3A</td>\n      <td>North York</td>\n      <td>Parkwoods</td>\n    </tr>\n    <tr>\n      <th>3</th>\n      <td>M4A</td>\n      <td>North York</td>\n      <td>Victoria Village</td>\n    </tr>\n    <tr>\n      <th>4</th>\n      <td>M5A</td>\n      <td>Downtown Toronto</td>\n      <td>Harbourfront</td>\n    </tr>\n    <tr>\n      <th>5</th>\n      <td>M6A</td>\n      <td>North York</td>\n      <td>Lawrence Heights</td>\n    </tr>\n    <tr>\n      <th>6</th>\n      <td>M6A</td>\n      <td>North York</td>\n      <td>Lawrence Manor</td>\n    </tr>\n  </tbody>\n</table>\n</div>",
                        "text/plain": "  PostalCode           Borough     Neighbourhood\n2        M3A        North York         Parkwoods\n3        M4A        North York  Victoria Village\n4        M5A  Downtown Toronto      Harbourfront\n5        M6A        North York  Lawrence Heights\n6        M6A        North York    Lawrence Manor"
                    },
                    "execution_count": 1954,
                    "metadata": {},
                    "output_type": "execute_result"
                }
            ],
            "source": "df = df[df['Borough'] != 'Not assigned']\ndf.head()"
        },
        {
            "cell_type": "markdown",
            "metadata": {},
            "source": "Reset the indexes. They must be started from 0."
        },
        {
            "cell_type": "code",
            "execution_count": 1955,
            "metadata": {},
            "outputs": [
                {
                    "data": {
                        "text/html": "<div>\n<style scoped>\n    .dataframe tbody tr th:only-of-type {\n        vertical-align: middle;\n    }\n\n    .dataframe tbody tr th {\n        vertical-align: top;\n    }\n\n    .dataframe thead th {\n        text-align: right;\n    }\n</style>\n<table border=\"1\" class=\"dataframe\">\n  <thead>\n    <tr style=\"text-align: right;\">\n      <th></th>\n      <th>PostalCode</th>\n      <th>Borough</th>\n      <th>Neighbourhood</th>\n    </tr>\n  </thead>\n  <tbody>\n    <tr>\n      <th>0</th>\n      <td>M3A</td>\n      <td>North York</td>\n      <td>Parkwoods</td>\n    </tr>\n    <tr>\n      <th>1</th>\n      <td>M4A</td>\n      <td>North York</td>\n      <td>Victoria Village</td>\n    </tr>\n    <tr>\n      <th>2</th>\n      <td>M5A</td>\n      <td>Downtown Toronto</td>\n      <td>Harbourfront</td>\n    </tr>\n    <tr>\n      <th>3</th>\n      <td>M6A</td>\n      <td>North York</td>\n      <td>Lawrence Heights</td>\n    </tr>\n    <tr>\n      <th>4</th>\n      <td>M6A</td>\n      <td>North York</td>\n      <td>Lawrence Manor</td>\n    </tr>\n  </tbody>\n</table>\n</div>",
                        "text/plain": "  PostalCode           Borough     Neighbourhood\n0        M3A        North York         Parkwoods\n1        M4A        North York  Victoria Village\n2        M5A  Downtown Toronto      Harbourfront\n3        M6A        North York  Lawrence Heights\n4        M6A        North York    Lawrence Manor"
                    },
                    "execution_count": 1955,
                    "metadata": {},
                    "output_type": "execute_result"
                }
            ],
            "source": "df.reset_index(inplace=True, drop=True)\ndf.head()"
        },
        {
            "cell_type": "markdown",
            "metadata": {},
            "source": "* __If a cell has a <span style=\"color:red\">'Borough'</span> but a 'Not assigned' <span style=\"color:red\">'Neighbourhood'</span>, then the <span style=\"color:red\">'Neighbourhood'</span> content will be the same as the <span style=\"color:red\">'Borough'</span>.__ \n\nChecking it."
        },
        {
            "cell_type": "code",
            "execution_count": 1956,
            "metadata": {},
            "outputs": [
                {
                    "data": {
                        "text/html": "<div>\n<style scoped>\n    .dataframe tbody tr th:only-of-type {\n        vertical-align: middle;\n    }\n\n    .dataframe tbody tr th {\n        vertical-align: top;\n    }\n\n    .dataframe thead th {\n        text-align: right;\n    }\n</style>\n<table border=\"1\" class=\"dataframe\">\n  <thead>\n    <tr style=\"text-align: right;\">\n      <th></th>\n      <th>PostalCode</th>\n      <th>Borough</th>\n      <th>Neighbourhood</th>\n    </tr>\n  </thead>\n  <tbody>\n    <tr>\n      <th>6</th>\n      <td>M9A</td>\n      <td>Queen's Park</td>\n      <td>Queen's Park</td>\n    </tr>\n  </tbody>\n</table>\n</div>",
                        "text/plain": "  PostalCode       Borough Neighbourhood\n6        M9A  Queen's Park  Queen's Park"
                    },
                    "execution_count": 1956,
                    "metadata": {},
                    "output_type": "execute_result"
                }
            ],
            "source": "test = df[df['Neighbourhood'] == 'Not assigned']\ntest.loc[:, 'Neighbourhood'] = test.loc[:, 'Borough']\ntest.head()"
        },
        {
            "cell_type": "markdown",
            "metadata": {},
            "source": "Fix it according to instructions."
        },
        {
            "cell_type": "code",
            "execution_count": 1957,
            "metadata": {},
            "outputs": [
                {
                    "data": {
                        "text/html": "<div>\n<style scoped>\n    .dataframe tbody tr th:only-of-type {\n        vertical-align: middle;\n    }\n\n    .dataframe tbody tr th {\n        vertical-align: top;\n    }\n\n    .dataframe thead th {\n        text-align: right;\n    }\n</style>\n<table border=\"1\" class=\"dataframe\">\n  <thead>\n    <tr style=\"text-align: right;\">\n      <th></th>\n      <th>PostalCode</th>\n      <th>Borough</th>\n      <th>Neighbourhood</th>\n    </tr>\n  </thead>\n  <tbody>\n    <tr>\n      <th>0</th>\n      <td>M3A</td>\n      <td>North York</td>\n      <td>Parkwoods</td>\n    </tr>\n    <tr>\n      <th>1</th>\n      <td>M4A</td>\n      <td>North York</td>\n      <td>Victoria Village</td>\n    </tr>\n    <tr>\n      <th>2</th>\n      <td>M5A</td>\n      <td>Downtown Toronto</td>\n      <td>Harbourfront</td>\n    </tr>\n    <tr>\n      <th>3</th>\n      <td>M6A</td>\n      <td>North York</td>\n      <td>Lawrence Heights</td>\n    </tr>\n    <tr>\n      <th>4</th>\n      <td>M6A</td>\n      <td>North York</td>\n      <td>Lawrence Manor</td>\n    </tr>\n    <tr>\n      <th>5</th>\n      <td>M7A</td>\n      <td>Downtown Toronto</td>\n      <td>Queen's Park</td>\n    </tr>\n    <tr>\n      <th>6</th>\n      <td>M9A</td>\n      <td>Queen's Park</td>\n      <td>Queen's Park</td>\n    </tr>\n    <tr>\n      <th>7</th>\n      <td>M1B</td>\n      <td>Scarborough</td>\n      <td>Rouge</td>\n    </tr>\n    <tr>\n      <th>8</th>\n      <td>M1B</td>\n      <td>Scarborough</td>\n      <td>Malvern</td>\n    </tr>\n    <tr>\n      <th>9</th>\n      <td>M3B</td>\n      <td>North York</td>\n      <td>Don Mills North</td>\n    </tr>\n  </tbody>\n</table>\n</div>",
                        "text/plain": "  PostalCode           Borough     Neighbourhood\n0        M3A        North York         Parkwoods\n1        M4A        North York  Victoria Village\n2        M5A  Downtown Toronto      Harbourfront\n3        M6A        North York  Lawrence Heights\n4        M6A        North York    Lawrence Manor\n5        M7A  Downtown Toronto      Queen's Park\n6        M9A      Queen's Park      Queen's Park\n7        M1B       Scarborough             Rouge\n8        M1B       Scarborough           Malvern\n9        M3B        North York   Don Mills North"
                    },
                    "execution_count": 1957,
                    "metadata": {},
                    "output_type": "execute_result"
                }
            ],
            "source": "df[df['Neighbourhood'] == 'Not assigned'] = test.loc[:, :] \ndf.head(10)"
        },
        {
            "cell_type": "markdown",
            "metadata": {},
            "source": "* __More than one neighborhood can exist in one postal code area. These names will be combined into one row with the neighborhoods separated with a comma.__"
        },
        {
            "cell_type": "markdown",
            "metadata": {},
            "source": "Converting consist of <span style=\"color:red\">'Neighbourhood'</span> column to the <code><span style=\"color:green\">list</span></code> object, then grouping <span style=\"color:red\">'Neighbourhood'</span> by <span style=\"color:red\">'PostalCode'</span> and finally apply <code>sum()</code> for joining the grouped lists all together."
        },
        {
            "cell_type": "code",
            "execution_count": 1958,
            "metadata": {},
            "outputs": [
                {
                    "data": {
                        "text/html": "<div>\n<style scoped>\n    .dataframe tbody tr th:only-of-type {\n        vertical-align: middle;\n    }\n\n    .dataframe tbody tr th {\n        vertical-align: top;\n    }\n\n    .dataframe thead th {\n        text-align: right;\n    }\n</style>\n<table border=\"1\" class=\"dataframe\">\n  <thead>\n    <tr style=\"text-align: right;\">\n      <th></th>\n      <th>Neighbourhood</th>\n    </tr>\n    <tr>\n      <th>PostalCode</th>\n      <th></th>\n    </tr>\n  </thead>\n  <tbody>\n    <tr>\n      <th>M1B</th>\n      <td>[Rouge, Malvern]</td>\n    </tr>\n    <tr>\n      <th>M1C</th>\n      <td>[Highland Creek, Rouge Hill, Port Union]</td>\n    </tr>\n    <tr>\n      <th>M1E</th>\n      <td>[Guildwood, Morningside, West Hill]</td>\n    </tr>\n    <tr>\n      <th>M1G</th>\n      <td>[Woburn]</td>\n    </tr>\n    <tr>\n      <th>M1H</th>\n      <td>[Cedarbrae]</td>\n    </tr>\n  </tbody>\n</table>\n</div>",
                        "text/plain": "                                       Neighbourhood\nPostalCode                                          \nM1B                                 [Rouge, Malvern]\nM1C         [Highland Creek, Rouge Hill, Port Union]\nM1E              [Guildwood, Morningside, West Hill]\nM1G                                         [Woburn]\nM1H                                      [Cedarbrae]"
                    },
                    "execution_count": 1958,
                    "metadata": {},
                    "output_type": "execute_result"
                }
            ],
            "source": "df['Neighbourhood'] = df.Neighbourhood.apply(lambda s: [s])\npc = df[['PostalCode', 'Neighbourhood']]\npc = pc.groupby(['PostalCode']).sum()\npc.head()"
        },
        {
            "cell_type": "markdown",
            "metadata": {},
            "source": "Releasing  the <span style=\"color:red\">'Neighbourhood'</span> content out  of squares."
        },
        {
            "cell_type": "code",
            "execution_count": 1959,
            "metadata": {},
            "outputs": [
                {
                    "data": {
                        "text/html": "<div>\n<style scoped>\n    .dataframe tbody tr th:only-of-type {\n        vertical-align: middle;\n    }\n\n    .dataframe tbody tr th {\n        vertical-align: top;\n    }\n\n    .dataframe thead th {\n        text-align: right;\n    }\n</style>\n<table border=\"1\" class=\"dataframe\">\n  <thead>\n    <tr style=\"text-align: right;\">\n      <th></th>\n      <th>PostalCode</th>\n      <th>Neighbourhood</th>\n    </tr>\n  </thead>\n  <tbody>\n    <tr>\n      <th>0</th>\n      <td>M1B</td>\n      <td>Rouge, Malvern</td>\n    </tr>\n    <tr>\n      <th>1</th>\n      <td>M1C</td>\n      <td>Highland Creek, Rouge Hill, Port Union</td>\n    </tr>\n    <tr>\n      <th>2</th>\n      <td>M1E</td>\n      <td>Guildwood, Morningside, West Hill</td>\n    </tr>\n    <tr>\n      <th>3</th>\n      <td>M1G</td>\n      <td>Woburn</td>\n    </tr>\n    <tr>\n      <th>4</th>\n      <td>M1H</td>\n      <td>Cedarbrae</td>\n    </tr>\n  </tbody>\n</table>\n</div>",
                        "text/plain": "  PostalCode                           Neighbourhood\n0        M1B                          Rouge, Malvern\n1        M1C  Highland Creek, Rouge Hill, Port Union\n2        M1E       Guildwood, Morningside, West Hill\n3        M1G                                  Woburn\n4        M1H                               Cedarbrae"
                    },
                    "execution_count": 1959,
                    "metadata": {},
                    "output_type": "execute_result"
                }
            ],
            "source": "pc['Neighbourhood'] = pc.Neighbourhood.apply(lambda l: ', '.join(l))\npc.reset_index(inplace=True)\npc.head()"
        },
        {
            "cell_type": "markdown",
            "metadata": {},
            "source": "Check length equality of DataFrames which must be join together."
        },
        {
            "cell_type": "code",
            "execution_count": 1960,
            "metadata": {},
            "outputs": [
                {
                    "data": {
                        "text/plain": "False"
                    },
                    "execution_count": 1960,
                    "metadata": {},
                    "output_type": "execute_result"
                }
            ],
            "source": "df.shape == pc.shape"
        },
        {
            "cell_type": "markdown",
            "metadata": {},
            "source": "Since the <code>.shape</code> of <code>df</code> and <code>pd</code> DataFrames is not the same, there is needs another DataFrame for joining <code>df</code> and <code>pd</code> DataFrames. "
        },
        {
            "cell_type": "markdown",
            "metadata": {},
            "source": "Syntezing the DataFrame <code>clear_df</code> from scratch."
        },
        {
            "cell_type": "code",
            "execution_count": 1961,
            "metadata": {},
            "outputs": [
                {
                    "data": {
                        "text/html": "<div>\n<style scoped>\n    .dataframe tbody tr th:only-of-type {\n        vertical-align: middle;\n    }\n\n    .dataframe tbody tr th {\n        vertical-align: top;\n    }\n\n    .dataframe thead th {\n        text-align: right;\n    }\n</style>\n<table border=\"1\" class=\"dataframe\">\n  <thead>\n    <tr style=\"text-align: right;\">\n      <th></th>\n      <th>Borough</th>\n      <th>Neighbourhood</th>\n    </tr>\n    <tr>\n      <th>PostalCode</th>\n      <th></th>\n      <th></th>\n    </tr>\n  </thead>\n  <tbody>\n    <tr>\n      <th>M3A</th>\n      <td>False</td>\n      <td>False</td>\n    </tr>\n    <tr>\n      <th>M4A</th>\n      <td>False</td>\n      <td>False</td>\n    </tr>\n    <tr>\n      <th>M5A</th>\n      <td>False</td>\n      <td>False</td>\n    </tr>\n    <tr>\n      <th>M6A</th>\n      <td>False</td>\n      <td>False</td>\n    </tr>\n    <tr>\n      <th>M7A</th>\n      <td>False</td>\n      <td>False</td>\n    </tr>\n  </tbody>\n</table>\n</div>",
                        "text/plain": "            Borough  Neighbourhood\nPostalCode                        \nM3A           False          False\nM4A           False          False\nM5A           False          False\nM6A           False          False\nM7A           False          False"
                    },
                    "execution_count": 1961,
                    "metadata": {},
                    "output_type": "execute_result"
                }
            ],
            "source": "clear_df = pd.DataFrame()\nclear_df['PostalCode'] = pd.unique(df.PostalCode)\nclear_df['Borough'] = False\nclear_df['Neighbourhood'] = False\nclear_df = clear_df.set_index('PostalCode')\nclear_df.head()"
        },
        {
            "cell_type": "markdown",
            "metadata": {},
            "source": "Loading the data to the <code>clear_df</code> DataFrame."
        },
        {
            "cell_type": "code",
            "execution_count": 1962,
            "metadata": {},
            "outputs": [
                {
                    "data": {
                        "text/html": "<div>\n<style scoped>\n    .dataframe tbody tr th:only-of-type {\n        vertical-align: middle;\n    }\n\n    .dataframe tbody tr th {\n        vertical-align: top;\n    }\n\n    .dataframe thead th {\n        text-align: right;\n    }\n</style>\n<table border=\"1\" class=\"dataframe\">\n  <thead>\n    <tr style=\"text-align: right;\">\n      <th></th>\n      <th>PostalCode</th>\n      <th>Borough</th>\n      <th>Neighbourhood</th>\n    </tr>\n  </thead>\n  <tbody>\n    <tr>\n      <th>0</th>\n      <td>M3A</td>\n      <td>North York</td>\n      <td>Parkwoods</td>\n    </tr>\n    <tr>\n      <th>1</th>\n      <td>M4A</td>\n      <td>North York</td>\n      <td>Victoria Village</td>\n    </tr>\n    <tr>\n      <th>2</th>\n      <td>M5A</td>\n      <td>Downtown Toronto</td>\n      <td>Harbourfront</td>\n    </tr>\n    <tr>\n      <th>3</th>\n      <td>M6A</td>\n      <td>North York</td>\n      <td>Lawrence Heights, Lawrence Manor</td>\n    </tr>\n    <tr>\n      <th>4</th>\n      <td>M7A</td>\n      <td>Downtown Toronto</td>\n      <td>Queen's Park</td>\n    </tr>\n    <tr>\n      <th>5</th>\n      <td>M9A</td>\n      <td>Queen's Park</td>\n      <td>Queen's Park</td>\n    </tr>\n    <tr>\n      <th>6</th>\n      <td>M1B</td>\n      <td>Scarborough</td>\n      <td>Rouge, Malvern</td>\n    </tr>\n    <tr>\n      <th>7</th>\n      <td>M3B</td>\n      <td>North York</td>\n      <td>Don Mills North</td>\n    </tr>\n    <tr>\n      <th>8</th>\n      <td>M4B</td>\n      <td>East York</td>\n      <td>Woodbine Gardens, Parkview Hill</td>\n    </tr>\n    <tr>\n      <th>9</th>\n      <td>M5B</td>\n      <td>Downtown Toronto</td>\n      <td>Ryerson, Garden District</td>\n    </tr>\n    <tr>\n      <th>10</th>\n      <td>M6B</td>\n      <td>North York</td>\n      <td>Glencairn</td>\n    </tr>\n    <tr>\n      <th>11</th>\n      <td>M9B</td>\n      <td>Etobicoke</td>\n      <td>Cloverdale, Islington, Martin Grove, Princess ...</td>\n    </tr>\n  </tbody>\n</table>\n</div>",
                        "text/plain": "   PostalCode           Borough  \\\n0         M3A        North York   \n1         M4A        North York   \n2         M5A  Downtown Toronto   \n3         M6A        North York   \n4         M7A  Downtown Toronto   \n5         M9A      Queen's Park   \n6         M1B       Scarborough   \n7         M3B        North York   \n8         M4B         East York   \n9         M5B  Downtown Toronto   \n10        M6B        North York   \n11        M9B         Etobicoke   \n\n                                        Neighbourhood  \n0                                           Parkwoods  \n1                                    Victoria Village  \n2                                        Harbourfront  \n3                    Lawrence Heights, Lawrence Manor  \n4                                        Queen's Park  \n5                                        Queen's Park  \n6                                      Rouge, Malvern  \n7                                     Don Mills North  \n8                     Woodbine Gardens, Parkview Hill  \n9                            Ryerson, Garden District  \n10                                          Glencairn  \n11  Cloverdale, Islington, Martin Grove, Princess ...  "
                    },
                    "execution_count": 1962,
                    "metadata": {},
                    "output_type": "execute_result"
                }
            ],
            "source": "df['Neighbourhood'] = df.Neighbourhood.apply(lambda s: s[0])\nfor pcd, b, _ in df.values:\n    clear_df.loc[pcd, 'Borough'] = b\nfor pcd, nb in pc.values:\n    clear_df.loc[pcd, 'Neighbourhood'] = nb\nclear_df.reset_index().head(12)"
        },
        {
            "cell_type": "markdown",
            "metadata": {},
            "source": "Let ensure that in an original DataFrame <code>df</code> it won't happen that one postal code will the same for two or more different boroughs."
        },
        {
            "cell_type": "code",
            "execution_count": 1963,
            "metadata": {},
            "outputs": [
                {
                    "name": "stdout",
                    "output_type": "stream",
                    "text": "Number of distinct boroughs corresponding to each postal code not greater than 1.\n"
                }
            ],
            "source": "test = clear_df.Borough.apply(lambda l: l.split(','))\ntest = test.apply(lambda l: len(l))\nprint('Number of distinct boroughs corresponding to each postal code not greater than {}.'.format(test.max()))"
        },
        {
            "cell_type": "code",
            "execution_count": 1964,
            "metadata": {},
            "outputs": [
                {
                    "data": {
                        "text/html": "<div>\n<style scoped>\n    .dataframe tbody tr th:only-of-type {\n        vertical-align: middle;\n    }\n\n    .dataframe tbody tr th {\n        vertical-align: top;\n    }\n\n    .dataframe thead th {\n        text-align: right;\n    }\n</style>\n<table border=\"1\" class=\"dataframe\">\n  <thead>\n    <tr style=\"text-align: right;\">\n      <th></th>\n      <th>PostalCode</th>\n      <th>Borough</th>\n      <th>Neighbourhood</th>\n    </tr>\n  </thead>\n  <tbody>\n    <tr>\n      <th>0</th>\n      <td>M5G</td>\n      <td>Downtown Toronto</td>\n      <td>Central Bay Street</td>\n    </tr>\n    <tr>\n      <th>1</th>\n      <td>M2H</td>\n      <td>North York</td>\n      <td>Hillcrest Village</td>\n    </tr>\n    <tr>\n      <th>2</th>\n      <td>M4B</td>\n      <td>East York</td>\n      <td>Woodbine Gardens, Parkview Hill</td>\n    </tr>\n    <tr>\n      <th>3</th>\n      <td>M1J</td>\n      <td>Scarborough</td>\n      <td>Scarborough Village</td>\n    </tr>\n    <tr>\n      <th>4</th>\n      <td>M4G</td>\n      <td>East York</td>\n      <td>Leaside</td>\n    </tr>\n    <tr>\n      <th>5</th>\n      <td>M4M</td>\n      <td>East Toronto</td>\n      <td>Studio District</td>\n    </tr>\n    <tr>\n      <th>6</th>\n      <td>M1R</td>\n      <td>Scarborough</td>\n      <td>Maryvale, Wexford</td>\n    </tr>\n    <tr>\n      <th>7</th>\n      <td>M9V</td>\n      <td>Etobicoke</td>\n      <td>Albion Gardens, Beaumond Heights, Humbergate, ...</td>\n    </tr>\n    <tr>\n      <th>8</th>\n      <td>M9L</td>\n      <td>North York</td>\n      <td>Humber Summit</td>\n    </tr>\n    <tr>\n      <th>9</th>\n      <td>M5V</td>\n      <td>Downtown Toronto</td>\n      <td>CN Tower, Bathurst Quay, Island airport, Harbo...</td>\n    </tr>\n    <tr>\n      <th>10</th>\n      <td>M1B</td>\n      <td>Scarborough</td>\n      <td>Rouge, Malvern</td>\n    </tr>\n    <tr>\n      <th>11</th>\n      <td>M5A</td>\n      <td>Downtown Toronto</td>\n      <td>Harbourfront</td>\n    </tr>\n  </tbody>\n</table>\n</div>",
                        "text/plain": "   PostalCode           Borough  \\\n0         M5G  Downtown Toronto   \n1         M2H        North York   \n2         M4B         East York   \n3         M1J       Scarborough   \n4         M4G         East York   \n5         M4M      East Toronto   \n6         M1R       Scarborough   \n7         M9V         Etobicoke   \n8         M9L        North York   \n9         M5V  Downtown Toronto   \n10        M1B       Scarborough   \n11        M5A  Downtown Toronto   \n\n                                        Neighbourhood  \n0                                  Central Bay Street  \n1                                   Hillcrest Village  \n2                     Woodbine Gardens, Parkview Hill  \n3                                 Scarborough Village  \n4                                             Leaside  \n5                                     Studio District  \n6                                   Maryvale, Wexford  \n7   Albion Gardens, Beaumond Heights, Humbergate, ...  \n8                                       Humber Summit  \n9   CN Tower, Bathurst Quay, Island airport, Harbo...  \n10                                     Rouge, Malvern  \n11                                       Harbourfront  "
                    },
                    "execution_count": 1964,
                    "metadata": {},
                    "output_type": "execute_result"
                }
            ],
            "source": "p_codes = ['M5G', 'M2H', 'M4B', 'M1J', 'M4G', 'M4M', 'M1R', 'M9V', 'M9L', 'M5V', 'M1B', 'M5A']\nclear_df.loc[p_codes, :].reset_index()"
        },
        {
            "cell_type": "markdown",
            "metadata": {},
            "source": "It seems I made a mistake: 'M5A' must has two neighborhoods 'Regent Park' and 'Harbourfron', but there is 'Harbourfron' only. What about postal code \n'M5A', how many rows in <code>df</code> are containing it"
        },
        {
            "cell_type": "code",
            "execution_count": 1965,
            "metadata": {},
            "outputs": [
                {
                    "data": {
                        "text/html": "<div>\n<style scoped>\n    .dataframe tbody tr th:only-of-type {\n        vertical-align: middle;\n    }\n\n    .dataframe tbody tr th {\n        vertical-align: top;\n    }\n\n    .dataframe thead th {\n        text-align: right;\n    }\n</style>\n<table border=\"1\" class=\"dataframe\">\n  <thead>\n    <tr style=\"text-align: right;\">\n      <th></th>\n      <th>PostalCode</th>\n      <th>Borough</th>\n      <th>Neighbourhood</th>\n    </tr>\n  </thead>\n  <tbody>\n    <tr>\n      <th>2</th>\n      <td>M5A</td>\n      <td>Downtown Toronto</td>\n      <td>Harbourfront</td>\n    </tr>\n  </tbody>\n</table>\n</div>",
                        "text/plain": "  PostalCode           Borough Neighbourhood\n2        M5A  Downtown Toronto  Harbourfront"
                    },
                    "execution_count": 1965,
                    "metadata": {},
                    "output_type": "execute_result"
                }
            ],
            "source": "df[df['PostalCode'] == 'M5A']"
        },
        {
            "cell_type": "markdown",
            "metadata": {},
            "source": "Only one row! It is not my mistake. Let ensure by visit [Wikipedia page](https://en.wikipedia.org/wiki/List_of_postal_codes_of_Canada:_M \"List of postal codes of Canada: M\")."
        },
        {
            "cell_type": "code",
            "execution_count": 1966,
            "metadata": {},
            "outputs": [
                {
                    "data": {
                        "text/plain": "0"
                    },
                    "execution_count": 1966,
                    "metadata": {},
                    "output_type": "execute_result"
                }
            ],
            "source": "len(df[df['Neighbourhood'] == 'Regent Park'])"
        },
        {
            "cell_type": "markdown",
            "metadata": {},
            "source": "There is 0 rows which has 'Regent Park' as a neighborhood."
        },
        {
            "cell_type": "markdown",
            "metadata": {},
            "source": "* __In the last cell of your notebook, use the <code>.shape</code> method to print the number of rows of your dataframe.__"
        },
        {
            "cell_type": "code",
            "execution_count": 1967,
            "metadata": {},
            "outputs": [
                {
                    "data": {
                        "text/plain": "(103, 2)"
                    },
                    "execution_count": 1967,
                    "metadata": {},
                    "output_type": "execute_result"
                }
            ],
            "source": "clear_df.shape"
        },
        {
            "cell_type": "markdown",
            "metadata": {},
            "source": "### Call to Get the Coordinates"
        },
        {
            "cell_type": "markdown",
            "metadata": {},
            "source": "I couldn't installed <code>geocode</code> package neither by <code>conda</code> nor by <code>pip</code> package managers. I found another solution, it is a <code>pgeocode</code> package, which I could install only by <code>pip</code> package manager. It's works better than the <code>geocode</code> because of the response is always valid.\n\nCreating the coordinate reaper."
        },
        {
            "cell_type": "code",
            "execution_count": 1968,
            "metadata": {},
            "outputs": [],
            "source": "try:\n    import pgeocode\nexcept ModuleNotFoundError:\n        ! pip install pgeocode\nfinally:\n    try:\n        import pgeocode\n    except ModuleNotFoundError:\n        print('Module isn\\'t installed.')\n\n    \n\nnomi = pgeocode.Nominatim('CA') #Country code of Canada is 'CA'"
        },
        {
            "cell_type": "markdown",
            "metadata": {},
            "source": "According to the [Project discription](https://pypi.org/project/pgeocode/) of the <code>pgeocode</code> in the section __Quickstart__, prepare a list of\npostal codes, which is in the <span style=\"color:red\">'PostalCode'</span> column of <code>clean_df</code>. Since we have read the section __Geocoding format__ of the doc, then we know the result of a geo-localistion query is a <code>pandas.DataFrame</code>."
        },
        {
            "cell_type": "code",
            "execution_count": 1969,
            "metadata": {},
            "outputs": [
                {
                    "data": {
                        "text/html": "<div>\n<style scoped>\n    .dataframe tbody tr th:only-of-type {\n        vertical-align: middle;\n    }\n\n    .dataframe tbody tr th {\n        vertical-align: top;\n    }\n\n    .dataframe thead th {\n        text-align: right;\n    }\n</style>\n<table border=\"1\" class=\"dataframe\">\n  <thead>\n    <tr style=\"text-align: right;\">\n      <th></th>\n      <th>postal_code</th>\n      <th>country code</th>\n      <th>place_name</th>\n      <th>state_name</th>\n      <th>state_code</th>\n      <th>county_name</th>\n      <th>county_code</th>\n      <th>community_name</th>\n      <th>community_code</th>\n      <th>latitude</th>\n      <th>longitude</th>\n      <th>accuracy</th>\n    </tr>\n  </thead>\n  <tbody>\n    <tr>\n      <th>0</th>\n      <td>M3A</td>\n      <td>CA</td>\n      <td>North York (York Heights / Victoria Village / ...</td>\n      <td>Ontario</td>\n      <td>ON</td>\n      <td>North York</td>\n      <td>NaN</td>\n      <td>NaN</td>\n      <td>NaN</td>\n      <td>43.7545</td>\n      <td>-79.3300</td>\n      <td>1.0</td>\n    </tr>\n    <tr>\n      <th>1</th>\n      <td>M4A</td>\n      <td>CA</td>\n      <td>North York (Sweeney Park / Wigmore Park)</td>\n      <td>Ontario</td>\n      <td>ON</td>\n      <td>NaN</td>\n      <td>NaN</td>\n      <td>NaN</td>\n      <td>NaN</td>\n      <td>43.7276</td>\n      <td>-79.3148</td>\n      <td>6.0</td>\n    </tr>\n    <tr>\n      <th>2</th>\n      <td>M5A</td>\n      <td>CA</td>\n      <td>Downtown Toronto (Regent Park / Port of Toronto)</td>\n      <td>Ontario</td>\n      <td>ON</td>\n      <td>Toronto</td>\n      <td>8133394.0</td>\n      <td>NaN</td>\n      <td>NaN</td>\n      <td>43.6555</td>\n      <td>-79.3626</td>\n      <td>6.0</td>\n    </tr>\n    <tr>\n      <th>3</th>\n      <td>M6A</td>\n      <td>CA</td>\n      <td>North York (Lawrence Manor / Lawrence Heights)</td>\n      <td>Ontario</td>\n      <td>ON</td>\n      <td>North York</td>\n      <td>NaN</td>\n      <td>NaN</td>\n      <td>NaN</td>\n      <td>43.7223</td>\n      <td>-79.4504</td>\n      <td>6.0</td>\n    </tr>\n    <tr>\n      <th>4</th>\n      <td>M7A</td>\n      <td>CA</td>\n      <td>Queen's Park Ontario Provincial Government</td>\n      <td>Ontario</td>\n      <td>ON</td>\n      <td>NaN</td>\n      <td>NaN</td>\n      <td>NaN</td>\n      <td>NaN</td>\n      <td>43.6641</td>\n      <td>-79.3889</td>\n      <td>NaN</td>\n    </tr>\n  </tbody>\n</table>\n</div>",
                        "text/plain": "  postal_code country code                                         place_name  \\\n0         M3A           CA  North York (York Heights / Victoria Village / ...   \n1         M4A           CA           North York (Sweeney Park / Wigmore Park)   \n2         M5A           CA   Downtown Toronto (Regent Park / Port of Toronto)   \n3         M6A           CA     North York (Lawrence Manor / Lawrence Heights)   \n4         M7A           CA         Queen's Park Ontario Provincial Government   \n\n  state_name state_code  county_name  county_code community_name  \\\n0    Ontario         ON  North York           NaN            NaN   \n1    Ontario         ON          NaN          NaN            NaN   \n2    Ontario         ON      Toronto    8133394.0            NaN   \n3    Ontario         ON  North York           NaN            NaN   \n4    Ontario         ON          NaN          NaN            NaN   \n\n   community_code  latitude  longitude  accuracy  \n0             NaN   43.7545   -79.3300       1.0  \n1             NaN   43.7276   -79.3148       6.0  \n2             NaN   43.6555   -79.3626       6.0  \n3             NaN   43.7223   -79.4504       6.0  \n4             NaN   43.6641   -79.3889       NaN  "
                    },
                    "execution_count": 1969,
                    "metadata": {},
                    "output_type": "execute_result"
                }
            ],
            "source": "#Prepare list of the postal codes.\nclear_df.reset_index(inplace=True)\npostal_codes = list(clear_df['PostalCode'])\n\n#Call to get a data.\ngeodata = nomi.query_postal_code(postal_codes)\ngeodata.head()"
        },
        {
            "cell_type": "markdown",
            "metadata": {},
            "source": "Since we need only latitude and longitude data not necessary to care about the missing entries of the others features. There is 103 rows in this DataFrame. As we can see there is one missed value in both <span style=\"color:red\">'latitude'</span> and <span style=\"color:red\">'longitude'</span> columns."
        },
        {
            "cell_type": "code",
            "execution_count": 1970,
            "metadata": {},
            "outputs": [
                {
                    "name": "stdout",
                    "output_type": "stream",
                    "text": "<class 'pandas.core.frame.DataFrame'>\nInt64Index: 103 entries, 0 to 102\nData columns (total 12 columns):\npostal_code       103 non-null object\ncountry code      102 non-null object\nplace_name        102 non-null object\nstate_name        102 non-null object\nstate_code        102 non-null object\ncounty_name       98 non-null object\ncounty_code       41 non-null float64\ncommunity_name    0 non-null object\ncommunity_code    0 non-null float64\nlatitude          102 non-null float64\nlongitude         102 non-null float64\naccuracy          96 non-null float64\ndtypes: float64(5), object(7)\nmemory usage: 10.5+ KB\n"
                }
            ],
            "source": "geodata.info()"
        },
        {
            "cell_type": "markdown",
            "metadata": {},
            "source": "Might be that the columns have the missed values in the different rows. Check where it has."
        },
        {
            "cell_type": "code",
            "execution_count": 1971,
            "metadata": {},
            "outputs": [
                {
                    "data": {
                        "text/html": "<div>\n<style scoped>\n    .dataframe tbody tr th:only-of-type {\n        vertical-align: middle;\n    }\n\n    .dataframe tbody tr th {\n        vertical-align: top;\n    }\n\n    .dataframe thead th {\n        text-align: right;\n    }\n</style>\n<table border=\"1\" class=\"dataframe\">\n  <thead>\n    <tr style=\"text-align: right;\">\n      <th></th>\n      <th>postal_code</th>\n      <th>country code</th>\n      <th>place_name</th>\n      <th>state_name</th>\n      <th>state_code</th>\n      <th>county_name</th>\n      <th>county_code</th>\n      <th>community_name</th>\n      <th>community_code</th>\n      <th>latitude</th>\n      <th>longitude</th>\n      <th>accuracy</th>\n    </tr>\n  </thead>\n  <tbody>\n    <tr>\n      <th>76</th>\n      <td>M7R</td>\n      <td>Not assigned</td>\n      <td>Not assigned</td>\n      <td>Not assigned</td>\n      <td>Not assigned</td>\n      <td>Not assigned</td>\n      <td>Not assigned</td>\n      <td>Not assigned</td>\n      <td>Not assigned</td>\n      <td>Not assigned</td>\n      <td>Not assigned</td>\n      <td>Not assigned</td>\n    </tr>\n  </tbody>\n</table>\n</div>",
                        "text/plain": "   postal_code  country code    place_name    state_name    state_code  \\\n76         M7R  Not assigned  Not assigned  Not assigned  Not assigned   \n\n     county_name   county_code community_name community_code      latitude  \\\n76  Not assigned  Not assigned   Not assigned   Not assigned  Not assigned   \n\n       longitude      accuracy  \n76  Not assigned  Not assigned  "
                    },
                    "execution_count": 1971,
                    "metadata": {},
                    "output_type": "execute_result"
                }
            ],
            "source": "import numpy as np\n\n\n\ngeodata.fillna(value='Not assigned', inplace=True)\ngeodata.loc[(geodata.latitude == 'Not assigned') | (geodata.longitude == 'Not assigned'), :] #Compare two conditions using logical AND-operator present \n                                                                                             #here as a | symbol and put the conditions into their own \n                                                                                             #brackets."
        },
        {
            "cell_type": "markdown",
            "metadata": {},
            "source": "It's a single row, 76th row. Leave the rows with no missin data  only."
        },
        {
            "cell_type": "code",
            "execution_count": 1972,
            "metadata": {},
            "outputs": [
                {
                    "data": {
                        "text/plain": "(102, 12)"
                    },
                    "execution_count": 1972,
                    "metadata": {},
                    "output_type": "execute_result"
                }
            ],
            "source": "geodata = geodata.loc[(geodata.latitude != 'Not assigned') | (geodata.longitude != 'Not assigned'), :]\ngeodata.shape"
        },
        {
            "cell_type": "code",
            "execution_count": 1973,
            "metadata": {},
            "outputs": [
                {
                    "data": {
                        "text/html": "<div>\n<style scoped>\n    .dataframe tbody tr th:only-of-type {\n        vertical-align: middle;\n    }\n\n    .dataframe tbody tr th {\n        vertical-align: top;\n    }\n\n    .dataframe thead th {\n        text-align: right;\n    }\n</style>\n<table border=\"1\" class=\"dataframe\">\n  <thead>\n    <tr style=\"text-align: right;\">\n      <th></th>\n      <th>postal_code</th>\n      <th>latitude</th>\n      <th>longitude</th>\n    </tr>\n  </thead>\n  <tbody>\n    <tr>\n      <th>0</th>\n      <td>M3A</td>\n      <td>43.7545</td>\n      <td>-79.33</td>\n    </tr>\n    <tr>\n      <th>1</th>\n      <td>M4A</td>\n      <td>43.7276</td>\n      <td>-79.3148</td>\n    </tr>\n    <tr>\n      <th>2</th>\n      <td>M5A</td>\n      <td>43.6555</td>\n      <td>-79.3626</td>\n    </tr>\n    <tr>\n      <th>3</th>\n      <td>M6A</td>\n      <td>43.7223</td>\n      <td>-79.4504</td>\n    </tr>\n    <tr>\n      <th>4</th>\n      <td>M7A</td>\n      <td>43.6641</td>\n      <td>-79.3889</td>\n    </tr>\n  </tbody>\n</table>\n</div>",
                        "text/plain": "  postal_code latitude longitude\n0         M3A  43.7545    -79.33\n1         M4A  43.7276  -79.3148\n2         M5A  43.6555  -79.3626\n3         M6A  43.7223  -79.4504\n4         M7A  43.6641  -79.3889"
                    },
                    "execution_count": 1973,
                    "metadata": {},
                    "output_type": "execute_result"
                }
            ],
            "source": "latlon = geodata[['postal_code', 'latitude', 'longitude']]\nlatlon.head()"
        },
        {
            "cell_type": "markdown",
            "metadata": {},
            "source": "Joining two DataFrames by hand using third DataFrame is too bored. Let use the <code>.join</code> method provided by <code>pandas</code> package [pandas.pydata.org, [pandas.DataFrame.join](https://pandas.pydata.org/pandas-docs/stable/reference/api/pandas.DataFrame.join.html)].\n"
        },
        {
            "cell_type": "code",
            "execution_count": 1974,
            "metadata": {},
            "outputs": [
                {
                    "data": {
                        "text/html": "<div>\n<style scoped>\n    .dataframe tbody tr th:only-of-type {\n        vertical-align: middle;\n    }\n\n    .dataframe tbody tr th {\n        vertical-align: top;\n    }\n\n    .dataframe thead th {\n        text-align: right;\n    }\n</style>\n<table border=\"1\" class=\"dataframe\">\n  <thead>\n    <tr style=\"text-align: right;\">\n      <th></th>\n      <th>PostalCode</th>\n      <th>Borough</th>\n      <th>Neighbourhood</th>\n      <th>latitude</th>\n      <th>longitude</th>\n    </tr>\n  </thead>\n  <tbody>\n    <tr>\n      <th>0</th>\n      <td>M3A</td>\n      <td>North York</td>\n      <td>Parkwoods</td>\n      <td>43.7545</td>\n      <td>-79.33</td>\n    </tr>\n    <tr>\n      <th>1</th>\n      <td>M4A</td>\n      <td>North York</td>\n      <td>Victoria Village</td>\n      <td>43.7276</td>\n      <td>-79.3148</td>\n    </tr>\n    <tr>\n      <th>2</th>\n      <td>M5A</td>\n      <td>Downtown Toronto</td>\n      <td>Harbourfront</td>\n      <td>43.6555</td>\n      <td>-79.3626</td>\n    </tr>\n    <tr>\n      <th>3</th>\n      <td>M6A</td>\n      <td>North York</td>\n      <td>Lawrence Heights, Lawrence Manor</td>\n      <td>43.7223</td>\n      <td>-79.4504</td>\n    </tr>\n    <tr>\n      <th>4</th>\n      <td>M7A</td>\n      <td>Downtown Toronto</td>\n      <td>Queen's Park</td>\n      <td>43.6641</td>\n      <td>-79.3889</td>\n    </tr>\n    <tr>\n      <th>5</th>\n      <td>M9A</td>\n      <td>Queen's Park</td>\n      <td>Queen's Park</td>\n      <td>43.6662</td>\n      <td>-79.5282</td>\n    </tr>\n    <tr>\n      <th>6</th>\n      <td>M1B</td>\n      <td>Scarborough</td>\n      <td>Rouge, Malvern</td>\n      <td>43.8113</td>\n      <td>-79.193</td>\n    </tr>\n    <tr>\n      <th>7</th>\n      <td>M3B</td>\n      <td>North York</td>\n      <td>Don Mills North</td>\n      <td>43.745</td>\n      <td>-79.359</td>\n    </tr>\n    <tr>\n      <th>8</th>\n      <td>M4B</td>\n      <td>East York</td>\n      <td>Woodbine Gardens, Parkview Hill</td>\n      <td>43.7063</td>\n      <td>-79.3094</td>\n    </tr>\n    <tr>\n      <th>9</th>\n      <td>M5B</td>\n      <td>Downtown Toronto</td>\n      <td>Ryerson, Garden District</td>\n      <td>43.6572</td>\n      <td>-79.3783</td>\n    </tr>\n    <tr>\n      <th>10</th>\n      <td>M6B</td>\n      <td>North York</td>\n      <td>Glencairn</td>\n      <td>43.7081</td>\n      <td>-79.4479</td>\n    </tr>\n    <tr>\n      <th>11</th>\n      <td>M9B</td>\n      <td>Etobicoke</td>\n      <td>Cloverdale, Islington, Martin Grove, Princess ...</td>\n      <td>43.6505</td>\n      <td>-79.5517</td>\n    </tr>\n  </tbody>\n</table>\n</div>",
                        "text/plain": "   PostalCode           Borough  \\\n0         M3A        North York   \n1         M4A        North York   \n2         M5A  Downtown Toronto   \n3         M6A        North York   \n4         M7A  Downtown Toronto   \n5         M9A      Queen's Park   \n6         M1B       Scarborough   \n7         M3B        North York   \n8         M4B         East York   \n9         M5B  Downtown Toronto   \n10        M6B        North York   \n11        M9B         Etobicoke   \n\n                                        Neighbourhood latitude longitude  \n0                                           Parkwoods  43.7545    -79.33  \n1                                    Victoria Village  43.7276  -79.3148  \n2                                        Harbourfront  43.6555  -79.3626  \n3                    Lawrence Heights, Lawrence Manor  43.7223  -79.4504  \n4                                        Queen's Park  43.6641  -79.3889  \n5                                        Queen's Park  43.6662  -79.5282  \n6                                      Rouge, Malvern  43.8113   -79.193  \n7                                     Don Mills North   43.745   -79.359  \n8                     Woodbine Gardens, Parkview Hill  43.7063  -79.3094  \n9                            Ryerson, Garden District  43.6572  -79.3783  \n10                                          Glencairn  43.7081  -79.4479  \n11  Cloverdale, Islington, Martin Grove, Princess ...  43.6505  -79.5517  "
                    },
                    "execution_count": 1974,
                    "metadata": {},
                    "output_type": "execute_result"
                }
            ],
            "source": "clear_df = clear_df.set_index('PostalCode').join(latlon.set_index('postal_code'))\nclear_df.reset_index(inplace=True)\nclear_df.head(12)"
        },
        {
            "cell_type": "markdown",
            "metadata": {},
            "source": "Give the same order to observed slice of the DataFrame."
        },
        {
            "cell_type": "code",
            "execution_count": 1975,
            "metadata": {},
            "outputs": [
                {
                    "data": {
                        "text/html": "<div>\n<style scoped>\n    .dataframe tbody tr th:only-of-type {\n        vertical-align: middle;\n    }\n\n    .dataframe tbody tr th {\n        vertical-align: top;\n    }\n\n    .dataframe thead th {\n        text-align: right;\n    }\n</style>\n<table border=\"1\" class=\"dataframe\">\n  <thead>\n    <tr style=\"text-align: right;\">\n      <th></th>\n      <th>Borough</th>\n      <th>Neighbourhood</th>\n      <th>latitude</th>\n      <th>longitude</th>\n    </tr>\n    <tr>\n      <th>PostalCode</th>\n      <th></th>\n      <th></th>\n      <th></th>\n      <th></th>\n    </tr>\n  </thead>\n  <tbody>\n    <tr>\n      <th>M5G</th>\n      <td>Downtown Toronto</td>\n      <td>Central Bay Street</td>\n      <td>43.6564</td>\n      <td>-79.386</td>\n    </tr>\n    <tr>\n      <th>M2H</th>\n      <td>North York</td>\n      <td>Hillcrest Village</td>\n      <td>43.8015</td>\n      <td>-79.3577</td>\n    </tr>\n    <tr>\n      <th>M4B</th>\n      <td>East York</td>\n      <td>Woodbine Gardens, Parkview Hill</td>\n      <td>43.7063</td>\n      <td>-79.3094</td>\n    </tr>\n    <tr>\n      <th>M1J</th>\n      <td>Scarborough</td>\n      <td>Scarborough Village</td>\n      <td>43.7464</td>\n      <td>-79.2323</td>\n    </tr>\n    <tr>\n      <th>M4G</th>\n      <td>East York</td>\n      <td>Leaside</td>\n      <td>43.7124</td>\n      <td>-79.3644</td>\n    </tr>\n    <tr>\n      <th>M4M</th>\n      <td>East Toronto</td>\n      <td>Studio District</td>\n      <td>43.6561</td>\n      <td>-79.3406</td>\n    </tr>\n    <tr>\n      <th>M1R</th>\n      <td>Scarborough</td>\n      <td>Maryvale, Wexford</td>\n      <td>43.7507</td>\n      <td>-79.3003</td>\n    </tr>\n    <tr>\n      <th>M9V</th>\n      <td>Etobicoke</td>\n      <td>Albion Gardens, Beaumond Heights, Humbergate, ...</td>\n      <td>43.7432</td>\n      <td>-79.5876</td>\n    </tr>\n    <tr>\n      <th>M9L</th>\n      <td>North York</td>\n      <td>Humber Summit</td>\n      <td>43.7598</td>\n      <td>-79.5565</td>\n    </tr>\n    <tr>\n      <th>M5V</th>\n      <td>Downtown Toronto</td>\n      <td>CN Tower, Bathurst Quay, Island airport, Harbo...</td>\n      <td>43.6404</td>\n      <td>-79.3995</td>\n    </tr>\n    <tr>\n      <th>M1B</th>\n      <td>Scarborough</td>\n      <td>Rouge, Malvern</td>\n      <td>43.8113</td>\n      <td>-79.193</td>\n    </tr>\n    <tr>\n      <th>M5A</th>\n      <td>Downtown Toronto</td>\n      <td>Harbourfront</td>\n      <td>43.6555</td>\n      <td>-79.3626</td>\n    </tr>\n  </tbody>\n</table>\n</div>",
                        "text/plain": "                     Borough  \\\nPostalCode                     \nM5G         Downtown Toronto   \nM2H               North York   \nM4B                East York   \nM1J              Scarborough   \nM4G                East York   \nM4M             East Toronto   \nM1R              Scarborough   \nM9V                Etobicoke   \nM9L               North York   \nM5V         Downtown Toronto   \nM1B              Scarborough   \nM5A         Downtown Toronto   \n\n                                                Neighbourhood latitude  \\\nPostalCode                                                               \nM5G                                        Central Bay Street  43.6564   \nM2H                                         Hillcrest Village  43.8015   \nM4B                           Woodbine Gardens, Parkview Hill  43.7063   \nM1J                                       Scarborough Village  43.7464   \nM4G                                                   Leaside  43.7124   \nM4M                                           Studio District  43.6561   \nM1R                                         Maryvale, Wexford  43.7507   \nM9V         Albion Gardens, Beaumond Heights, Humbergate, ...  43.7432   \nM9L                                             Humber Summit  43.7598   \nM5V         CN Tower, Bathurst Quay, Island airport, Harbo...  43.6404   \nM1B                                            Rouge, Malvern  43.8113   \nM5A                                              Harbourfront  43.6555   \n\n           longitude  \nPostalCode            \nM5G          -79.386  \nM2H         -79.3577  \nM4B         -79.3094  \nM1J         -79.2323  \nM4G         -79.3644  \nM4M         -79.3406  \nM1R         -79.3003  \nM9V         -79.5876  \nM9L         -79.5565  \nM5V         -79.3995  \nM1B          -79.193  \nM5A         -79.3626  "
                    },
                    "execution_count": 1975,
                    "metadata": {},
                    "output_type": "execute_result"
                }
            ],
            "source": "p_codes = ['M5G', 'M2H', 'M4B', 'M1J', 'M4G', 'M4M', 'M1R', 'M9V', 'M9L', 'M5V', 'M1B', 'M5A']\nclear_df.set_index('PostalCode').loc[p_codes, :]"
        },
        {
            "cell_type": "code",
            "execution_count": null,
            "metadata": {},
            "outputs": [],
            "source": ""
        }
    ],
    "metadata": {
        "kernelspec": {
            "display_name": "Python 3.6",
            "language": "python",
            "name": "python3"
        },
        "language_info": {
            "codemirror_mode": {
                "name": "ipython",
                "version": 3
            },
            "file_extension": ".py",
            "mimetype": "text/x-python",
            "name": "python",
            "nbconvert_exporter": "python",
            "pygments_lexer": "ipython3",
            "version": "3.6.9"
        }
    },
    "nbformat": 4,
    "nbformat_minor": 1
}