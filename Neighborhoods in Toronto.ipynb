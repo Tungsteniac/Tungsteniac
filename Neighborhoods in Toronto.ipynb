{
    "cells": [
        {
            "cell_type": "markdown",
            "metadata": {
                "collapsed": true
            },
            "source": "# Segmenting and Clustering Neighborhoods in Toronto"
        },
        {
            "cell_type": "markdown",
            "metadata": {},
            "source": "## Data Mining"
        },
        {
            "cell_type": "markdown",
            "metadata": {},
            "source": "Decription how to mine the data on Wikipedia page. Building the code to scrape the Wikipedia page. Writing the data into the DataFrame."
        },
        {
            "cell_type": "markdown",
            "metadata": {},
            "source": "### Scraping"
        },
        {
            "cell_type": "markdown",
            "metadata": {},
            "source": "* __Use the Notebook to build the code to scrape the following [Wikipedia page](https://en.wikipedia.org/wiki/List_of_postal_codes_of_Canada:_M \"List of postal codes of Canada: M\").__"
        },
        {
            "cell_type": "markdown",
            "metadata": {},
            "source": "Loading necessary libraries. Except <code>pandas</code>, both <code>request</code> and <code>lxml</code> need installation."
        },
        {
            "cell_type": "code",
            "execution_count": 434,
            "metadata": {},
            "outputs": [],
            "source": "import pandas as pd\n#import numpy as np\n\n\n\ntry:\n    import requests\nexcept ModuleNotFoundError:\n    ! conda install requests\nfinally:\n    import requests\n    \ntry:\n    import lxml.html as lh\nexcept ModuleNotFoundError:\n    ! conda install lxml\nfinally:\n    from lxml import html as lh"
        },
        {
            "cell_type": "markdown",
            "metadata": {},
            "source": "The code below allows us to get the data from the table from the [Wikipedia page](https://en.wikipedia.org/wiki/List_of_postal_codes_of_Canada:_M \"List of postal codes of Canada: M\")."
        },
        {
            "cell_type": "code",
            "execution_count": 435,
            "metadata": {},
            "outputs": [],
            "source": "url='https://en.wikipedia.org/wiki/List_of_postal_codes_of_Canada:_M'\n\n\n\n# Create a handle, page, to handle the contents of the website.\npage = requests.get(url)\n\n# Store the contents of the website under doc.\ndoc = lh.fromstring(page.content)\n\n# Parse data that are stored between <tr>..</tr> of HTML.\ntr_elements = doc.xpath('//tr')"
        },
        {
            "cell_type": "markdown",
            "metadata": {},
            "source": "Check the length of the first 12 rows."
        },
        {
            "cell_type": "code",
            "execution_count": 436,
            "metadata": {},
            "outputs": [
                {
                    "data": {
                        "text/plain": "[3, 3, 3, 3, 3, 3, 3, 3, 3, 3, 3, 3]"
                    },
                    "execution_count": 436,
                    "metadata": {},
                    "output_type": "execute_result"
                }
            ],
            "source": "[len(T) for T in tr_elements[:12]]"
        },
        {
            "cell_type": "markdown",
            "metadata": {},
            "source": "Looks like all our rows have exactly 3 columns. This means all the data collected on <code>tr_elements</code> are from the table. Next, parse the first row as our header."
        },
        {
            "cell_type": "code",
            "execution_count": 437,
            "metadata": {},
            "outputs": [],
            "source": "# Create empty list.\ncol=[]\ni=0\n# For each row, store each first element (header) and an empty list.\nfor t in tr_elements[0]:\n    i+=1\n    name=t.text_content()\n    col.append((name,[]))"
        },
        {
            "cell_type": "markdown",
            "metadata": {},
            "source": "Each header is appended to a tuple along with an empty list."
        },
        {
            "cell_type": "code",
            "execution_count": 438,
            "metadata": {},
            "outputs": [
                {
                    "name": "stdout",
                    "output_type": "stream",
                    "text": "\nM1A\nNot assigned\nNot assigned\n\n\nM2A\nNot assigned\nNot assigned\n\n\nM3A\nNorth York\nParkwoods\n\n\nM4A\nNorth York\nVictoria Village\n\n\nM5A\nDowntown Toronto\nHarbourfront\n\n\nM6A\nNorth York\nLawrence Heights\n\n\nM6A\nNorth York\nLawrence Manor\n\n\nM7A\nDowntown Toronto\nQueen's Park\n\n\nM8A\nNot assigned\nNot assigned\n\n\nM9A\nQueen's Park\nNot assigned\n\n\nM1B\nScarborough\nRouge\n\n\nM1B\nScarborough\nMalvern\n\n\nM2B\nNot assigned\nNot assigned\n\n\nM3B\nNorth York\nDon Mills North\n\n\nM4B\nEast York\nWoodbine Gardens\n\n\nM4B\nEast York\nParkview Hill\n\n\nM5B\nDowntown Toronto\nRyerson\n\n\nM5B\nDowntown Toronto\nGarden District\n\n\nM6B\nNorth York\nGlencairn\n\n\nM7B\nNot assigned\nNot assigned\n\n\nM8B\nNot assigned\nNot assigned\n\n\nM9B\nEtobicoke\nCloverdale\n\n\nM9B\nEtobicoke\nIslington\n\n\nM9B\nEtobicoke\nMartin Grove\n\n\nM9B\nEtobicoke\nPrincess Gardens\n\n\nM9B\nEtobicoke\nWest Deane Park\n\n\nM1C\nScarborough\nHighland Creek\n\n\nM1C\nScarborough\nRouge Hill\n\n\nM1C\nScarborough\nPort Union\n\n\nM2C\nNot assigned\nNot assigned\n\n\nM3C\nNorth York\nFlemingdon Park\n\n\nM3C\nNorth York\nDon Mills South\n\n\nM4C\nEast York\nWoodbine Heights\n\n\nM5C\nDowntown Toronto\nSt. James Town\n\n\nM6C\nYork\nHumewood-Cedarvale\n\n\nM7C\nNot assigned\nNot assigned\n\n\nM8C\nNot assigned\nNot assigned\n\n\nM9C\nEtobicoke\nBloordale Gardens\n\n\nM9C\nEtobicoke\nEringate\n\n\nM9C\nEtobicoke\nMarkland Wood\n\n\nM9C\nEtobicoke\nOld Burnhamthorpe\n\n\nM1E\nScarborough\nGuildwood\n\n\nM1E\nScarborough\nMorningside\n\n\nM1E\nScarborough\nWest Hill\n\n\nM2E\nNot assigned\nNot assigned\n\n\nM3E\nNot assigned\nNot assigned\n\n\nM4E\nEast Toronto\nThe Beaches\n\n\nM5E\nDowntown Toronto\nBerczy Park\n\n\nM6E\nYork\nCaledonia-Fairbanks\n\n\nM7E\nNot assigned\nNot assigned\n\n\nM8E\nNot assigned\nNot assigned\n\n\nM9E\nNot assigned\nNot assigned\n\n\nM1G\nScarborough\nWoburn\n\n\nM2G\nNot assigned\nNot assigned\n\n\nM3G\nNot assigned\nNot assigned\n\n\nM4G\nEast York\nLeaside\n\n\nM5G\nDowntown Toronto\nCentral Bay Street\n\n\nM6G\nDowntown Toronto\nChristie\n\n\nM7G\nNot assigned\nNot assigned\n\n\nM8G\nNot assigned\nNot assigned\n\n\nM9G\nNot assigned\nNot assigned\n\n\nM1H\nScarborough\nCedarbrae\n\n\nM2H\nNorth York\nHillcrest Village\n\n\nM3H\nNorth York\nBathurst Manor\n\n\nM3H\nNorth York\nDownsview North\n\n\nM3H\nNorth York\nWilson Heights\n\n\nM4H\nEast York\nThorncliffe Park\n\n\nM5H\nDowntown Toronto\nAdelaide\n\n\nM5H\nDowntown Toronto\nKing\n\n\nM5H\nDowntown Toronto\nRichmond\n\n\nM6H\nWest Toronto\nDovercourt Village\n\n\nM6H\nWest Toronto\nDufferin\n\n\nM7H\nNot assigned\nNot assigned\n\n\nM8H\nNot assigned\nNot assigned\n\n\nM9H\nNot assigned\nNot assigned\n\n\nM1J\nScarborough\nScarborough Village\n\n\nM2J\nNorth York\nFairview\n\n\nM2J\nNorth York\nHenry Farm\n\n\nM2J\nNorth York\nOriole\n\n\nM3J\nNorth York\nNorthwood Park\n\n\nM3J\nNorth York\nYork University\n\n\nM4J\nEast York\nEast Toronto\n\n\nM5J\nDowntown Toronto\nHarbourfront East\n\n\nM5J\nDowntown Toronto\nToronto Islands\n\n\nM5J\nDowntown Toronto\nUnion Station\n\n\nM6J\nWest Toronto\nLittle Portugal\n\n\nM6J\nWest Toronto\nTrinity\n\n\nM7J\nNot assigned\nNot assigned\n\n\nM8J\nNot assigned\nNot assigned\n\n\nM9J\nNot assigned\nNot assigned\n\n\nM1K\nScarborough\nEast Birchmount Park\n\n\nM1K\nScarborough\nIonview\n\n\nM1K\nScarborough\nKennedy Park\n\n\nM2K\nNorth York\nBayview Village\n\n\nM3K\nNorth York\nCFB Toronto\n\n\nM3K\nNorth York\nDownsview East\n\n\nM4K\nEast Toronto\nThe Danforth West\n\n\nM4K\nEast Toronto\nRiverdale\n\n\nM5K\nDowntown Toronto\nDesign Exchange\n\n\nM5K\nDowntown Toronto\nToronto Dominion Centre\n\n\nM6K\nWest Toronto\nBrockton\n\n\nM6K\nWest Toronto\nExhibition Place\n\n\nM6K\nWest Toronto\nParkdale Village\n\n\nM7K\nNot assigned\nNot assigned\n\n\nM8K\nNot assigned\nNot assigned\n\n\nM9K\nNot assigned\nNot assigned\n\n\nM1L\nScarborough\nClairlea\n\n\nM1L\nScarborough\nGolden Mile\n\n\nM1L\nScarborough\nOakridge\n\n\nM2L\nNorth York\nSilver Hills\n\n\nM2L\nNorth York\nYork Mills\n\n\nM3L\nNorth York\nDownsview West\n\n\nM4L\nEast Toronto\nThe Beaches West\n\n\nM4L\nEast Toronto\nIndia Bazaar\n\n\nM5L\nDowntown Toronto\nCommerce Court\n\n\nM5L\nDowntown Toronto\nVictoria Hotel\n\n\nM6L\nNorth York\nDownsview\n\n\nM6L\nNorth York\nNorth Park\n\n\nM6L\nNorth York\nUpwood Park\n\n\nM7L\nNot assigned\nNot assigned\n\n\nM8L\nNot assigned\nNot assigned\n\n\nM9L\nNorth York\nHumber Summit\n\n\nM1M\nScarborough\nCliffcrest\n\n\nM1M\nScarborough\nCliffside\n\n\nM1M\nScarborough\nScarborough Village West\n\n\nM2M\nNorth York\nNewtonbrook\n\n\nM2M\nNorth York\nWillowdale\n\n\nM3M\nNorth York\nDownsview Central\n\n\nM4M\nEast Toronto\nStudio District\n\n\nM5M\nNorth York\nBedford Park\n\n\nM5M\nNorth York\nLawrence Manor East\n\n\nM6M\nYork\nDel Ray\n\n\nM6M\nYork\nKeelesdale\n\n\nM6M\nYork\nMount Dennis\n\n\nM6M\nYork\nSilverthorn\n\n\nM7M\nNot assigned\nNot assigned\n\n\nM8M\nNot assigned\nNot assigned\n\n\nM9M\nNorth York\nEmery\n\n\nM9M\nNorth York\nHumberlea\n\n\nM1N\nScarborough\nBirch Cliff\n\n\nM1N\nScarborough\nCliffside West\n\n\nM2N\nNorth York\nWillowdale South\n\n\nM3N\nNorth York\nDownsview Northwest\n\n\nM4N\nCentral Toronto\nLawrence Park\n\n\nM5N\nCentral Toronto\nRoselawn\n\n\nM6N\nYork\nThe Junction North\n\n\nM6N\nYork\nRunnymede\n\n\nM7N\nNot assigned\nNot assigned\n\n\nM8N\nNot assigned\nNot assigned\n\n\nM9N\nYork\nWeston\n\n\nM1P\nScarborough\nDorset Park\n\n\nM1P\nScarborough\nScarborough Town Centre\n\n\nM1P\nScarborough\nWexford Heights\n\n\nM2P\nNorth York\nYork Mills West\n\n\nM3P\nNot assigned\nNot assigned\n\n\nM4P\nCentral Toronto\nDavisville North\n\n\nM5P\nCentral Toronto\nForest Hill North\n\n\nM5P\nCentral Toronto\nForest Hill West\n\n\nM6P\nWest Toronto\nHigh Park\n\n\nM6P\nWest Toronto\nThe Junction South\n\n\nM7P\nNot assigned\nNot assigned\n\n\nM8P\nNot assigned\nNot assigned\n\n\nM9P\nEtobicoke\nWestmount\n\n\nM1R\nScarborough\nMaryvale\n\n\nM1R\nScarborough\nWexford\n\n\nM2R\nNorth York\nWillowdale West\n\n\nM3R\nNot assigned\nNot assigned\n\n\nM4R\nCentral Toronto\nNorth Toronto West\n\n\nM5R\nCentral Toronto\nThe Annex\n\n\nM5R\nCentral Toronto\nNorth Midtown\n\n\nM5R\nCentral Toronto\nYorkville\n\n\nM6R\nWest Toronto\nParkdale\n\n\nM6R\nWest Toronto\nRoncesvalles\n\n\nM7R\nMississauga\nCanada Post Gateway Processing Centre\n\n\nM8R\nNot assigned\nNot assigned\n\n\nM9R\nEtobicoke\nKingsview Village\n\n\nM9R\nEtobicoke\nMartin Grove Gardens\n\n\nM9R\nEtobicoke\nRichview Gardens\n\n\nM9R\nEtobicoke\nSt. Phillips\n\n\nM1S\nScarborough\nAgincourt\n\n\nM2S\nNot assigned\nNot assigned\n\n\nM3S\nNot assigned\nNot assigned\n\n\nM4S\nCentral Toronto\nDavisville\n\n\nM5S\nDowntown Toronto\nHarbord\n\n\nM5S\nDowntown Toronto\nUniversity of Toronto\n\n\nM6S\nWest Toronto\nRunnymede\n\n\nM6S\nWest Toronto\nSwansea\n\n\nM7S\nNot assigned\nNot assigned\n\n\nM8S\nNot assigned\nNot assigned\n\n\nM9S\nNot assigned\nNot assigned\n\n\nM1T\nScarborough\nClarks Corners\n\n\nM1T\nScarborough\nSullivan\n\n\nM1T\nScarborough\nTam O'Shanter\n\n\nM2T\nNot assigned\nNot assigned\n\n\nM3T\nNot assigned\nNot assigned\n\n\nM4T\nCentral Toronto\nMoore Park\n\n\nM4T\nCentral Toronto\nSummerhill East\n\n\nM5T\nDowntown Toronto\nChinatown\n\n\nM5T\nDowntown Toronto\nGrange Park\n\n\nM5T\nDowntown Toronto\nKensington Market\n\n\nM6T\nNot assigned\nNot assigned\n\n\nM7T\nNot assigned\nNot assigned\n\n\nM8T\nNot assigned\nNot assigned\n\n\nM9T\nNot assigned\nNot assigned\n\n\nM1V\nScarborough\nAgincourt North\n\n\nM1V\nScarborough\nL'Amoreaux East\n\n\nM1V\nScarborough\nMilliken\n\n\nM1V\nScarborough\nSteeles East\n\n\nM2V\nNot assigned\nNot assigned\n\n\nM3V\nNot assigned\nNot assigned\n\n\nM4V\nCentral Toronto\nDeer Park\n\n\nM4V\nCentral Toronto\nForest Hill SE\n\n\nM4V\nCentral Toronto\nRathnelly\n\n\nM4V\nCentral Toronto\nSouth Hill\n\n\nM4V\nCentral Toronto\nSummerhill West\n\n\nM5V\nDowntown Toronto\nCN Tower\n\n\nM5V\nDowntown Toronto\nBathurst Quay\n\n\nM5V\nDowntown Toronto\nIsland airport\n\n\nM5V\nDowntown Toronto\nHarbourfront West\n\n\nM5V\nDowntown Toronto\nKing and Spadina\n\n\nM5V\nDowntown Toronto\nRailway Lands\n\n\nM5V\nDowntown Toronto\nSouth Niagara\n\n\nM6V\nNot assigned\nNot assigned\n\n\nM7V\nNot assigned\nNot assigned\n\n\nM8V\nEtobicoke\nHumber Bay Shores\n\n\nM8V\nEtobicoke\nMimico South\n\n\nM8V\nEtobicoke\nNew Toronto\n\n\nM9V\nEtobicoke\nAlbion Gardens\n\n\nM9V\nEtobicoke\nBeaumond Heights\n\n\nM9V\nEtobicoke\nHumbergate\n\n\nM9V\nEtobicoke\nJamestown\n\n\nM9V\nEtobicoke\nMount Olive\n\n\nM9V\nEtobicoke\nSilverstone\n\n\nM9V\nEtobicoke\nSouth Steeles\n\n\nM9V\nEtobicoke\nThistletown\n\n\nM1W\nScarborough\nL'Amoreaux West\n\n\nM2W\nNot assigned\nNot assigned\n\n\nM3W\nNot assigned\nNot assigned\n\n\nM4W\nDowntown Toronto\nRosedale\n\n\nM5W\nDowntown Toronto\nStn A PO Boxes 25 The Esplanade\n\n\nM6W\nNot assigned\nNot assigned\n\n\nM7W\nNot assigned\nNot assigned\n\n\nM8W\nEtobicoke\nAlderwood\n\n\nM8W\nEtobicoke\nLong Branch\n\n\nM9W\nEtobicoke\nNorthwest\n\n\nM1X\nScarborough\nUpper Rouge\n\n\nM2X\nNot assigned\nNot assigned\n\n\nM3X\nNot assigned\nNot assigned\n\n\nM4X\nDowntown Toronto\nCabbagetown\n\n\nM4X\nDowntown Toronto\nSt. James Town\n\n\nM5X\nDowntown Toronto\nFirst Canadian Place\n\n\nM5X\nDowntown Toronto\nUnderground city\n\n\nM6X\nNot assigned\nNot assigned\n\n\nM7X\nNot assigned\nNot assigned\n\n\nM8X\nEtobicoke\nThe Kingsway\n\n\nM8X\nEtobicoke\nMontgomery Road\n\n\nM8X\nEtobicoke\nOld Mill North\n\n\nM9X\nNot assigned\nNot assigned\n\n\nM1Y\nNot assigned\nNot assigned\n\n\nM2Y\nNot assigned\nNot assigned\n\n\nM3Y\nNot assigned\nNot assigned\n\n\nM4Y\nDowntown Toronto\nChurch and Wellesley\n\n\nM5Y\nNot assigned\nNot assigned\n\n\nM6Y\nNot assigned\nNot assigned\n\n\nM7Y\nEast Toronto\nBusiness Reply Mail Processing Centre 969 Eastern\n\n\nM8Y\nEtobicoke\nHumber Bay\n\n\nM8Y\nEtobicoke\nKing's Mill Park\n\n\nM8Y\nEtobicoke\nKingsway Park South East\n\n\nM8Y\nEtobicoke\nMimico NE\n\n\nM8Y\nEtobicoke\nOld Mill South\n\n\nM8Y\nEtobicoke\nThe Queensway East\n\n\nM8Y\nEtobicoke\nRoyal York South East\n\n\nM8Y\nEtobicoke\nSunnylea\n\n\nM9Y\nNot assigned\nNot assigned\n\n\nM1Z\nNot assigned\nNot assigned\n\n\nM2Z\nNot assigned\nNot assigned\n\n\nM3Z\nNot assigned\nNot assigned\n\n\nM4Z\nNot assigned\nNot assigned\n\n\nM5Z\nNot assigned\nNot assigned\n\n\nM6Z\nNot assigned\nNot assigned\n\n\nM7Z\nNot assigned\nNot assigned\n\n\nM8Z\nEtobicoke\nKingsway Park South West\n\n\nM8Z\nEtobicoke\nMimico NW\n\n\nM8Z\nEtobicoke\nThe Queensway West\n\n\nM8Z\nEtobicoke\nRoyal York South West\n\n\nM8Z\nEtobicoke\nSouth of Bloor\n\n\nM9Z\nNot assigned\nNot assigned\n\n\n"
                }
            ],
            "source": "# Since out first row is the header, data is stored on the second row onwards.\nfor j, _ in enumerate(tr_elements, 1):\n    #T is our j'th row\n    T=tr_elements[j]\n    print(T.text_content())\n    \n    # If row is not of size 10, the //tr data is not from our table. \n    if len(T)!=3:\n        break\n    \n    # i is the index of our column.\n    i=0\n    \n    # Iterate through each element of the row.\n    for t in T.iterchildren():\n        data=t.text_content() \n        # Check if row is empty.\n        if i>0:\n        # Convert any numerical value to integers.\n            try:\n                data=int(data)\n            except:\n                pass\n        # Append the data to the empty list of the i'th column.\n        col[i][1].append(data)\n        # Increment i for the next column.\n        i+=1"
        },
        {
            "cell_type": "markdown",
            "metadata": {},
            "source": "Scraping is complited."
        },
        {
            "cell_type": "markdown",
            "metadata": {},
            "source": "### Data Cleaning"
        },
        {
            "cell_type": "markdown",
            "metadata": {},
            "source": "Forming the DataFrame from scraped data. Examining data to find out: excess sysmbols, missing data or something else in string data of DataDrame.\nChanging headers if it is necessary and ect. "
        },
        {
            "cell_type": "markdown",
            "metadata": {},
            "source": "* __The dataframe will consist of three columns: <span style=\"color:red\">'PostalCode'</span>, <span style=\"color:red\">'Borough'</span>, and <span style=\"color:red\">'Neighborhood'</span>__\n\nExamining number of columns and length of each column."
        },
        {
            "cell_type": "code",
            "execution_count": 439,
            "metadata": {},
            "outputs": [
                {
                    "name": "stdout",
                    "output_type": "stream",
                    "text": "3 [287, 287, 287]\n"
                }
            ],
            "source": "print(len(col), [len(C) for (title,C) in col])"
        },
        {
            "cell_type": "markdown",
            "metadata": {},
            "source": "Creating DataFrame."
        },
        {
            "cell_type": "code",
            "execution_count": 440,
            "metadata": {},
            "outputs": [
                {
                    "data": {
                        "text/html": "<div>\n<style scoped>\n    .dataframe tbody tr th:only-of-type {\n        vertical-align: middle;\n    }\n\n    .dataframe tbody tr th {\n        vertical-align: top;\n    }\n\n    .dataframe thead th {\n        text-align: right;\n    }\n</style>\n<table border=\"1\" class=\"dataframe\">\n  <thead>\n    <tr style=\"text-align: right;\">\n      <th></th>\n      <th>Postcode</th>\n      <th>Borough</th>\n      <th>Neighbourhood</th>\n    </tr>\n  </thead>\n  <tbody>\n    <tr>\n      <th>0</th>\n      <td>M1A</td>\n      <td>Not assigned</td>\n      <td>Not assigned\\n</td>\n    </tr>\n    <tr>\n      <th>1</th>\n      <td>M2A</td>\n      <td>Not assigned</td>\n      <td>Not assigned\\n</td>\n    </tr>\n    <tr>\n      <th>2</th>\n      <td>M3A</td>\n      <td>North York</td>\n      <td>Parkwoods\\n</td>\n    </tr>\n    <tr>\n      <th>3</th>\n      <td>M4A</td>\n      <td>North York</td>\n      <td>Victoria Village\\n</td>\n    </tr>\n    <tr>\n      <th>4</th>\n      <td>M5A</td>\n      <td>Downtown Toronto</td>\n      <td>Harbourfront\\n</td>\n    </tr>\n    <tr>\n      <th>5</th>\n      <td>M6A</td>\n      <td>North York</td>\n      <td>Lawrence Heights\\n</td>\n    </tr>\n    <tr>\n      <th>6</th>\n      <td>M6A</td>\n      <td>North York</td>\n      <td>Lawrence Manor\\n</td>\n    </tr>\n    <tr>\n      <th>7</th>\n      <td>M7A</td>\n      <td>Downtown Toronto</td>\n      <td>Queen's Park\\n</td>\n    </tr>\n    <tr>\n      <th>8</th>\n      <td>M8A</td>\n      <td>Not assigned</td>\n      <td>Not assigned\\n</td>\n    </tr>\n    <tr>\n      <th>9</th>\n      <td>M9A</td>\n      <td>Queen's Park</td>\n      <td>Not assigned\\n</td>\n    </tr>\n  </tbody>\n</table>\n</div>",
                        "text/plain": "  Postcode           Borough     Neighbourhood\\n\n0      M1A      Not assigned      Not assigned\\n\n1      M2A      Not assigned      Not assigned\\n\n2      M3A        North York         Parkwoods\\n\n3      M4A        North York  Victoria Village\\n\n4      M5A  Downtown Toronto      Harbourfront\\n\n5      M6A        North York  Lawrence Heights\\n\n6      M6A        North York    Lawrence Manor\\n\n7      M7A  Downtown Toronto      Queen's Park\\n\n8      M8A      Not assigned      Not assigned\\n\n9      M9A      Queen's Park      Not assigned\\n"
                    },
                    "execution_count": 440,
                    "metadata": {},
                    "output_type": "execute_result"
                }
            ],
            "source": "dictionary={title:column for (title,column) in col}\ndf=pd.DataFrame(dictionary)\n\ndf.head(10)"
        },
        {
            "cell_type": "code",
            "execution_count": 441,
            "metadata": {},
            "outputs": [
                {
                    "data": {
                        "text/html": "<div>\n<style scoped>\n    .dataframe tbody tr th:only-of-type {\n        vertical-align: middle;\n    }\n\n    .dataframe tbody tr th {\n        vertical-align: top;\n    }\n\n    .dataframe thead th {\n        text-align: right;\n    }\n</style>\n<table border=\"1\" class=\"dataframe\">\n  <thead>\n    <tr style=\"text-align: right;\">\n      <th></th>\n      <th>Postcode</th>\n      <th>Borough</th>\n      <th>Neighbourhood</th>\n    </tr>\n  </thead>\n  <tbody>\n    <tr>\n      <th>282</th>\n      <td>M8Z</td>\n      <td>Etobicoke</td>\n      <td>Mimico NW\\n</td>\n    </tr>\n    <tr>\n      <th>283</th>\n      <td>M8Z</td>\n      <td>Etobicoke</td>\n      <td>The Queensway West\\n</td>\n    </tr>\n    <tr>\n      <th>284</th>\n      <td>M8Z</td>\n      <td>Etobicoke</td>\n      <td>Royal York South West\\n</td>\n    </tr>\n    <tr>\n      <th>285</th>\n      <td>M8Z</td>\n      <td>Etobicoke</td>\n      <td>South of Bloor\\n</td>\n    </tr>\n    <tr>\n      <th>286</th>\n      <td>M9Z</td>\n      <td>Not assigned</td>\n      <td>Not assigned\\n</td>\n    </tr>\n  </tbody>\n</table>\n</div>",
                        "text/plain": "    Postcode       Borough          Neighbourhood\\n\n282      M8Z     Etobicoke              Mimico NW\\n\n283      M8Z     Etobicoke     The Queensway West\\n\n284      M8Z     Etobicoke  Royal York South West\\n\n285      M8Z     Etobicoke         South of Bloor\\n\n286      M9Z  Not assigned           Not assigned\\n"
                    },
                    "execution_count": 441,
                    "metadata": {},
                    "output_type": "execute_result"
                }
            ],
            "source": "df.tail()"
        },
        {
            "cell_type": "markdown",
            "metadata": {},
            "source": "Renaming column <span style=\"color:red\">'Postcode'</span> to <span style=\"color:red\">'PostalCode'</span>."
        },
        {
            "cell_type": "code",
            "execution_count": 442,
            "metadata": {},
            "outputs": [
                {
                    "data": {
                        "text/html": "<div>\n<style scoped>\n    .dataframe tbody tr th:only-of-type {\n        vertical-align: middle;\n    }\n\n    .dataframe tbody tr th {\n        vertical-align: top;\n    }\n\n    .dataframe thead th {\n        text-align: right;\n    }\n</style>\n<table border=\"1\" class=\"dataframe\">\n  <thead>\n    <tr style=\"text-align: right;\">\n      <th></th>\n      <th>PostalCode</th>\n      <th>Borough</th>\n      <th>Neighbourhood</th>\n    </tr>\n  </thead>\n  <tbody>\n    <tr>\n      <th>0</th>\n      <td>M1A</td>\n      <td>Not assigned</td>\n      <td>Not assigned\\n</td>\n    </tr>\n    <tr>\n      <th>1</th>\n      <td>M2A</td>\n      <td>Not assigned</td>\n      <td>Not assigned\\n</td>\n    </tr>\n    <tr>\n      <th>2</th>\n      <td>M3A</td>\n      <td>North York</td>\n      <td>Parkwoods\\n</td>\n    </tr>\n    <tr>\n      <th>3</th>\n      <td>M4A</td>\n      <td>North York</td>\n      <td>Victoria Village\\n</td>\n    </tr>\n    <tr>\n      <th>4</th>\n      <td>M5A</td>\n      <td>Downtown Toronto</td>\n      <td>Harbourfront\\n</td>\n    </tr>\n  </tbody>\n</table>\n</div>",
                        "text/plain": "  PostalCode           Borough       Neighbourhood\n0        M1A      Not assigned      Not assigned\\n\n1        M2A      Not assigned      Not assigned\\n\n2        M3A        North York         Parkwoods\\n\n3        M4A        North York  Victoria Village\\n\n4        M5A  Downtown Toronto      Harbourfront\\n"
                    },
                    "execution_count": 442,
                    "metadata": {},
                    "output_type": "execute_result"
                }
            ],
            "source": "df.rename(columns={'Postcode': 'PostalCode', 'Neighbourhood\\n': 'Neighbourhood'}, inplace=True)\ndf.head()"
        },
        {
            "cell_type": "markdown",
            "metadata": {},
            "source": "Check if the all names in the column <span style=\"color:red\">'Neighbourhood'</span> have a 'dirty' tail like as <span style=\"color:red\">'\\n'</span>."
        },
        {
            "cell_type": "code",
            "execution_count": 443,
            "metadata": {},
            "outputs": [
                {
                    "data": {
                        "text/plain": "1"
                    },
                    "execution_count": 443,
                    "metadata": {},
                    "output_type": "execute_result"
                }
            ],
            "source": "len(pd.unique(df['Neighbourhood'].apply(lambda s: s[-1:])))"
        },
        {
            "cell_type": "markdown",
            "metadata": {},
            "source": "Yes. Each of them have identical \"tin can tied to them legs\". Since we found out it, we can apply very simple rule to cut off this \"tin can\"."
        },
        {
            "cell_type": "code",
            "execution_count": 444,
            "metadata": {},
            "outputs": [
                {
                    "data": {
                        "text/html": "<div>\n<style scoped>\n    .dataframe tbody tr th:only-of-type {\n        vertical-align: middle;\n    }\n\n    .dataframe tbody tr th {\n        vertical-align: top;\n    }\n\n    .dataframe thead th {\n        text-align: right;\n    }\n</style>\n<table border=\"1\" class=\"dataframe\">\n  <thead>\n    <tr style=\"text-align: right;\">\n      <th></th>\n      <th>PostalCode</th>\n      <th>Borough</th>\n      <th>Neighbourhood</th>\n    </tr>\n  </thead>\n  <tbody>\n    <tr>\n      <th>0</th>\n      <td>M1A</td>\n      <td>Not assigned</td>\n      <td>Not assigned</td>\n    </tr>\n    <tr>\n      <th>1</th>\n      <td>M2A</td>\n      <td>Not assigned</td>\n      <td>Not assigned</td>\n    </tr>\n    <tr>\n      <th>2</th>\n      <td>M3A</td>\n      <td>North York</td>\n      <td>Parkwoods</td>\n    </tr>\n    <tr>\n      <th>3</th>\n      <td>M4A</td>\n      <td>North York</td>\n      <td>Victoria Village</td>\n    </tr>\n    <tr>\n      <th>4</th>\n      <td>M5A</td>\n      <td>Downtown Toronto</td>\n      <td>Harbourfront</td>\n    </tr>\n  </tbody>\n</table>\n</div>",
                        "text/plain": "  PostalCode           Borough     Neighbourhood\n0        M1A      Not assigned      Not assigned\n1        M2A      Not assigned      Not assigned\n2        M3A        North York         Parkwoods\n3        M4A        North York  Victoria Village\n4        M5A  Downtown Toronto      Harbourfront"
                    },
                    "execution_count": 444,
                    "metadata": {},
                    "output_type": "execute_result"
                }
            ],
            "source": "df['Neighbourhood'] = df.Neighbourhood.apply(lambda s: s[:-1])\ndf.head()"
        },
        {
            "cell_type": "markdown",
            "metadata": {},
            "source": "Now, DataFrame is consist of three columns: <span style=\"color:red\">'PostalCode'</span>, <span style=\"color:red\">'Borough'</span>, and <span style=\"color:red\">'Neighborhood'</span>."
        },
        {
            "cell_type": "markdown",
            "metadata": {},
            "source": "* __Only process the cells that have an assigned <span style=\"color:red\">'Borough'</span>. Ignore cells with a <span style=\"color:red\">'Borough'</span> that is 'Not assigned'.__\n\nLeave rows which have no missing data in <span style=\"color:red\">'Borough'</span> column."
        },
        {
            "cell_type": "code",
            "execution_count": 445,
            "metadata": {},
            "outputs": [
                {
                    "data": {
                        "text/html": "<div>\n<style scoped>\n    .dataframe tbody tr th:only-of-type {\n        vertical-align: middle;\n    }\n\n    .dataframe tbody tr th {\n        vertical-align: top;\n    }\n\n    .dataframe thead th {\n        text-align: right;\n    }\n</style>\n<table border=\"1\" class=\"dataframe\">\n  <thead>\n    <tr style=\"text-align: right;\">\n      <th></th>\n      <th>PostalCode</th>\n      <th>Borough</th>\n      <th>Neighbourhood</th>\n    </tr>\n  </thead>\n  <tbody>\n    <tr>\n      <th>2</th>\n      <td>M3A</td>\n      <td>North York</td>\n      <td>Parkwoods</td>\n    </tr>\n    <tr>\n      <th>3</th>\n      <td>M4A</td>\n      <td>North York</td>\n      <td>Victoria Village</td>\n    </tr>\n    <tr>\n      <th>4</th>\n      <td>M5A</td>\n      <td>Downtown Toronto</td>\n      <td>Harbourfront</td>\n    </tr>\n    <tr>\n      <th>5</th>\n      <td>M6A</td>\n      <td>North York</td>\n      <td>Lawrence Heights</td>\n    </tr>\n    <tr>\n      <th>6</th>\n      <td>M6A</td>\n      <td>North York</td>\n      <td>Lawrence Manor</td>\n    </tr>\n  </tbody>\n</table>\n</div>",
                        "text/plain": "  PostalCode           Borough     Neighbourhood\n2        M3A        North York         Parkwoods\n3        M4A        North York  Victoria Village\n4        M5A  Downtown Toronto      Harbourfront\n5        M6A        North York  Lawrence Heights\n6        M6A        North York    Lawrence Manor"
                    },
                    "execution_count": 445,
                    "metadata": {},
                    "output_type": "execute_result"
                }
            ],
            "source": "df = df[df['Borough'] != 'Not assigned']\ndf.head()"
        },
        {
            "cell_type": "markdown",
            "metadata": {},
            "source": "Reset the indexes. They must be started from 0."
        },
        {
            "cell_type": "code",
            "execution_count": 446,
            "metadata": {},
            "outputs": [
                {
                    "data": {
                        "text/html": "<div>\n<style scoped>\n    .dataframe tbody tr th:only-of-type {\n        vertical-align: middle;\n    }\n\n    .dataframe tbody tr th {\n        vertical-align: top;\n    }\n\n    .dataframe thead th {\n        text-align: right;\n    }\n</style>\n<table border=\"1\" class=\"dataframe\">\n  <thead>\n    <tr style=\"text-align: right;\">\n      <th></th>\n      <th>PostalCode</th>\n      <th>Borough</th>\n      <th>Neighbourhood</th>\n    </tr>\n  </thead>\n  <tbody>\n    <tr>\n      <th>0</th>\n      <td>M3A</td>\n      <td>North York</td>\n      <td>Parkwoods</td>\n    </tr>\n    <tr>\n      <th>1</th>\n      <td>M4A</td>\n      <td>North York</td>\n      <td>Victoria Village</td>\n    </tr>\n    <tr>\n      <th>2</th>\n      <td>M5A</td>\n      <td>Downtown Toronto</td>\n      <td>Harbourfront</td>\n    </tr>\n    <tr>\n      <th>3</th>\n      <td>M6A</td>\n      <td>North York</td>\n      <td>Lawrence Heights</td>\n    </tr>\n    <tr>\n      <th>4</th>\n      <td>M6A</td>\n      <td>North York</td>\n      <td>Lawrence Manor</td>\n    </tr>\n  </tbody>\n</table>\n</div>",
                        "text/plain": "  PostalCode           Borough     Neighbourhood\n0        M3A        North York         Parkwoods\n1        M4A        North York  Victoria Village\n2        M5A  Downtown Toronto      Harbourfront\n3        M6A        North York  Lawrence Heights\n4        M6A        North York    Lawrence Manor"
                    },
                    "execution_count": 446,
                    "metadata": {},
                    "output_type": "execute_result"
                }
            ],
            "source": "df.reset_index(inplace=True, drop=True)\ndf.head()"
        },
        {
            "cell_type": "markdown",
            "metadata": {},
            "source": "* __If a cell has a <span style=\"color:red\">'Borough'</span> but a 'Not assigned' <span style=\"color:red\">'Neighbourhood'</span>, then the <span style=\"color:red\">'Neighbourhood'</span> content will be the same as the <span style=\"color:red\">'Borough'</span>.__ \n\nChecking it."
        },
        {
            "cell_type": "code",
            "execution_count": 447,
            "metadata": {},
            "outputs": [
                {
                    "data": {
                        "text/html": "<div>\n<style scoped>\n    .dataframe tbody tr th:only-of-type {\n        vertical-align: middle;\n    }\n\n    .dataframe tbody tr th {\n        vertical-align: top;\n    }\n\n    .dataframe thead th {\n        text-align: right;\n    }\n</style>\n<table border=\"1\" class=\"dataframe\">\n  <thead>\n    <tr style=\"text-align: right;\">\n      <th></th>\n      <th>PostalCode</th>\n      <th>Borough</th>\n      <th>Neighbourhood</th>\n    </tr>\n  </thead>\n  <tbody>\n    <tr>\n      <th>6</th>\n      <td>M9A</td>\n      <td>Queen's Park</td>\n      <td>Queen's Park</td>\n    </tr>\n  </tbody>\n</table>\n</div>",
                        "text/plain": "  PostalCode       Borough Neighbourhood\n6        M9A  Queen's Park  Queen's Park"
                    },
                    "execution_count": 447,
                    "metadata": {},
                    "output_type": "execute_result"
                }
            ],
            "source": "test = df[df['Neighbourhood'] == 'Not assigned']\ntest.loc[:, 'Neighbourhood'] = test.loc[:, 'Borough']\ntest.head()"
        },
        {
            "cell_type": "markdown",
            "metadata": {},
            "source": "Fix it according to instructions."
        },
        {
            "cell_type": "code",
            "execution_count": 448,
            "metadata": {},
            "outputs": [
                {
                    "data": {
                        "text/html": "<div>\n<style scoped>\n    .dataframe tbody tr th:only-of-type {\n        vertical-align: middle;\n    }\n\n    .dataframe tbody tr th {\n        vertical-align: top;\n    }\n\n    .dataframe thead th {\n        text-align: right;\n    }\n</style>\n<table border=\"1\" class=\"dataframe\">\n  <thead>\n    <tr style=\"text-align: right;\">\n      <th></th>\n      <th>PostalCode</th>\n      <th>Borough</th>\n      <th>Neighbourhood</th>\n    </tr>\n  </thead>\n  <tbody>\n    <tr>\n      <th>0</th>\n      <td>M3A</td>\n      <td>North York</td>\n      <td>Parkwoods</td>\n    </tr>\n    <tr>\n      <th>1</th>\n      <td>M4A</td>\n      <td>North York</td>\n      <td>Victoria Village</td>\n    </tr>\n    <tr>\n      <th>2</th>\n      <td>M5A</td>\n      <td>Downtown Toronto</td>\n      <td>Harbourfront</td>\n    </tr>\n    <tr>\n      <th>3</th>\n      <td>M6A</td>\n      <td>North York</td>\n      <td>Lawrence Heights</td>\n    </tr>\n    <tr>\n      <th>4</th>\n      <td>M6A</td>\n      <td>North York</td>\n      <td>Lawrence Manor</td>\n    </tr>\n    <tr>\n      <th>5</th>\n      <td>M7A</td>\n      <td>Downtown Toronto</td>\n      <td>Queen's Park</td>\n    </tr>\n    <tr>\n      <th>6</th>\n      <td>M9A</td>\n      <td>Queen's Park</td>\n      <td>Queen's Park</td>\n    </tr>\n    <tr>\n      <th>7</th>\n      <td>M1B</td>\n      <td>Scarborough</td>\n      <td>Rouge</td>\n    </tr>\n    <tr>\n      <th>8</th>\n      <td>M1B</td>\n      <td>Scarborough</td>\n      <td>Malvern</td>\n    </tr>\n    <tr>\n      <th>9</th>\n      <td>M3B</td>\n      <td>North York</td>\n      <td>Don Mills North</td>\n    </tr>\n  </tbody>\n</table>\n</div>",
                        "text/plain": "  PostalCode           Borough     Neighbourhood\n0        M3A        North York         Parkwoods\n1        M4A        North York  Victoria Village\n2        M5A  Downtown Toronto      Harbourfront\n3        M6A        North York  Lawrence Heights\n4        M6A        North York    Lawrence Manor\n5        M7A  Downtown Toronto      Queen's Park\n6        M9A      Queen's Park      Queen's Park\n7        M1B       Scarborough             Rouge\n8        M1B       Scarborough           Malvern\n9        M3B        North York   Don Mills North"
                    },
                    "execution_count": 448,
                    "metadata": {},
                    "output_type": "execute_result"
                }
            ],
            "source": "df[df['Neighbourhood'] == 'Not assigned'] = test.loc[:, :] \ndf.head(10)"
        },
        {
            "cell_type": "markdown",
            "metadata": {},
            "source": "* __More than one neighborhood can exist in one postal code area. These names will be combined into one row with the neighborhoods separated with a comma.__"
        },
        {
            "cell_type": "markdown",
            "metadata": {},
            "source": "Converting consist of <span style=\"color:red\">'Neighbourhood'</span> column to the <code><span style=\"color:green\">list</span></code> object, then grouping <span style=\"color:red\">'Neighbourhood'</span> by <span style=\"color:red\">'PostalCode'</span> and finally apply <code>sum()</code> for joining the grouped lists all together."
        },
        {
            "cell_type": "code",
            "execution_count": 449,
            "metadata": {},
            "outputs": [
                {
                    "data": {
                        "text/html": "<div>\n<style scoped>\n    .dataframe tbody tr th:only-of-type {\n        vertical-align: middle;\n    }\n\n    .dataframe tbody tr th {\n        vertical-align: top;\n    }\n\n    .dataframe thead th {\n        text-align: right;\n    }\n</style>\n<table border=\"1\" class=\"dataframe\">\n  <thead>\n    <tr style=\"text-align: right;\">\n      <th></th>\n      <th>Neighbourhood</th>\n    </tr>\n    <tr>\n      <th>PostalCode</th>\n      <th></th>\n    </tr>\n  </thead>\n  <tbody>\n    <tr>\n      <th>M1B</th>\n      <td>[Rouge, Malvern]</td>\n    </tr>\n    <tr>\n      <th>M1C</th>\n      <td>[Highland Creek, Rouge Hill, Port Union]</td>\n    </tr>\n    <tr>\n      <th>M1E</th>\n      <td>[Guildwood, Morningside, West Hill]</td>\n    </tr>\n    <tr>\n      <th>M1G</th>\n      <td>[Woburn]</td>\n    </tr>\n    <tr>\n      <th>M1H</th>\n      <td>[Cedarbrae]</td>\n    </tr>\n  </tbody>\n</table>\n</div>",
                        "text/plain": "                                       Neighbourhood\nPostalCode                                          \nM1B                                 [Rouge, Malvern]\nM1C         [Highland Creek, Rouge Hill, Port Union]\nM1E              [Guildwood, Morningside, West Hill]\nM1G                                         [Woburn]\nM1H                                      [Cedarbrae]"
                    },
                    "execution_count": 449,
                    "metadata": {},
                    "output_type": "execute_result"
                }
            ],
            "source": "df['Neighbourhood'] = df.Neighbourhood.apply(lambda s: [s])\npc = df[['PostalCode', 'Neighbourhood']]\npc = pc.groupby(['PostalCode']).sum()\npc.head()"
        },
        {
            "cell_type": "markdown",
            "metadata": {},
            "source": "Releasing  the <span style=\"color:red\">'Neighbourhood'</span> content out  of squares."
        },
        {
            "cell_type": "code",
            "execution_count": 450,
            "metadata": {},
            "outputs": [
                {
                    "data": {
                        "text/html": "<div>\n<style scoped>\n    .dataframe tbody tr th:only-of-type {\n        vertical-align: middle;\n    }\n\n    .dataframe tbody tr th {\n        vertical-align: top;\n    }\n\n    .dataframe thead th {\n        text-align: right;\n    }\n</style>\n<table border=\"1\" class=\"dataframe\">\n  <thead>\n    <tr style=\"text-align: right;\">\n      <th></th>\n      <th>PostalCode</th>\n      <th>Neighbourhood</th>\n    </tr>\n  </thead>\n  <tbody>\n    <tr>\n      <th>0</th>\n      <td>M1B</td>\n      <td>Rouge, Malvern</td>\n    </tr>\n    <tr>\n      <th>1</th>\n      <td>M1C</td>\n      <td>Highland Creek, Rouge Hill, Port Union</td>\n    </tr>\n    <tr>\n      <th>2</th>\n      <td>M1E</td>\n      <td>Guildwood, Morningside, West Hill</td>\n    </tr>\n    <tr>\n      <th>3</th>\n      <td>M1G</td>\n      <td>Woburn</td>\n    </tr>\n    <tr>\n      <th>4</th>\n      <td>M1H</td>\n      <td>Cedarbrae</td>\n    </tr>\n  </tbody>\n</table>\n</div>",
                        "text/plain": "  PostalCode                           Neighbourhood\n0        M1B                          Rouge, Malvern\n1        M1C  Highland Creek, Rouge Hill, Port Union\n2        M1E       Guildwood, Morningside, West Hill\n3        M1G                                  Woburn\n4        M1H                               Cedarbrae"
                    },
                    "execution_count": 450,
                    "metadata": {},
                    "output_type": "execute_result"
                }
            ],
            "source": "pc['Neighbourhood'] = pc.Neighbourhood.apply(lambda l: ', '.join(l))\npc.reset_index(inplace=True)\npc.head()"
        },
        {
            "cell_type": "markdown",
            "metadata": {},
            "source": "Check length equality of DataFrames which must be join together."
        },
        {
            "cell_type": "code",
            "execution_count": 451,
            "metadata": {},
            "outputs": [
                {
                    "data": {
                        "text/plain": "False"
                    },
                    "execution_count": 451,
                    "metadata": {},
                    "output_type": "execute_result"
                }
            ],
            "source": "df.shape == pc.shape"
        },
        {
            "cell_type": "markdown",
            "metadata": {},
            "source": "Since the <code>.shape</code> of <code>df</code> and <code>pd</code> DataFrames is not the same, there is needs another DataFrame for joining <code>df</code> and <code>pd</code> DataFrames. "
        },
        {
            "cell_type": "markdown",
            "metadata": {},
            "source": "Syntezing the DataFrame <code>clear_df</code> from scratch."
        },
        {
            "cell_type": "code",
            "execution_count": 452,
            "metadata": {},
            "outputs": [
                {
                    "data": {
                        "text/html": "<div>\n<style scoped>\n    .dataframe tbody tr th:only-of-type {\n        vertical-align: middle;\n    }\n\n    .dataframe tbody tr th {\n        vertical-align: top;\n    }\n\n    .dataframe thead th {\n        text-align: right;\n    }\n</style>\n<table border=\"1\" class=\"dataframe\">\n  <thead>\n    <tr style=\"text-align: right;\">\n      <th></th>\n      <th>Borough</th>\n      <th>Neighbourhood</th>\n    </tr>\n    <tr>\n      <th>PostalCode</th>\n      <th></th>\n      <th></th>\n    </tr>\n  </thead>\n  <tbody>\n    <tr>\n      <th>M3A</th>\n      <td>False</td>\n      <td>False</td>\n    </tr>\n    <tr>\n      <th>M4A</th>\n      <td>False</td>\n      <td>False</td>\n    </tr>\n    <tr>\n      <th>M5A</th>\n      <td>False</td>\n      <td>False</td>\n    </tr>\n    <tr>\n      <th>M6A</th>\n      <td>False</td>\n      <td>False</td>\n    </tr>\n    <tr>\n      <th>M7A</th>\n      <td>False</td>\n      <td>False</td>\n    </tr>\n  </tbody>\n</table>\n</div>",
                        "text/plain": "            Borough  Neighbourhood\nPostalCode                        \nM3A           False          False\nM4A           False          False\nM5A           False          False\nM6A           False          False\nM7A           False          False"
                    },
                    "execution_count": 452,
                    "metadata": {},
                    "output_type": "execute_result"
                }
            ],
            "source": "clear_df = pd.DataFrame()\nclear_df['PostalCode'] = pd.unique(df.PostalCode)\nclear_df['Borough'] = False\nclear_df['Neighbourhood'] = False\nclear_df = clear_df.set_index('PostalCode')\nclear_df.head()"
        },
        {
            "cell_type": "markdown",
            "metadata": {},
            "source": "Loading the data to the <code>clear_df</code> DataFrame."
        },
        {
            "cell_type": "code",
            "execution_count": 453,
            "metadata": {},
            "outputs": [
                {
                    "data": {
                        "text/html": "<div>\n<style scoped>\n    .dataframe tbody tr th:only-of-type {\n        vertical-align: middle;\n    }\n\n    .dataframe tbody tr th {\n        vertical-align: top;\n    }\n\n    .dataframe thead th {\n        text-align: right;\n    }\n</style>\n<table border=\"1\" class=\"dataframe\">\n  <thead>\n    <tr style=\"text-align: right;\">\n      <th></th>\n      <th>PostalCode</th>\n      <th>Borough</th>\n      <th>Neighbourhood</th>\n    </tr>\n  </thead>\n  <tbody>\n    <tr>\n      <th>0</th>\n      <td>M3A</td>\n      <td>North York</td>\n      <td>Parkwoods</td>\n    </tr>\n    <tr>\n      <th>1</th>\n      <td>M4A</td>\n      <td>North York</td>\n      <td>Victoria Village</td>\n    </tr>\n    <tr>\n      <th>2</th>\n      <td>M5A</td>\n      <td>Downtown Toronto</td>\n      <td>Harbourfront</td>\n    </tr>\n    <tr>\n      <th>3</th>\n      <td>M6A</td>\n      <td>North York</td>\n      <td>Lawrence Heights, Lawrence Manor</td>\n    </tr>\n    <tr>\n      <th>4</th>\n      <td>M7A</td>\n      <td>Downtown Toronto</td>\n      <td>Queen's Park</td>\n    </tr>\n    <tr>\n      <th>5</th>\n      <td>M9A</td>\n      <td>Queen's Park</td>\n      <td>Queen's Park</td>\n    </tr>\n    <tr>\n      <th>6</th>\n      <td>M1B</td>\n      <td>Scarborough</td>\n      <td>Rouge, Malvern</td>\n    </tr>\n    <tr>\n      <th>7</th>\n      <td>M3B</td>\n      <td>North York</td>\n      <td>Don Mills North</td>\n    </tr>\n    <tr>\n      <th>8</th>\n      <td>M4B</td>\n      <td>East York</td>\n      <td>Woodbine Gardens, Parkview Hill</td>\n    </tr>\n    <tr>\n      <th>9</th>\n      <td>M5B</td>\n      <td>Downtown Toronto</td>\n      <td>Ryerson, Garden District</td>\n    </tr>\n    <tr>\n      <th>10</th>\n      <td>M6B</td>\n      <td>North York</td>\n      <td>Glencairn</td>\n    </tr>\n    <tr>\n      <th>11</th>\n      <td>M9B</td>\n      <td>Etobicoke</td>\n      <td>Cloverdale, Islington, Martin Grove, Princess ...</td>\n    </tr>\n  </tbody>\n</table>\n</div>",
                        "text/plain": "   PostalCode           Borough  \\\n0         M3A        North York   \n1         M4A        North York   \n2         M5A  Downtown Toronto   \n3         M6A        North York   \n4         M7A  Downtown Toronto   \n5         M9A      Queen's Park   \n6         M1B       Scarborough   \n7         M3B        North York   \n8         M4B         East York   \n9         M5B  Downtown Toronto   \n10        M6B        North York   \n11        M9B         Etobicoke   \n\n                                        Neighbourhood  \n0                                           Parkwoods  \n1                                    Victoria Village  \n2                                        Harbourfront  \n3                    Lawrence Heights, Lawrence Manor  \n4                                        Queen's Park  \n5                                        Queen's Park  \n6                                      Rouge, Malvern  \n7                                     Don Mills North  \n8                     Woodbine Gardens, Parkview Hill  \n9                            Ryerson, Garden District  \n10                                          Glencairn  \n11  Cloverdale, Islington, Martin Grove, Princess ...  "
                    },
                    "execution_count": 453,
                    "metadata": {},
                    "output_type": "execute_result"
                }
            ],
            "source": "df['Neighbourhood'] = df.Neighbourhood.apply(lambda s: s[0])\nfor pcd, b, _ in df.values:\n    clear_df.loc[pcd, 'Borough'] = b\nfor pcd, nb in pc.values:\n    clear_df.loc[pcd, 'Neighbourhood'] = nb\nclear_df.reset_index().head(12)"
        },
        {
            "cell_type": "markdown",
            "metadata": {},
            "source": "Let ensure that in an original DataFrame <code>df</code> it won't happen that one postal code will the same for two or more different boroughs."
        },
        {
            "cell_type": "code",
            "execution_count": 454,
            "metadata": {},
            "outputs": [
                {
                    "name": "stdout",
                    "output_type": "stream",
                    "text": "Number of distinct boroughs corresponding to each postal code not greater than 1.\n"
                }
            ],
            "source": "test = clear_df.Borough.apply(lambda l: l.split(','))\ntest = test.apply(lambda l: len(l))\nprint('Number of distinct boroughs corresponding to each postal code not greater than {}.'.format(test.max()))"
        },
        {
            "cell_type": "code",
            "execution_count": 455,
            "metadata": {},
            "outputs": [
                {
                    "data": {
                        "text/html": "<div>\n<style scoped>\n    .dataframe tbody tr th:only-of-type {\n        vertical-align: middle;\n    }\n\n    .dataframe tbody tr th {\n        vertical-align: top;\n    }\n\n    .dataframe thead th {\n        text-align: right;\n    }\n</style>\n<table border=\"1\" class=\"dataframe\">\n  <thead>\n    <tr style=\"text-align: right;\">\n      <th></th>\n      <th>PostalCode</th>\n      <th>Borough</th>\n      <th>Neighbourhood</th>\n    </tr>\n  </thead>\n  <tbody>\n    <tr>\n      <th>0</th>\n      <td>M5G</td>\n      <td>Downtown Toronto</td>\n      <td>Central Bay Street</td>\n    </tr>\n    <tr>\n      <th>1</th>\n      <td>M2H</td>\n      <td>North York</td>\n      <td>Hillcrest Village</td>\n    </tr>\n    <tr>\n      <th>2</th>\n      <td>M4B</td>\n      <td>East York</td>\n      <td>Woodbine Gardens, Parkview Hill</td>\n    </tr>\n    <tr>\n      <th>3</th>\n      <td>M1J</td>\n      <td>Scarborough</td>\n      <td>Scarborough Village</td>\n    </tr>\n    <tr>\n      <th>4</th>\n      <td>M4G</td>\n      <td>East York</td>\n      <td>Leaside</td>\n    </tr>\n    <tr>\n      <th>5</th>\n      <td>M4M</td>\n      <td>East Toronto</td>\n      <td>Studio District</td>\n    </tr>\n    <tr>\n      <th>6</th>\n      <td>M1R</td>\n      <td>Scarborough</td>\n      <td>Maryvale, Wexford</td>\n    </tr>\n    <tr>\n      <th>7</th>\n      <td>M9V</td>\n      <td>Etobicoke</td>\n      <td>Albion Gardens, Beaumond Heights, Humbergate, ...</td>\n    </tr>\n    <tr>\n      <th>8</th>\n      <td>M9L</td>\n      <td>North York</td>\n      <td>Humber Summit</td>\n    </tr>\n    <tr>\n      <th>9</th>\n      <td>M5V</td>\n      <td>Downtown Toronto</td>\n      <td>CN Tower, Bathurst Quay, Island airport, Harbo...</td>\n    </tr>\n    <tr>\n      <th>10</th>\n      <td>M1B</td>\n      <td>Scarborough</td>\n      <td>Rouge, Malvern</td>\n    </tr>\n    <tr>\n      <th>11</th>\n      <td>M5A</td>\n      <td>Downtown Toronto</td>\n      <td>Harbourfront</td>\n    </tr>\n  </tbody>\n</table>\n</div>",
                        "text/plain": "   PostalCode           Borough  \\\n0         M5G  Downtown Toronto   \n1         M2H        North York   \n2         M4B         East York   \n3         M1J       Scarborough   \n4         M4G         East York   \n5         M4M      East Toronto   \n6         M1R       Scarborough   \n7         M9V         Etobicoke   \n8         M9L        North York   \n9         M5V  Downtown Toronto   \n10        M1B       Scarborough   \n11        M5A  Downtown Toronto   \n\n                                        Neighbourhood  \n0                                  Central Bay Street  \n1                                   Hillcrest Village  \n2                     Woodbine Gardens, Parkview Hill  \n3                                 Scarborough Village  \n4                                             Leaside  \n5                                     Studio District  \n6                                   Maryvale, Wexford  \n7   Albion Gardens, Beaumond Heights, Humbergate, ...  \n8                                       Humber Summit  \n9   CN Tower, Bathurst Quay, Island airport, Harbo...  \n10                                     Rouge, Malvern  \n11                                       Harbourfront  "
                    },
                    "execution_count": 455,
                    "metadata": {},
                    "output_type": "execute_result"
                }
            ],
            "source": "p_codes = ['M5G', 'M2H', 'M4B', 'M1J', 'M4G', 'M4M', 'M1R', 'M9V', 'M9L', 'M5V', 'M1B', 'M5A']\nclear_df.loc[p_codes, :].reset_index()"
        },
        {
            "cell_type": "markdown",
            "metadata": {},
            "source": "It seems I made a mistake: 'M5A' must has two neighborhoods 'Regent Park' and 'Harbourfron', but there is 'Harbourfron' only. What about postal code \n'M5A', how many rows in <code>df</code> are containing it"
        },
        {
            "cell_type": "code",
            "execution_count": 456,
            "metadata": {},
            "outputs": [
                {
                    "data": {
                        "text/html": "<div>\n<style scoped>\n    .dataframe tbody tr th:only-of-type {\n        vertical-align: middle;\n    }\n\n    .dataframe tbody tr th {\n        vertical-align: top;\n    }\n\n    .dataframe thead th {\n        text-align: right;\n    }\n</style>\n<table border=\"1\" class=\"dataframe\">\n  <thead>\n    <tr style=\"text-align: right;\">\n      <th></th>\n      <th>PostalCode</th>\n      <th>Borough</th>\n      <th>Neighbourhood</th>\n    </tr>\n  </thead>\n  <tbody>\n    <tr>\n      <th>2</th>\n      <td>M5A</td>\n      <td>Downtown Toronto</td>\n      <td>Harbourfront</td>\n    </tr>\n  </tbody>\n</table>\n</div>",
                        "text/plain": "  PostalCode           Borough Neighbourhood\n2        M5A  Downtown Toronto  Harbourfront"
                    },
                    "execution_count": 456,
                    "metadata": {},
                    "output_type": "execute_result"
                }
            ],
            "source": "df[df['PostalCode'] == 'M5A']"
        },
        {
            "cell_type": "markdown",
            "metadata": {},
            "source": "Only one row! It is not my mistake. Let ensure by visit [Wikipedia page](https://en.wikipedia.org/wiki/List_of_postal_codes_of_Canada:_M \"List of postal codes of Canada: M\")."
        },
        {
            "cell_type": "code",
            "execution_count": 457,
            "metadata": {},
            "outputs": [
                {
                    "data": {
                        "text/plain": "0"
                    },
                    "execution_count": 457,
                    "metadata": {},
                    "output_type": "execute_result"
                }
            ],
            "source": "len(df[df['Neighbourhood'] == 'Regent Park'])"
        },
        {
            "cell_type": "markdown",
            "metadata": {},
            "source": "There is 0 rows which has 'Regent Park' as a neighborhood."
        },
        {
            "cell_type": "markdown",
            "metadata": {},
            "source": "* __In the last cell of your notebook, use the <code>.shape</code> method to print the number of rows of your dataframe.__"
        },
        {
            "cell_type": "code",
            "execution_count": 458,
            "metadata": {},
            "outputs": [
                {
                    "data": {
                        "text/plain": "(103, 2)"
                    },
                    "execution_count": 458,
                    "metadata": {},
                    "output_type": "execute_result"
                }
            ],
            "source": "clear_df.shape"
        }
    ],
    "metadata": {
        "kernelspec": {
            "display_name": "Python 3.6",
            "language": "python",
            "name": "python3"
        },
        "language_info": {
            "codemirror_mode": {
                "name": "ipython",
                "version": 3
            },
            "file_extension": ".py",
            "mimetype": "text/x-python",
            "name": "python",
            "nbconvert_exporter": "python",
            "pygments_lexer": "ipython3",
            "version": "3.6.9"
        }
    },
    "nbformat": 4,
    "nbformat_minor": 1
}