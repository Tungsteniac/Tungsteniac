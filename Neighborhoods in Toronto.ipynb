{
    "cells": [
        {
            "cell_type": "markdown",
            "metadata": {
                "collapsed": true
            },
            "source": "# Segmenting and Clustering Neighborhoods in Toronto"
        },
        {
            "cell_type": "markdown",
            "metadata": {},
            "source": "## Data Mining"
        },
        {
            "cell_type": "markdown",
            "metadata": {},
            "source": "Decription how to mine the data on Wikipedia page. Building the code to scrape the Wikipedia page. Writing the data into the DataFrame."
        },
        {
            "cell_type": "markdown",
            "metadata": {},
            "source": "### Scraping"
        },
        {
            "cell_type": "markdown",
            "metadata": {},
            "source": "* __Use the Notebook to build the code to scrape the following [Wikipedia page](https://en.wikipedia.org/wiki/List_of_postal_codes_of_Canada:_M \"List of postal codes of Canada: M\").__"
        },
        {
            "cell_type": "markdown",
            "metadata": {},
            "source": "Loading necessary libraries. Except <code>pandas</code>, both <code>request</code> and <code>lxml</code> need installation."
        },
        {
            "cell_type": "code",
            "execution_count": 600,
            "metadata": {},
            "outputs": [],
            "source": "import pandas as pd\n#import numpy as np\n\n\n\ntry:\n    import requests\nexcept ModuleNotFoundError:\n    ! conda install requests\nfinally:\n    import requests\n    \ntry:\n    import lxml.html as lh\nexcept ModuleNotFoundError:\n    ! conda install lxml\nfinally:\n    from lxml import html as lh"
        },
        {
            "cell_type": "markdown",
            "metadata": {},
            "source": "The code below allows us to get the data from the table from the [Wikipedia page](https://en.wikipedia.org/wiki/List_of_postal_codes_of_Canada:_M \"List of postal codes of Canada: M\")."
        },
        {
            "cell_type": "code",
            "execution_count": 601,
            "metadata": {},
            "outputs": [],
            "source": "url='https://en.wikipedia.org/wiki/List_of_postal_codes_of_Canada:_M'\n\n\n\n# Create a handle, page, to handle the contents of the website.\npage = requests.get(url)\n\n# Store the contents of the website under doc.\ndoc = lh.fromstring(page.content)\n\n# Parse data that are stored between <tr>..</tr> of HTML.\ntr_elements = doc.xpath('//tr')"
        },
        {
            "cell_type": "markdown",
            "metadata": {},
            "source": "Check the length of the first 12 rows."
        },
        {
            "cell_type": "code",
            "execution_count": 602,
            "metadata": {},
            "outputs": [
                {
                    "data": {
                        "text/plain": "[3, 3, 3, 3, 3, 3, 3, 3, 3, 3, 3, 3]"
                    },
                    "execution_count": 602,
                    "metadata": {},
                    "output_type": "execute_result"
                }
            ],
            "source": "[len(T) for T in tr_elements[:12]]"
        },
        {
            "cell_type": "markdown",
            "metadata": {},
            "source": "Looks like all our rows have exactly 3 columns. This means all the data collected on <code>tr_elements</code> are from the table. Next, parse the first row as our header."
        },
        {
            "cell_type": "markdown",
            "metadata": {},
            "source": "Making a scraper."
        },
        {
            "cell_type": "code",
            "execution_count": 603,
            "metadata": {},
            "outputs": [],
            "source": "def preparator(tr_elements):\n    col=[]\n    i=0\n    # For each row, store each first element (header) and an empty list.\n    for t in tr_elements[0]:\n        i+=1\n        name=t.text_content()\n        col.append((name,[]))\n    # Since out first row is the header, data is stored on the second row onwards.\n    for j, _ in enumerate(tr_elements, 1):\n        #T is our j'th row\n        T=tr_elements[j]\n\n        # If row is not of size 10, the //tr data is not from our table. \n        if len(T)!=3:\n            break\n\n        # i is the index of our column.\n        i=0\n\n        # Iterate through each element of the row.\n        for t in T.iterchildren():\n            data=t.text_content() \n            # Check if row is empty.\n            if i>0:\n            # Convert any numerical value to integers.\n                try:\n                    data=int(data)\n                except:\n                    pass\n            # Append the data to the empty list of the i'th column.\n            col[i][1].append(data)\n            # Increment i for the next column.\n            i+=1\n    return col"
        },
        {
            "cell_type": "code",
            "execution_count": 639,
            "metadata": {},
            "outputs": [
                {
                    "data": {
                        "text/plain": "['Not assigned',\n 'Not assigned',\n 'North York',\n 'North York',\n 'Downtown Toronto',\n 'North York',\n 'North York',\n 'Downtown Toronto',\n 'Not assigned',\n \"Queen's Park\"]"
                    },
                    "execution_count": 639,
                    "metadata": {},
                    "output_type": "execute_result"
                }
            ],
            "source": "col = preparator(tr_elements)\ncol[0][1][:10]\ncol[1][1][:10]"
        },
        {
            "cell_type": "markdown",
            "metadata": {},
            "source": "Scraping is complited."
        },
        {
            "cell_type": "markdown",
            "metadata": {},
            "source": "### Data Cleaning"
        },
        {
            "cell_type": "markdown",
            "metadata": {},
            "source": "Forming the DataFrame from scraped data. Examining data to find out: excess sysmbols, missing data or something else in string data of DataDrame.\nChanging headers if it is necessary and ect. "
        },
        {
            "cell_type": "markdown",
            "metadata": {},
            "source": "* __The dataframe will consist of three columns: <span style=\"color:red\">'PostalCode'</span>, <span style=\"color:red\">'Borough'</span>, and <span style=\"color:red\">'Neighborhood'</span>__\n\nExamining number of columns and length of each column."
        },
        {
            "cell_type": "code",
            "execution_count": 605,
            "metadata": {},
            "outputs": [
                {
                    "name": "stdout",
                    "output_type": "stream",
                    "text": "3 [287, 287, 287]\n"
                }
            ],
            "source": "print(len(col), [len(C) for (title,C) in col])"
        },
        {
            "cell_type": "markdown",
            "metadata": {},
            "source": "Creating DataFrame."
        },
        {
            "cell_type": "code",
            "execution_count": 606,
            "metadata": {},
            "outputs": [
                {
                    "data": {
                        "text/html": "<div>\n<style scoped>\n    .dataframe tbody tr th:only-of-type {\n        vertical-align: middle;\n    }\n\n    .dataframe tbody tr th {\n        vertical-align: top;\n    }\n\n    .dataframe thead th {\n        text-align: right;\n    }\n</style>\n<table border=\"1\" class=\"dataframe\">\n  <thead>\n    <tr style=\"text-align: right;\">\n      <th></th>\n      <th>Postcode</th>\n      <th>Borough</th>\n      <th>Neighbourhood</th>\n    </tr>\n  </thead>\n  <tbody>\n    <tr>\n      <th>0</th>\n      <td>M1A</td>\n      <td>Not assigned</td>\n      <td>Not assigned\\n</td>\n    </tr>\n    <tr>\n      <th>1</th>\n      <td>M2A</td>\n      <td>Not assigned</td>\n      <td>Not assigned\\n</td>\n    </tr>\n    <tr>\n      <th>2</th>\n      <td>M3A</td>\n      <td>North York</td>\n      <td>Parkwoods\\n</td>\n    </tr>\n    <tr>\n      <th>3</th>\n      <td>M4A</td>\n      <td>North York</td>\n      <td>Victoria Village\\n</td>\n    </tr>\n    <tr>\n      <th>4</th>\n      <td>M5A</td>\n      <td>Downtown Toronto</td>\n      <td>Harbourfront\\n</td>\n    </tr>\n    <tr>\n      <th>5</th>\n      <td>M6A</td>\n      <td>North York</td>\n      <td>Lawrence Heights\\n</td>\n    </tr>\n    <tr>\n      <th>6</th>\n      <td>M6A</td>\n      <td>North York</td>\n      <td>Lawrence Manor\\n</td>\n    </tr>\n    <tr>\n      <th>7</th>\n      <td>M7A</td>\n      <td>Downtown Toronto</td>\n      <td>Queen's Park\\n</td>\n    </tr>\n    <tr>\n      <th>8</th>\n      <td>M8A</td>\n      <td>Not assigned</td>\n      <td>Not assigned\\n</td>\n    </tr>\n    <tr>\n      <th>9</th>\n      <td>M9A</td>\n      <td>Queen's Park</td>\n      <td>Not assigned\\n</td>\n    </tr>\n  </tbody>\n</table>\n</div>",
                        "text/plain": "  Postcode           Borough     Neighbourhood\\n\n0      M1A      Not assigned      Not assigned\\n\n1      M2A      Not assigned      Not assigned\\n\n2      M3A        North York         Parkwoods\\n\n3      M4A        North York  Victoria Village\\n\n4      M5A  Downtown Toronto      Harbourfront\\n\n5      M6A        North York  Lawrence Heights\\n\n6      M6A        North York    Lawrence Manor\\n\n7      M7A  Downtown Toronto      Queen's Park\\n\n8      M8A      Not assigned      Not assigned\\n\n9      M9A      Queen's Park      Not assigned\\n"
                    },
                    "execution_count": 606,
                    "metadata": {},
                    "output_type": "execute_result"
                }
            ],
            "source": "dictionary={title:column for (title,column) in col}\ndf=pd.DataFrame(dictionary)\n\ndf.head(10)"
        },
        {
            "cell_type": "code",
            "execution_count": 607,
            "metadata": {},
            "outputs": [
                {
                    "data": {
                        "text/html": "<div>\n<style scoped>\n    .dataframe tbody tr th:only-of-type {\n        vertical-align: middle;\n    }\n\n    .dataframe tbody tr th {\n        vertical-align: top;\n    }\n\n    .dataframe thead th {\n        text-align: right;\n    }\n</style>\n<table border=\"1\" class=\"dataframe\">\n  <thead>\n    <tr style=\"text-align: right;\">\n      <th></th>\n      <th>Postcode</th>\n      <th>Borough</th>\n      <th>Neighbourhood</th>\n    </tr>\n  </thead>\n  <tbody>\n    <tr>\n      <th>282</th>\n      <td>M8Z</td>\n      <td>Etobicoke</td>\n      <td>Mimico NW\\n</td>\n    </tr>\n    <tr>\n      <th>283</th>\n      <td>M8Z</td>\n      <td>Etobicoke</td>\n      <td>The Queensway West\\n</td>\n    </tr>\n    <tr>\n      <th>284</th>\n      <td>M8Z</td>\n      <td>Etobicoke</td>\n      <td>Royal York South West\\n</td>\n    </tr>\n    <tr>\n      <th>285</th>\n      <td>M8Z</td>\n      <td>Etobicoke</td>\n      <td>South of Bloor\\n</td>\n    </tr>\n    <tr>\n      <th>286</th>\n      <td>M9Z</td>\n      <td>Not assigned</td>\n      <td>Not assigned\\n</td>\n    </tr>\n  </tbody>\n</table>\n</div>",
                        "text/plain": "    Postcode       Borough          Neighbourhood\\n\n282      M8Z     Etobicoke              Mimico NW\\n\n283      M8Z     Etobicoke     The Queensway West\\n\n284      M8Z     Etobicoke  Royal York South West\\n\n285      M8Z     Etobicoke         South of Bloor\\n\n286      M9Z  Not assigned           Not assigned\\n"
                    },
                    "execution_count": 607,
                    "metadata": {},
                    "output_type": "execute_result"
                }
            ],
            "source": "df.tail()"
        },
        {
            "cell_type": "markdown",
            "metadata": {},
            "source": "Renaming column <span style=\"color:red\">'Postcode'</span> to <span style=\"color:red\">'PostalCode'</span>."
        },
        {
            "cell_type": "code",
            "execution_count": 608,
            "metadata": {},
            "outputs": [
                {
                    "data": {
                        "text/html": "<div>\n<style scoped>\n    .dataframe tbody tr th:only-of-type {\n        vertical-align: middle;\n    }\n\n    .dataframe tbody tr th {\n        vertical-align: top;\n    }\n\n    .dataframe thead th {\n        text-align: right;\n    }\n</style>\n<table border=\"1\" class=\"dataframe\">\n  <thead>\n    <tr style=\"text-align: right;\">\n      <th></th>\n      <th>PostalCode</th>\n      <th>Borough</th>\n      <th>Neighbourhood</th>\n    </tr>\n  </thead>\n  <tbody>\n    <tr>\n      <th>0</th>\n      <td>M1A</td>\n      <td>Not assigned</td>\n      <td>Not assigned\\n</td>\n    </tr>\n    <tr>\n      <th>1</th>\n      <td>M2A</td>\n      <td>Not assigned</td>\n      <td>Not assigned\\n</td>\n    </tr>\n    <tr>\n      <th>2</th>\n      <td>M3A</td>\n      <td>North York</td>\n      <td>Parkwoods\\n</td>\n    </tr>\n    <tr>\n      <th>3</th>\n      <td>M4A</td>\n      <td>North York</td>\n      <td>Victoria Village\\n</td>\n    </tr>\n    <tr>\n      <th>4</th>\n      <td>M5A</td>\n      <td>Downtown Toronto</td>\n      <td>Harbourfront\\n</td>\n    </tr>\n  </tbody>\n</table>\n</div>",
                        "text/plain": "  PostalCode           Borough       Neighbourhood\n0        M1A      Not assigned      Not assigned\\n\n1        M2A      Not assigned      Not assigned\\n\n2        M3A        North York         Parkwoods\\n\n3        M4A        North York  Victoria Village\\n\n4        M5A  Downtown Toronto      Harbourfront\\n"
                    },
                    "execution_count": 608,
                    "metadata": {},
                    "output_type": "execute_result"
                }
            ],
            "source": "df.rename(columns={'Postcode': 'PostalCode', 'Neighbourhood\\n': 'Neighbourhood'}, inplace=True)\ndf.head()"
        },
        {
            "cell_type": "markdown",
            "metadata": {},
            "source": "Check if the all names in the column <span style=\"color:red\">'Neighbourhood'</span> have a 'dirty' tail like as <span style=\"color:red\">'\\n'</span>."
        },
        {
            "cell_type": "code",
            "execution_count": 609,
            "metadata": {},
            "outputs": [
                {
                    "data": {
                        "text/plain": "1"
                    },
                    "execution_count": 609,
                    "metadata": {},
                    "output_type": "execute_result"
                }
            ],
            "source": "len(pd.unique(df['Neighbourhood'].apply(lambda s: s[-1:])))"
        },
        {
            "cell_type": "markdown",
            "metadata": {},
            "source": "Yes. Each of them have identical \"tin can tied to them legs\". Since we found out it, we can apply very simple rule to cut off this \"tin can\"."
        },
        {
            "cell_type": "code",
            "execution_count": 610,
            "metadata": {},
            "outputs": [
                {
                    "data": {
                        "text/html": "<div>\n<style scoped>\n    .dataframe tbody tr th:only-of-type {\n        vertical-align: middle;\n    }\n\n    .dataframe tbody tr th {\n        vertical-align: top;\n    }\n\n    .dataframe thead th {\n        text-align: right;\n    }\n</style>\n<table border=\"1\" class=\"dataframe\">\n  <thead>\n    <tr style=\"text-align: right;\">\n      <th></th>\n      <th>PostalCode</th>\n      <th>Borough</th>\n      <th>Neighbourhood</th>\n    </tr>\n  </thead>\n  <tbody>\n    <tr>\n      <th>0</th>\n      <td>M1A</td>\n      <td>Not assigned</td>\n      <td>Not assigned</td>\n    </tr>\n    <tr>\n      <th>1</th>\n      <td>M2A</td>\n      <td>Not assigned</td>\n      <td>Not assigned</td>\n    </tr>\n    <tr>\n      <th>2</th>\n      <td>M3A</td>\n      <td>North York</td>\n      <td>Parkwoods</td>\n    </tr>\n    <tr>\n      <th>3</th>\n      <td>M4A</td>\n      <td>North York</td>\n      <td>Victoria Village</td>\n    </tr>\n    <tr>\n      <th>4</th>\n      <td>M5A</td>\n      <td>Downtown Toronto</td>\n      <td>Harbourfront</td>\n    </tr>\n  </tbody>\n</table>\n</div>",
                        "text/plain": "  PostalCode           Borough     Neighbourhood\n0        M1A      Not assigned      Not assigned\n1        M2A      Not assigned      Not assigned\n2        M3A        North York         Parkwoods\n3        M4A        North York  Victoria Village\n4        M5A  Downtown Toronto      Harbourfront"
                    },
                    "execution_count": 610,
                    "metadata": {},
                    "output_type": "execute_result"
                }
            ],
            "source": "df['Neighbourhood'] = df.Neighbourhood.apply(lambda s: s[:-1])\ndf.head()"
        },
        {
            "cell_type": "markdown",
            "metadata": {},
            "source": "Now, DataFrame is consist of three columns: <span style=\"color:red\">'PostalCode'</span>, <span style=\"color:red\">'Borough'</span>, and <span style=\"color:red\">'Neighborhood'</span>."
        },
        {
            "cell_type": "markdown",
            "metadata": {},
            "source": "* __Only process the cells that have an assigned <span style=\"color:red\">'Borough'</span>. Ignore cells with a <span style=\"color:red\">'Borough'</span> that is 'Not assigned'.__\n\nLeave rows which have no missing data in <span style=\"color:red\">'Borough'</span> column."
        },
        {
            "cell_type": "code",
            "execution_count": 611,
            "metadata": {},
            "outputs": [
                {
                    "data": {
                        "text/html": "<div>\n<style scoped>\n    .dataframe tbody tr th:only-of-type {\n        vertical-align: middle;\n    }\n\n    .dataframe tbody tr th {\n        vertical-align: top;\n    }\n\n    .dataframe thead th {\n        text-align: right;\n    }\n</style>\n<table border=\"1\" class=\"dataframe\">\n  <thead>\n    <tr style=\"text-align: right;\">\n      <th></th>\n      <th>PostalCode</th>\n      <th>Borough</th>\n      <th>Neighbourhood</th>\n    </tr>\n  </thead>\n  <tbody>\n    <tr>\n      <th>2</th>\n      <td>M3A</td>\n      <td>North York</td>\n      <td>Parkwoods</td>\n    </tr>\n    <tr>\n      <th>3</th>\n      <td>M4A</td>\n      <td>North York</td>\n      <td>Victoria Village</td>\n    </tr>\n    <tr>\n      <th>4</th>\n      <td>M5A</td>\n      <td>Downtown Toronto</td>\n      <td>Harbourfront</td>\n    </tr>\n    <tr>\n      <th>5</th>\n      <td>M6A</td>\n      <td>North York</td>\n      <td>Lawrence Heights</td>\n    </tr>\n    <tr>\n      <th>6</th>\n      <td>M6A</td>\n      <td>North York</td>\n      <td>Lawrence Manor</td>\n    </tr>\n  </tbody>\n</table>\n</div>",
                        "text/plain": "  PostalCode           Borough     Neighbourhood\n2        M3A        North York         Parkwoods\n3        M4A        North York  Victoria Village\n4        M5A  Downtown Toronto      Harbourfront\n5        M6A        North York  Lawrence Heights\n6        M6A        North York    Lawrence Manor"
                    },
                    "execution_count": 611,
                    "metadata": {},
                    "output_type": "execute_result"
                }
            ],
            "source": "df = df[df['Borough'] != 'Not assigned']\ndf.head()"
        },
        {
            "cell_type": "markdown",
            "metadata": {},
            "source": "Reset the indexes. They must be started from 0."
        },
        {
            "cell_type": "code",
            "execution_count": 612,
            "metadata": {},
            "outputs": [
                {
                    "data": {
                        "text/html": "<div>\n<style scoped>\n    .dataframe tbody tr th:only-of-type {\n        vertical-align: middle;\n    }\n\n    .dataframe tbody tr th {\n        vertical-align: top;\n    }\n\n    .dataframe thead th {\n        text-align: right;\n    }\n</style>\n<table border=\"1\" class=\"dataframe\">\n  <thead>\n    <tr style=\"text-align: right;\">\n      <th></th>\n      <th>PostalCode</th>\n      <th>Borough</th>\n      <th>Neighbourhood</th>\n    </tr>\n  </thead>\n  <tbody>\n    <tr>\n      <th>0</th>\n      <td>M3A</td>\n      <td>North York</td>\n      <td>Parkwoods</td>\n    </tr>\n    <tr>\n      <th>1</th>\n      <td>M4A</td>\n      <td>North York</td>\n      <td>Victoria Village</td>\n    </tr>\n    <tr>\n      <th>2</th>\n      <td>M5A</td>\n      <td>Downtown Toronto</td>\n      <td>Harbourfront</td>\n    </tr>\n    <tr>\n      <th>3</th>\n      <td>M6A</td>\n      <td>North York</td>\n      <td>Lawrence Heights</td>\n    </tr>\n    <tr>\n      <th>4</th>\n      <td>M6A</td>\n      <td>North York</td>\n      <td>Lawrence Manor</td>\n    </tr>\n  </tbody>\n</table>\n</div>",
                        "text/plain": "  PostalCode           Borough     Neighbourhood\n0        M3A        North York         Parkwoods\n1        M4A        North York  Victoria Village\n2        M5A  Downtown Toronto      Harbourfront\n3        M6A        North York  Lawrence Heights\n4        M6A        North York    Lawrence Manor"
                    },
                    "execution_count": 612,
                    "metadata": {},
                    "output_type": "execute_result"
                }
            ],
            "source": "df.reset_index(inplace=True, drop=True)\ndf.head()"
        },
        {
            "cell_type": "markdown",
            "metadata": {},
            "source": "* __If a cell has a <span style=\"color:red\">'Borough'</span> but a 'Not assigned' <span style=\"color:red\">'Neighbourhood'</span>, then the <span style=\"color:red\">'Neighbourhood'</span> content will be the same as the <span style=\"color:red\">'Borough'</span>.__ \n\nChecking it."
        },
        {
            "cell_type": "code",
            "execution_count": 613,
            "metadata": {},
            "outputs": [
                {
                    "data": {
                        "text/html": "<div>\n<style scoped>\n    .dataframe tbody tr th:only-of-type {\n        vertical-align: middle;\n    }\n\n    .dataframe tbody tr th {\n        vertical-align: top;\n    }\n\n    .dataframe thead th {\n        text-align: right;\n    }\n</style>\n<table border=\"1\" class=\"dataframe\">\n  <thead>\n    <tr style=\"text-align: right;\">\n      <th></th>\n      <th>PostalCode</th>\n      <th>Borough</th>\n      <th>Neighbourhood</th>\n    </tr>\n  </thead>\n  <tbody>\n    <tr>\n      <th>6</th>\n      <td>M9A</td>\n      <td>Queen's Park</td>\n      <td>Queen's Park</td>\n    </tr>\n  </tbody>\n</table>\n</div>",
                        "text/plain": "  PostalCode       Borough Neighbourhood\n6        M9A  Queen's Park  Queen's Park"
                    },
                    "execution_count": 613,
                    "metadata": {},
                    "output_type": "execute_result"
                }
            ],
            "source": "test = df[df['Neighbourhood'] == 'Not assigned']\ntest.loc[:, 'Neighbourhood'] = test.loc[:, 'Borough']\ntest.head()"
        },
        {
            "cell_type": "markdown",
            "metadata": {},
            "source": "Fix it according to instructions."
        },
        {
            "cell_type": "code",
            "execution_count": 614,
            "metadata": {},
            "outputs": [
                {
                    "data": {
                        "text/html": "<div>\n<style scoped>\n    .dataframe tbody tr th:only-of-type {\n        vertical-align: middle;\n    }\n\n    .dataframe tbody tr th {\n        vertical-align: top;\n    }\n\n    .dataframe thead th {\n        text-align: right;\n    }\n</style>\n<table border=\"1\" class=\"dataframe\">\n  <thead>\n    <tr style=\"text-align: right;\">\n      <th></th>\n      <th>PostalCode</th>\n      <th>Borough</th>\n      <th>Neighbourhood</th>\n    </tr>\n  </thead>\n  <tbody>\n    <tr>\n      <th>0</th>\n      <td>M3A</td>\n      <td>North York</td>\n      <td>Parkwoods</td>\n    </tr>\n    <tr>\n      <th>1</th>\n      <td>M4A</td>\n      <td>North York</td>\n      <td>Victoria Village</td>\n    </tr>\n    <tr>\n      <th>2</th>\n      <td>M5A</td>\n      <td>Downtown Toronto</td>\n      <td>Harbourfront</td>\n    </tr>\n    <tr>\n      <th>3</th>\n      <td>M6A</td>\n      <td>North York</td>\n      <td>Lawrence Heights</td>\n    </tr>\n    <tr>\n      <th>4</th>\n      <td>M6A</td>\n      <td>North York</td>\n      <td>Lawrence Manor</td>\n    </tr>\n    <tr>\n      <th>5</th>\n      <td>M7A</td>\n      <td>Downtown Toronto</td>\n      <td>Queen's Park</td>\n    </tr>\n    <tr>\n      <th>6</th>\n      <td>M9A</td>\n      <td>Queen's Park</td>\n      <td>Queen's Park</td>\n    </tr>\n    <tr>\n      <th>7</th>\n      <td>M1B</td>\n      <td>Scarborough</td>\n      <td>Rouge</td>\n    </tr>\n    <tr>\n      <th>8</th>\n      <td>M1B</td>\n      <td>Scarborough</td>\n      <td>Malvern</td>\n    </tr>\n    <tr>\n      <th>9</th>\n      <td>M3B</td>\n      <td>North York</td>\n      <td>Don Mills North</td>\n    </tr>\n  </tbody>\n</table>\n</div>",
                        "text/plain": "  PostalCode           Borough     Neighbourhood\n0        M3A        North York         Parkwoods\n1        M4A        North York  Victoria Village\n2        M5A  Downtown Toronto      Harbourfront\n3        M6A        North York  Lawrence Heights\n4        M6A        North York    Lawrence Manor\n5        M7A  Downtown Toronto      Queen's Park\n6        M9A      Queen's Park      Queen's Park\n7        M1B       Scarborough             Rouge\n8        M1B       Scarborough           Malvern\n9        M3B        North York   Don Mills North"
                    },
                    "execution_count": 614,
                    "metadata": {},
                    "output_type": "execute_result"
                }
            ],
            "source": "df[df['Neighbourhood'] == 'Not assigned'] = test.loc[:, :] \ndf.head(10)"
        },
        {
            "cell_type": "markdown",
            "metadata": {},
            "source": "* __More than one neighborhood can exist in one postal code area. These names will be combined into one row with the neighborhoods separated with a comma.__"
        },
        {
            "cell_type": "markdown",
            "metadata": {},
            "source": "Converting consist of <span style=\"color:red\">'Neighbourhood'</span> column to the <code><span style=\"color:green\">list</span></code> object, then grouping <span style=\"color:red\">'Neighbourhood'</span> by <span style=\"color:red\">'PostalCode'</span> and finally apply <code>sum()</code> for joining the grouped lists all together."
        },
        {
            "cell_type": "code",
            "execution_count": 615,
            "metadata": {},
            "outputs": [
                {
                    "data": {
                        "text/html": "<div>\n<style scoped>\n    .dataframe tbody tr th:only-of-type {\n        vertical-align: middle;\n    }\n\n    .dataframe tbody tr th {\n        vertical-align: top;\n    }\n\n    .dataframe thead th {\n        text-align: right;\n    }\n</style>\n<table border=\"1\" class=\"dataframe\">\n  <thead>\n    <tr style=\"text-align: right;\">\n      <th></th>\n      <th>Neighbourhood</th>\n    </tr>\n    <tr>\n      <th>PostalCode</th>\n      <th></th>\n    </tr>\n  </thead>\n  <tbody>\n    <tr>\n      <th>M1B</th>\n      <td>[Rouge, Malvern]</td>\n    </tr>\n    <tr>\n      <th>M1C</th>\n      <td>[Highland Creek, Rouge Hill, Port Union]</td>\n    </tr>\n    <tr>\n      <th>M1E</th>\n      <td>[Guildwood, Morningside, West Hill]</td>\n    </tr>\n    <tr>\n      <th>M1G</th>\n      <td>[Woburn]</td>\n    </tr>\n    <tr>\n      <th>M1H</th>\n      <td>[Cedarbrae]</td>\n    </tr>\n  </tbody>\n</table>\n</div>",
                        "text/plain": "                                       Neighbourhood\nPostalCode                                          \nM1B                                 [Rouge, Malvern]\nM1C         [Highland Creek, Rouge Hill, Port Union]\nM1E              [Guildwood, Morningside, West Hill]\nM1G                                         [Woburn]\nM1H                                      [Cedarbrae]"
                    },
                    "execution_count": 615,
                    "metadata": {},
                    "output_type": "execute_result"
                }
            ],
            "source": "df['Neighbourhood'] = df.Neighbourhood.apply(lambda s: [s])\npc = df[['PostalCode', 'Neighbourhood']]\npc = pc.groupby(['PostalCode']).sum()\npc.head()"
        },
        {
            "cell_type": "markdown",
            "metadata": {},
            "source": "Releasing  the <span style=\"color:red\">'Neighbourhood'</span> content out  of squares."
        },
        {
            "cell_type": "code",
            "execution_count": 616,
            "metadata": {},
            "outputs": [
                {
                    "data": {
                        "text/html": "<div>\n<style scoped>\n    .dataframe tbody tr th:only-of-type {\n        vertical-align: middle;\n    }\n\n    .dataframe tbody tr th {\n        vertical-align: top;\n    }\n\n    .dataframe thead th {\n        text-align: right;\n    }\n</style>\n<table border=\"1\" class=\"dataframe\">\n  <thead>\n    <tr style=\"text-align: right;\">\n      <th></th>\n      <th>PostalCode</th>\n      <th>Neighbourhood</th>\n    </tr>\n  </thead>\n  <tbody>\n    <tr>\n      <th>0</th>\n      <td>M1B</td>\n      <td>Rouge, Malvern</td>\n    </tr>\n    <tr>\n      <th>1</th>\n      <td>M1C</td>\n      <td>Highland Creek, Rouge Hill, Port Union</td>\n    </tr>\n    <tr>\n      <th>2</th>\n      <td>M1E</td>\n      <td>Guildwood, Morningside, West Hill</td>\n    </tr>\n    <tr>\n      <th>3</th>\n      <td>M1G</td>\n      <td>Woburn</td>\n    </tr>\n    <tr>\n      <th>4</th>\n      <td>M1H</td>\n      <td>Cedarbrae</td>\n    </tr>\n  </tbody>\n</table>\n</div>",
                        "text/plain": "  PostalCode                           Neighbourhood\n0        M1B                          Rouge, Malvern\n1        M1C  Highland Creek, Rouge Hill, Port Union\n2        M1E       Guildwood, Morningside, West Hill\n3        M1G                                  Woburn\n4        M1H                               Cedarbrae"
                    },
                    "execution_count": 616,
                    "metadata": {},
                    "output_type": "execute_result"
                }
            ],
            "source": "pc['Neighbourhood'] = pc.Neighbourhood.apply(lambda l: ', '.join(l))\npc.reset_index(inplace=True)\npc.head()"
        },
        {
            "cell_type": "markdown",
            "metadata": {},
            "source": "Check length equality of DataFrames which must be join together."
        },
        {
            "cell_type": "code",
            "execution_count": 617,
            "metadata": {},
            "outputs": [
                {
                    "data": {
                        "text/plain": "False"
                    },
                    "execution_count": 617,
                    "metadata": {},
                    "output_type": "execute_result"
                }
            ],
            "source": "df.shape == pc.shape"
        },
        {
            "cell_type": "markdown",
            "metadata": {},
            "source": "Since the <code>.shape</code> of <code>df</code> and <code>pd</code> DataFrames is not the same, there is needs another DataFrame for joining <code>df</code> and <code>pd</code> DataFrames. "
        },
        {
            "cell_type": "markdown",
            "metadata": {},
            "source": "Syntezing the DataFrame <code>clear_df</code> from scratch."
        },
        {
            "cell_type": "code",
            "execution_count": 618,
            "metadata": {},
            "outputs": [
                {
                    "data": {
                        "text/html": "<div>\n<style scoped>\n    .dataframe tbody tr th:only-of-type {\n        vertical-align: middle;\n    }\n\n    .dataframe tbody tr th {\n        vertical-align: top;\n    }\n\n    .dataframe thead th {\n        text-align: right;\n    }\n</style>\n<table border=\"1\" class=\"dataframe\">\n  <thead>\n    <tr style=\"text-align: right;\">\n      <th></th>\n      <th>Borough</th>\n      <th>Neighbourhood</th>\n    </tr>\n    <tr>\n      <th>PostalCode</th>\n      <th></th>\n      <th></th>\n    </tr>\n  </thead>\n  <tbody>\n    <tr>\n      <th>M3A</th>\n      <td>False</td>\n      <td>False</td>\n    </tr>\n    <tr>\n      <th>M4A</th>\n      <td>False</td>\n      <td>False</td>\n    </tr>\n    <tr>\n      <th>M5A</th>\n      <td>False</td>\n      <td>False</td>\n    </tr>\n    <tr>\n      <th>M6A</th>\n      <td>False</td>\n      <td>False</td>\n    </tr>\n    <tr>\n      <th>M7A</th>\n      <td>False</td>\n      <td>False</td>\n    </tr>\n  </tbody>\n</table>\n</div>",
                        "text/plain": "            Borough  Neighbourhood\nPostalCode                        \nM3A           False          False\nM4A           False          False\nM5A           False          False\nM6A           False          False\nM7A           False          False"
                    },
                    "execution_count": 618,
                    "metadata": {},
                    "output_type": "execute_result"
                }
            ],
            "source": "clear_df = pd.DataFrame()\nclear_df['PostalCode'] = pd.unique(df.PostalCode)\nclear_df['Borough'] = False\nclear_df['Neighbourhood'] = False\nclear_df = clear_df.set_index('PostalCode')\nclear_df.head()"
        },
        {
            "cell_type": "markdown",
            "metadata": {},
            "source": "Loading the data to the <code>clear_df</code> DataFrame."
        },
        {
            "cell_type": "code",
            "execution_count": 619,
            "metadata": {},
            "outputs": [
                {
                    "data": {
                        "text/html": "<div>\n<style scoped>\n    .dataframe tbody tr th:only-of-type {\n        vertical-align: middle;\n    }\n\n    .dataframe tbody tr th {\n        vertical-align: top;\n    }\n\n    .dataframe thead th {\n        text-align: right;\n    }\n</style>\n<table border=\"1\" class=\"dataframe\">\n  <thead>\n    <tr style=\"text-align: right;\">\n      <th></th>\n      <th>PostalCode</th>\n      <th>Borough</th>\n      <th>Neighbourhood</th>\n    </tr>\n  </thead>\n  <tbody>\n    <tr>\n      <th>0</th>\n      <td>M3A</td>\n      <td>North York</td>\n      <td>Parkwoods</td>\n    </tr>\n    <tr>\n      <th>1</th>\n      <td>M4A</td>\n      <td>North York</td>\n      <td>Victoria Village</td>\n    </tr>\n    <tr>\n      <th>2</th>\n      <td>M5A</td>\n      <td>Downtown Toronto</td>\n      <td>Harbourfront</td>\n    </tr>\n    <tr>\n      <th>3</th>\n      <td>M6A</td>\n      <td>North York</td>\n      <td>Lawrence Heights, Lawrence Manor</td>\n    </tr>\n    <tr>\n      <th>4</th>\n      <td>M7A</td>\n      <td>Downtown Toronto</td>\n      <td>Queen's Park</td>\n    </tr>\n    <tr>\n      <th>5</th>\n      <td>M9A</td>\n      <td>Queen's Park</td>\n      <td>Queen's Park</td>\n    </tr>\n    <tr>\n      <th>6</th>\n      <td>M1B</td>\n      <td>Scarborough</td>\n      <td>Rouge, Malvern</td>\n    </tr>\n    <tr>\n      <th>7</th>\n      <td>M3B</td>\n      <td>North York</td>\n      <td>Don Mills North</td>\n    </tr>\n    <tr>\n      <th>8</th>\n      <td>M4B</td>\n      <td>East York</td>\n      <td>Woodbine Gardens, Parkview Hill</td>\n    </tr>\n    <tr>\n      <th>9</th>\n      <td>M5B</td>\n      <td>Downtown Toronto</td>\n      <td>Ryerson, Garden District</td>\n    </tr>\n    <tr>\n      <th>10</th>\n      <td>M6B</td>\n      <td>North York</td>\n      <td>Glencairn</td>\n    </tr>\n    <tr>\n      <th>11</th>\n      <td>M9B</td>\n      <td>Etobicoke</td>\n      <td>Cloverdale, Islington, Martin Grove, Princess ...</td>\n    </tr>\n  </tbody>\n</table>\n</div>",
                        "text/plain": "   PostalCode           Borough  \\\n0         M3A        North York   \n1         M4A        North York   \n2         M5A  Downtown Toronto   \n3         M6A        North York   \n4         M7A  Downtown Toronto   \n5         M9A      Queen's Park   \n6         M1B       Scarborough   \n7         M3B        North York   \n8         M4B         East York   \n9         M5B  Downtown Toronto   \n10        M6B        North York   \n11        M9B         Etobicoke   \n\n                                        Neighbourhood  \n0                                           Parkwoods  \n1                                    Victoria Village  \n2                                        Harbourfront  \n3                    Lawrence Heights, Lawrence Manor  \n4                                        Queen's Park  \n5                                        Queen's Park  \n6                                      Rouge, Malvern  \n7                                     Don Mills North  \n8                     Woodbine Gardens, Parkview Hill  \n9                            Ryerson, Garden District  \n10                                          Glencairn  \n11  Cloverdale, Islington, Martin Grove, Princess ...  "
                    },
                    "execution_count": 619,
                    "metadata": {},
                    "output_type": "execute_result"
                }
            ],
            "source": "df['Neighbourhood'] = df.Neighbourhood.apply(lambda s: s[0])\nfor pcd, b, _ in df.values:\n    clear_df.loc[pcd, 'Borough'] = b\nfor pcd, nb in pc.values:\n    clear_df.loc[pcd, 'Neighbourhood'] = nb\nclear_df.reset_index().head(12)"
        },
        {
            "cell_type": "markdown",
            "metadata": {},
            "source": "Let ensure that in an original DataFrame <code>df</code> it won't happen that one postal code will the same for two or more different boroughs."
        },
        {
            "cell_type": "code",
            "execution_count": 620,
            "metadata": {},
            "outputs": [
                {
                    "name": "stdout",
                    "output_type": "stream",
                    "text": "Number of distinct boroughs corresponding to each postal code not greater than 1.\n"
                }
            ],
            "source": "test = clear_df.Borough.apply(lambda l: l.split(','))\ntest = test.apply(lambda l: len(l))\nprint('Number of distinct boroughs corresponding to each postal code not greater than {}.'.format(test.max()))"
        },
        {
            "cell_type": "code",
            "execution_count": 621,
            "metadata": {},
            "outputs": [
                {
                    "data": {
                        "text/html": "<div>\n<style scoped>\n    .dataframe tbody tr th:only-of-type {\n        vertical-align: middle;\n    }\n\n    .dataframe tbody tr th {\n        vertical-align: top;\n    }\n\n    .dataframe thead th {\n        text-align: right;\n    }\n</style>\n<table border=\"1\" class=\"dataframe\">\n  <thead>\n    <tr style=\"text-align: right;\">\n      <th></th>\n      <th>PostalCode</th>\n      <th>Borough</th>\n      <th>Neighbourhood</th>\n    </tr>\n  </thead>\n  <tbody>\n    <tr>\n      <th>0</th>\n      <td>M5G</td>\n      <td>Downtown Toronto</td>\n      <td>Central Bay Street</td>\n    </tr>\n    <tr>\n      <th>1</th>\n      <td>M2H</td>\n      <td>North York</td>\n      <td>Hillcrest Village</td>\n    </tr>\n    <tr>\n      <th>2</th>\n      <td>M4B</td>\n      <td>East York</td>\n      <td>Woodbine Gardens, Parkview Hill</td>\n    </tr>\n    <tr>\n      <th>3</th>\n      <td>M1J</td>\n      <td>Scarborough</td>\n      <td>Scarborough Village</td>\n    </tr>\n    <tr>\n      <th>4</th>\n      <td>M4G</td>\n      <td>East York</td>\n      <td>Leaside</td>\n    </tr>\n    <tr>\n      <th>5</th>\n      <td>M4M</td>\n      <td>East Toronto</td>\n      <td>Studio District</td>\n    </tr>\n    <tr>\n      <th>6</th>\n      <td>M1R</td>\n      <td>Scarborough</td>\n      <td>Maryvale, Wexford</td>\n    </tr>\n    <tr>\n      <th>7</th>\n      <td>M9V</td>\n      <td>Etobicoke</td>\n      <td>Albion Gardens, Beaumond Heights, Humbergate, ...</td>\n    </tr>\n    <tr>\n      <th>8</th>\n      <td>M9L</td>\n      <td>North York</td>\n      <td>Humber Summit</td>\n    </tr>\n    <tr>\n      <th>9</th>\n      <td>M5V</td>\n      <td>Downtown Toronto</td>\n      <td>CN Tower, Bathurst Quay, Island airport, Harbo...</td>\n    </tr>\n    <tr>\n      <th>10</th>\n      <td>M1B</td>\n      <td>Scarborough</td>\n      <td>Rouge, Malvern</td>\n    </tr>\n    <tr>\n      <th>11</th>\n      <td>M5A</td>\n      <td>Downtown Toronto</td>\n      <td>Harbourfront</td>\n    </tr>\n  </tbody>\n</table>\n</div>",
                        "text/plain": "   PostalCode           Borough  \\\n0         M5G  Downtown Toronto   \n1         M2H        North York   \n2         M4B         East York   \n3         M1J       Scarborough   \n4         M4G         East York   \n5         M4M      East Toronto   \n6         M1R       Scarborough   \n7         M9V         Etobicoke   \n8         M9L        North York   \n9         M5V  Downtown Toronto   \n10        M1B       Scarborough   \n11        M5A  Downtown Toronto   \n\n                                        Neighbourhood  \n0                                  Central Bay Street  \n1                                   Hillcrest Village  \n2                     Woodbine Gardens, Parkview Hill  \n3                                 Scarborough Village  \n4                                             Leaside  \n5                                     Studio District  \n6                                   Maryvale, Wexford  \n7   Albion Gardens, Beaumond Heights, Humbergate, ...  \n8                                       Humber Summit  \n9   CN Tower, Bathurst Quay, Island airport, Harbo...  \n10                                     Rouge, Malvern  \n11                                       Harbourfront  "
                    },
                    "execution_count": 621,
                    "metadata": {},
                    "output_type": "execute_result"
                }
            ],
            "source": "p_codes = ['M5G', 'M2H', 'M4B', 'M1J', 'M4G', 'M4M', 'M1R', 'M9V', 'M9L', 'M5V', 'M1B', 'M5A']\nclear_df.loc[p_codes, :].reset_index()"
        },
        {
            "cell_type": "markdown",
            "metadata": {},
            "source": "It seems I made a mistake: 'M5A' must has two neighborhoods 'Regent Park' and 'Harbourfron', but there is 'Harbourfron' only. What about postal code \n'M5A', how many rows in <code>df</code> are containing it"
        },
        {
            "cell_type": "code",
            "execution_count": 622,
            "metadata": {},
            "outputs": [
                {
                    "data": {
                        "text/html": "<div>\n<style scoped>\n    .dataframe tbody tr th:only-of-type {\n        vertical-align: middle;\n    }\n\n    .dataframe tbody tr th {\n        vertical-align: top;\n    }\n\n    .dataframe thead th {\n        text-align: right;\n    }\n</style>\n<table border=\"1\" class=\"dataframe\">\n  <thead>\n    <tr style=\"text-align: right;\">\n      <th></th>\n      <th>PostalCode</th>\n      <th>Borough</th>\n      <th>Neighbourhood</th>\n    </tr>\n  </thead>\n  <tbody>\n    <tr>\n      <th>2</th>\n      <td>M5A</td>\n      <td>Downtown Toronto</td>\n      <td>Harbourfront</td>\n    </tr>\n  </tbody>\n</table>\n</div>",
                        "text/plain": "  PostalCode           Borough Neighbourhood\n2        M5A  Downtown Toronto  Harbourfront"
                    },
                    "execution_count": 622,
                    "metadata": {},
                    "output_type": "execute_result"
                }
            ],
            "source": "df[df['PostalCode'] == 'M5A']"
        },
        {
            "cell_type": "markdown",
            "metadata": {},
            "source": "Only one row! It is not my mistake. Let ensure by visit [Wikipedia page](https://en.wikipedia.org/wiki/List_of_postal_codes_of_Canada:_M \"List of postal codes of Canada: M\")."
        },
        {
            "cell_type": "code",
            "execution_count": 623,
            "metadata": {},
            "outputs": [
                {
                    "data": {
                        "text/plain": "0"
                    },
                    "execution_count": 623,
                    "metadata": {},
                    "output_type": "execute_result"
                }
            ],
            "source": "len(df[df['Neighbourhood'] == 'Regent Park'])"
        },
        {
            "cell_type": "markdown",
            "metadata": {},
            "source": "There is 0 rows which has 'Regent Park' as a neighborhood."
        },
        {
            "cell_type": "markdown",
            "metadata": {},
            "source": "* __In the last cell of your notebook, use the <code>.shape</code> method to print the number of rows of your dataframe.__"
        },
        {
            "cell_type": "code",
            "execution_count": 624,
            "metadata": {},
            "outputs": [
                {
                    "data": {
                        "text/plain": "(103, 2)"
                    },
                    "execution_count": 624,
                    "metadata": {},
                    "output_type": "execute_result"
                }
            ],
            "source": "clear_df.shape"
        },
        {
            "cell_type": "code",
            "execution_count": 625,
            "metadata": {},
            "outputs": [
                {
                    "ename": "SyntaxError",
                    "evalue": "invalid syntax (<ipython-input-625-179a0f8c9e5e>, line 1)",
                    "output_type": "error",
                    "traceback": [
                        "\u001b[0;36m  File \u001b[0;32m\"<ipython-input-625-179a0f8c9e5e>\"\u001b[0;36m, line \u001b[0;32m1\u001b[0m\n\u001b[0;31m    https://github.com/Tungsteniac/Tungsteniac/blob/master/Neighborhoods%20in%20Toronto.ipynb\u001b[0m\n\u001b[0m           ^\u001b[0m\n\u001b[0;31mSyntaxError\u001b[0m\u001b[0;31m:\u001b[0m invalid syntax\n"
                    ]
                }
            ],
            "source": "https://github.com/Tungsteniac/Tungsteniac/blob/master/Neighborhoods%20in%20Toronto.ipynb"
        }
    ],
    "metadata": {
        "kernelspec": {
            "display_name": "Python 3.6",
            "language": "python",
            "name": "python3"
        },
        "language_info": {
            "codemirror_mode": {
                "name": "ipython",
                "version": 3
            },
            "file_extension": ".py",
            "mimetype": "text/x-python",
            "name": "python",
            "nbconvert_exporter": "python",
            "pygments_lexer": "ipython3",
            "version": "3.6.9"
        }
    },
    "nbformat": 4,
    "nbformat_minor": 1
}